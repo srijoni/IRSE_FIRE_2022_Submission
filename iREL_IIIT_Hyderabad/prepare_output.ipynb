{
 "cells": [
  {
   "cell_type": "code",
   "execution_count": 1,
   "metadata": {},
   "outputs": [],
   "source": [
    "import os\n",
    "os.chdir('/scratch/sagarsj42')"
   ]
  },
  {
   "cell_type": "code",
   "execution_count": 2,
   "metadata": {},
   "outputs": [],
   "source": [
    "import pandas as pd"
   ]
  },
  {
   "cell_type": "code",
   "execution_count": 3,
   "metadata": {},
   "outputs": [
    {
     "data": {
      "text/plain": [
       "'train_batch_size=4 | eval_batch_size=8 | accumulate_gradient_steps=2 | n_epochs=5 | \\ndev_ratio=10% | criteria_for_best_model=dev_f1_score | evaluated_every_epoch=1 | \\nlr=6e-5 | lr_schedule=warmup_with_cosine_decay | lr_warmup_ratio=0.4 | \\noptimizer=AdamW'"
      ]
     },
     "execution_count": 3,
     "metadata": {},
     "output_type": "execute_result"
    }
   ],
   "source": [
    "common_desc_col = '''train_batch_size=4 | eval_batch_size=8 | accumulate_gradient_steps=2 | n_epochs=5 | \n",
    "dev_ratio=10% | criteria_for_best_model=dev_f1_score | evaluated_every_epoch=1 | \n",
    "lr=6e-5 | lr_schedule=warmup_with_cosine_decay | lr_warmup_ratio=0.4 | \n",
    "optimizer=AdamW'''\n",
    "\n",
    "common_desc_col"
   ]
  },
  {
   "cell_type": "code",
   "execution_count": 4,
   "metadata": {},
   "outputs": [],
   "source": [
    "out_cols = ['Experiment No', 'Experiment Details', 'F1 Score', 'Accuracy']"
   ]
  },
  {
   "cell_type": "code",
   "execution_count": 5,
   "metadata": {},
   "outputs": [
    {
     "data": {
      "text/html": [
       "<div>\n",
       "<style scoped>\n",
       "    .dataframe tbody tr th:only-of-type {\n",
       "        vertical-align: middle;\n",
       "    }\n",
       "\n",
       "    .dataframe tbody tr th {\n",
       "        vertical-align: top;\n",
       "    }\n",
       "\n",
       "    .dataframe thead th {\n",
       "        text-align: right;\n",
       "    }\n",
       "</style>\n",
       "<table border=\"1\" class=\"dataframe\">\n",
       "  <thead>\n",
       "    <tr style=\"text-align: right;\">\n",
       "      <th></th>\n",
       "      <th>Experiment No</th>\n",
       "      <th>Experiment Details</th>\n",
       "      <th>F1 Score</th>\n",
       "      <th>Accuracy</th>\n",
       "    </tr>\n",
       "  </thead>\n",
       "  <tbody>\n",
       "    <tr>\n",
       "      <th>0</th>\n",
       "      <td>1</td>\n",
       "      <td>bert-base-uncased | train_batch_size=4 | eval_...</td>\n",
       "      <td>45.52</td>\n",
       "      <td>78.72</td>\n",
       "    </tr>\n",
       "    <tr>\n",
       "      <th>1</th>\n",
       "      <td>2</td>\n",
       "      <td>albert-base-v2 | train_batch_size=4 | eval_bat...</td>\n",
       "      <td>61.84</td>\n",
       "      <td>65.23</td>\n",
       "    </tr>\n",
       "    <tr>\n",
       "      <th>2</th>\n",
       "      <td>3</td>\n",
       "      <td>xlnet-base-cased | train_batch_size=4 | eval_b...</td>\n",
       "      <td>82.84</td>\n",
       "      <td>89.61</td>\n",
       "    </tr>\n",
       "    <tr>\n",
       "      <th>3</th>\n",
       "      <td>4</td>\n",
       "      <td>microsoft/mpnet-base | train_batch_size=4 | ev...</td>\n",
       "      <td>80.27</td>\n",
       "      <td>88.41</td>\n",
       "    </tr>\n",
       "    <tr>\n",
       "      <th>4</th>\n",
       "      <td>5</td>\n",
       "      <td>roberta-base | train_batch_size=4 | eval_batch...</td>\n",
       "      <td>99.46</td>\n",
       "      <td>99.70</td>\n",
       "    </tr>\n",
       "    <tr>\n",
       "      <th>5</th>\n",
       "      <td>6</td>\n",
       "      <td>microsoft/codebert-base | train_batch_size=4 |...</td>\n",
       "      <td>99.46</td>\n",
       "      <td>99.70</td>\n",
       "    </tr>\n",
       "  </tbody>\n",
       "</table>\n",
       "</div>"
      ],
      "text/plain": [
       "   Experiment No                                 Experiment Details  F1 Score  \\\n",
       "0              1  bert-base-uncased | train_batch_size=4 | eval_...     45.52   \n",
       "1              2  albert-base-v2 | train_batch_size=4 | eval_bat...     61.84   \n",
       "2              3  xlnet-base-cased | train_batch_size=4 | eval_b...     82.84   \n",
       "3              4  microsoft/mpnet-base | train_batch_size=4 | ev...     80.27   \n",
       "4              5  roberta-base | train_batch_size=4 | eval_batch...     99.46   \n",
       "5              6  microsoft/codebert-base | train_batch_size=4 |...     99.46   \n",
       "\n",
       "   Accuracy  \n",
       "0     78.72  \n",
       "1     65.23  \n",
       "2     89.61  \n",
       "3     88.41  \n",
       "4     99.70  \n",
       "5     99.70  "
      ]
     },
     "execution_count": 5,
     "metadata": {},
     "output_type": "execute_result"
    }
   ],
   "source": [
    "exp_res = [\n",
    "    [1, 'bert-base-uncased | ' + common_desc_col, 45.52, 78.72],\n",
    "    [2, 'albert-base-v2 | ' + common_desc_col, 61.84, 65.23],\n",
    "    [3, 'xlnet-base-cased | ' + common_desc_col, 82.84, 89.61],\n",
    "    [4, 'microsoft/mpnet-base | ' + common_desc_col, 80.27, 88.41],\n",
    "    [5, 'roberta-base | ' + common_desc_col, 99.46, 99.70],\n",
    "    [6, 'microsoft/codebert-base | ' + common_desc_col, 99.46, 99.70]\n",
    "]\n",
    "\n",
    "exp_res_df = pd.DataFrame(exp_res, columns=out_cols)\n",
    "exp_res_df.drop_duplicates()\n",
    "\n",
    "exp_res_df"
   ]
  },
  {
   "cell_type": "code",
   "execution_count": 6,
   "metadata": {},
   "outputs": [],
   "source": [
    "out_file = 'Primary_Results_iREL.csv'\n",
    "\n",
    "exp_res_df.to_csv(out_file, index=False)"
   ]
  }
 ],
 "metadata": {
  "kernelspec": {
   "display_name": "Python 3.9.10 ('base')",
   "language": "python",
   "name": "python3"
  },
  "language_info": {
   "codemirror_mode": {
    "name": "ipython",
    "version": 3
   },
   "file_extension": ".py",
   "mimetype": "text/x-python",
   "name": "python",
   "nbconvert_exporter": "python",
   "pygments_lexer": "ipython3",
   "version": "3.9.10"
  },
  "orig_nbformat": 4,
  "vscode": {
   "interpreter": {
    "hash": "57ba542a7e01434f0efba8458620b8a5d586d5cdb58a6ff11a95f38e977018f2"
   }
  }
 },
 "nbformat": 4,
 "nbformat_minor": 2
}
