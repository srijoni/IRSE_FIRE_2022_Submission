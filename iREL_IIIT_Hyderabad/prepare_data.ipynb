{
 "cells": [
  {
   "cell_type": "code",
   "execution_count": 1,
   "metadata": {},
   "outputs": [],
   "source": [
    "import os\n",
    "os.chdir('/scratch/sagarsj42/')"
   ]
  },
  {
   "cell_type": "code",
   "execution_count": 2,
   "metadata": {},
   "outputs": [],
   "source": [
    "import pandas as pd\n",
    "from sklearn.model_selection import train_test_split"
   ]
  },
  {
   "cell_type": "code",
   "execution_count": 3,
   "metadata": {},
   "outputs": [],
   "source": [
    "TRAIN_FILE = 'IRSE_FIRE_2022_Track_Training_Data_preprocessed.csv'\n",
    "TEST_FILE = 'IRSE_FIRE_2022_Track_Test_Data_1000.csv'"
   ]
  },
  {
   "cell_type": "code",
   "execution_count": 4,
   "metadata": {},
   "outputs": [
    {
     "name": "stdout",
     "output_type": "stream",
     "text": [
      "<class 'pandas.core.frame.DataFrame'>\n",
      "RangeIndex: 8047 entries, 0 to 8046\n",
      "Data columns (total 3 columns):\n",
      " #   Column                    Non-Null Count  Dtype \n",
      "---  ------                    --------------  ----- \n",
      " 0   Comments                  8047 non-null   object\n",
      " 1   Surrounding Code Context  8047 non-null   object\n",
      " 2   Class                     8047 non-null   object\n",
      "dtypes: object(3)\n",
      "memory usage: 188.7+ KB\n",
      "None\n"
     ]
    },
    {
     "data": {
      "text/html": [
       "<div>\n",
       "<style scoped>\n",
       "    .dataframe tbody tr th:only-of-type {\n",
       "        vertical-align: middle;\n",
       "    }\n",
       "\n",
       "    .dataframe tbody tr th {\n",
       "        vertical-align: top;\n",
       "    }\n",
       "\n",
       "    .dataframe thead th {\n",
       "        text-align: right;\n",
       "    }\n",
       "</style>\n",
       "<table border=\"1\" class=\"dataframe\">\n",
       "  <thead>\n",
       "    <tr style=\"text-align: right;\">\n",
       "      <th></th>\n",
       "      <th>Comments</th>\n",
       "      <th>Surrounding Code Context</th>\n",
       "      <th>Class</th>\n",
       "    </tr>\n",
       "  </thead>\n",
       "  <tbody>\n",
       "    <tr>\n",
       "      <th>0</th>\n",
       "      <td>/*test 529*/</td>\n",
       "      <td>-10.   int res = 0;\\n-9.   CURL *curl = NULL;\\...</td>\n",
       "      <td>Not Useful</td>\n",
       "    </tr>\n",
       "    <tr>\n",
       "      <th>1</th>\n",
       "      <td>/*test 525*/</td>\n",
       "      <td>-2.     fprintf(stderr, \"Usage: lib529 [url] [...</td>\n",
       "      <td>Not Useful</td>\n",
       "    </tr>\n",
       "    <tr>\n",
       "      <th>2</th>\n",
       "      <td>/*done*/</td>\n",
       "      <td>-10.   multi_add_handle(m, curl);\\n-9.   for(;...</td>\n",
       "      <td>Not Useful</td>\n",
       "    </tr>\n",
       "    <tr>\n",
       "      <th>3</th>\n",
       "      <td>/*test 529*/</td>\n",
       "      <td>-10.   int res = 0;\\n-9.   CURL *curl = NULL;\\...</td>\n",
       "      <td>Not Useful</td>\n",
       "    </tr>\n",
       "    <tr>\n",
       "      <th>4</th>\n",
       "      <td>/*test 525*/</td>\n",
       "      <td>-2.     fprintf(stderr, \"Usage: lib529 [url] [...</td>\n",
       "      <td>Not Useful</td>\n",
       "    </tr>\n",
       "  </tbody>\n",
       "</table>\n",
       "</div>"
      ],
      "text/plain": [
       "       Comments                           Surrounding Code Context       Class\n",
       "0  /*test 529*/  -10.   int res = 0;\\n-9.   CURL *curl = NULL;\\...  Not Useful\n",
       "1  /*test 525*/  -2.     fprintf(stderr, \"Usage: lib529 [url] [...  Not Useful\n",
       "2      /*done*/  -10.   multi_add_handle(m, curl);\\n-9.   for(;...  Not Useful\n",
       "3  /*test 529*/  -10.   int res = 0;\\n-9.   CURL *curl = NULL;\\...  Not Useful\n",
       "4  /*test 525*/  -2.     fprintf(stderr, \"Usage: lib529 [url] [...  Not Useful"
      ]
     },
     "execution_count": 4,
     "metadata": {},
     "output_type": "execute_result"
    }
   ],
   "source": [
    "irse_df = pd.read_csv(TRAIN_FILE)\n",
    "\n",
    "print(irse_df.info())\n",
    "\n",
    "irse_df.head()"
   ]
  },
  {
   "cell_type": "code",
   "execution_count": 5,
   "metadata": {},
   "outputs": [
    {
     "name": "stdout",
     "output_type": "stream",
     "text": [
      "<class 'pandas.core.frame.DataFrame'>\n",
      "RangeIndex: 1001 entries, 0 to 1000\n",
      "Data columns (total 3 columns):\n",
      " #   Column                    Non-Null Count  Dtype \n",
      "---  ------                    --------------  ----- \n",
      " 0   Comments                  1001 non-null   object\n",
      " 1   Surrounding Code Context  1001 non-null   object\n",
      " 2   Class                     1001 non-null   object\n",
      "dtypes: object(3)\n",
      "memory usage: 23.6+ KB\n",
      "None\n"
     ]
    },
    {
     "data": {
      "text/html": [
       "<div>\n",
       "<style scoped>\n",
       "    .dataframe tbody tr th:only-of-type {\n",
       "        vertical-align: middle;\n",
       "    }\n",
       "\n",
       "    .dataframe tbody tr th {\n",
       "        vertical-align: top;\n",
       "    }\n",
       "\n",
       "    .dataframe thead th {\n",
       "        text-align: right;\n",
       "    }\n",
       "</style>\n",
       "<table border=\"1\" class=\"dataframe\">\n",
       "  <thead>\n",
       "    <tr style=\"text-align: right;\">\n",
       "      <th></th>\n",
       "      <th>Comments</th>\n",
       "      <th>Surrounding Code Context</th>\n",
       "      <th>Class</th>\n",
       "    </tr>\n",
       "  </thead>\n",
       "  <tbody>\n",
       "    <tr>\n",
       "      <th>0</th>\n",
       "      <td>/*READ_INT_FUNCTIONS*/</td>\n",
       "      <td>-5.    if (png_ptr != NULL)\\n-4.       png_war...</td>\n",
       "      <td>Not Useful</td>\n",
       "    </tr>\n",
       "    <tr>\n",
       "      <th>1</th>\n",
       "      <td>/*Put the chunk name into png_ptr-&gt;chunk_name.*/</td>\n",
       "      <td>-2.    png_read_data(png_ptr, buf, 8);\\n-1.   ...</td>\n",
       "      <td>Not Useful</td>\n",
       "    </tr>\n",
       "    <tr>\n",
       "      <th>2</th>\n",
       "      <td>/*critical*/</td>\n",
       "      <td>-8. png_crc_read(png_structrp png_ptr, png_byt...</td>\n",
       "      <td>Not Useful</td>\n",
       "    </tr>\n",
       "    <tr>\n",
       "      <th>3</th>\n",
       "      <td>/*READ_iCCP|iTXt|pCAL|sCAL|sPLT|tEXt|zTXt|SEQU...</td>\n",
       "      <td>-9.       {\\n-8.          if (warn != 0)\\n-7. ...</td>\n",
       "      <td>Not Useful</td>\n",
       "    </tr>\n",
       "    <tr>\n",
       "      <th>4</th>\n",
       "      <td>/*ZLIB_VERNUM &gt;= 0x1240*/</td>\n",
       "      <td>#if ZLIB_VERNUM &gt;= 0x1240\\n\\n/*ZLIB_VERNUM &gt;= ...</td>\n",
       "      <td>Not Useful</td>\n",
       "    </tr>\n",
       "  </tbody>\n",
       "</table>\n",
       "</div>"
      ],
      "text/plain": [
       "                                            Comments  \\\n",
       "0                             /*READ_INT_FUNCTIONS*/   \n",
       "1   /*Put the chunk name into png_ptr->chunk_name.*/   \n",
       "2                                       /*critical*/   \n",
       "3  /*READ_iCCP|iTXt|pCAL|sCAL|sPLT|tEXt|zTXt|SEQU...   \n",
       "4                          /*ZLIB_VERNUM >= 0x1240*/   \n",
       "\n",
       "                            Surrounding Code Context       Class  \n",
       "0  -5.    if (png_ptr != NULL)\\n-4.       png_war...  Not Useful  \n",
       "1  -2.    png_read_data(png_ptr, buf, 8);\\n-1.   ...  Not Useful  \n",
       "2  -8. png_crc_read(png_structrp png_ptr, png_byt...  Not Useful  \n",
       "3  -9.       {\\n-8.          if (warn != 0)\\n-7. ...  Not Useful  \n",
       "4  #if ZLIB_VERNUM >= 0x1240\\n\\n/*ZLIB_VERNUM >= ...  Not Useful  "
      ]
     },
     "execution_count": 5,
     "metadata": {},
     "output_type": "execute_result"
    }
   ],
   "source": [
    "test_df = pd.read_csv(TEST_FILE)\n",
    "\n",
    "print(test_df.info())\n",
    "\n",
    "test_df.head()"
   ]
  },
  {
   "cell_type": "code",
   "execution_count": 6,
   "metadata": {},
   "outputs": [
    {
     "data": {
      "text/plain": [
       "['Not Useful', 'Useful']"
      ]
     },
     "execution_count": 6,
     "metadata": {},
     "output_type": "execute_result"
    }
   ],
   "source": [
    "classes = sorted(irse_df['Class'].value_counts().index.tolist())\n",
    "\n",
    "classes"
   ]
  },
  {
   "cell_type": "code",
   "execution_count": 7,
   "metadata": {},
   "outputs": [
    {
     "name": "stdout",
     "output_type": "stream",
     "text": [
      "<class 'pandas.core.frame.DataFrame'>\n",
      "RangeIndex: 8047 entries, 0 to 8046\n",
      "Data columns (total 4 columns):\n",
      " #   Column                    Non-Null Count  Dtype \n",
      "---  ------                    --------------  ----- \n",
      " 0   Comments                  8047 non-null   object\n",
      " 1   Surrounding Code Context  8047 non-null   object\n",
      " 2   Class                     8047 non-null   object\n",
      " 3   label                     8047 non-null   int64 \n",
      "dtypes: int64(1), object(3)\n",
      "memory usage: 251.6+ KB\n",
      "<class 'pandas.core.frame.DataFrame'>\n",
      "RangeIndex: 1001 entries, 0 to 1000\n",
      "Data columns (total 4 columns):\n",
      " #   Column                    Non-Null Count  Dtype \n",
      "---  ------                    --------------  ----- \n",
      " 0   Comments                  1001 non-null   object\n",
      " 1   Surrounding Code Context  1001 non-null   object\n",
      " 2   Class                     1001 non-null   object\n",
      " 3   label                     1001 non-null   int64 \n",
      "dtypes: int64(1), object(3)\n",
      "memory usage: 31.4+ KB\n"
     ]
    },
    {
     "data": {
      "text/plain": [
       "(None, None)"
      ]
     },
     "execution_count": 7,
     "metadata": {},
     "output_type": "execute_result"
    }
   ],
   "source": [
    "irse_df['label'] = irse_df['Class'].apply(lambda l : classes.index(l))\n",
    "test_df['label'] = test_df['Class'].apply(lambda l : classes.index(l))\n",
    "\n",
    "irse_df.info(), test_df.info()"
   ]
  },
  {
   "cell_type": "code",
   "execution_count": 8,
   "metadata": {},
   "outputs": [
    {
     "name": "stdout",
     "output_type": "stream",
     "text": [
      "<class 'pandas.core.frame.DataFrame'>\n",
      "Int64Index: 5949 entries, 0 to 8046\n",
      "Data columns (total 4 columns):\n",
      " #   Column                    Non-Null Count  Dtype \n",
      "---  ------                    --------------  ----- \n",
      " 0   Comments                  5949 non-null   object\n",
      " 1   Surrounding Code Context  5949 non-null   object\n",
      " 2   Class                     5949 non-null   object\n",
      " 3   label                     5949 non-null   int64 \n",
      "dtypes: int64(1), object(3)\n",
      "memory usage: 232.4+ KB\n"
     ]
    }
   ],
   "source": [
    "irse_df = irse_df.drop_duplicates()\n",
    "\n",
    "irse_df.info()"
   ]
  },
  {
   "cell_type": "code",
   "execution_count": 9,
   "metadata": {},
   "outputs": [
    {
     "data": {
      "text/plain": [
       "((5354, 4), (595, 4))"
      ]
     },
     "execution_count": 9,
     "metadata": {},
     "output_type": "execute_result"
    }
   ],
   "source": [
    "train_df, dev_df = train_test_split(irse_df, test_size=0.1, \n",
    "    stratify=irse_df['label'])\n",
    "\n",
    "train_df.shape, dev_df.shape"
   ]
  },
  {
   "cell_type": "code",
   "execution_count": 10,
   "metadata": {},
   "outputs": [],
   "source": [
    "train_df.to_csv('irse.train.csv', index=False)\n",
    "dev_df.to_csv('irse.dev.csv', index=False)"
   ]
  },
  {
   "cell_type": "code",
   "execution_count": 11,
   "metadata": {},
   "outputs": [
    {
     "data": {
      "text/plain": [
       "167"
      ]
     },
     "execution_count": 11,
     "metadata": {},
     "output_type": "execute_result"
    }
   ],
   "source": [
    "pp_comments = irse_df['Comments']\n",
    "pp_contexts = irse_df['Surrounding Code Context']\n",
    "pp_labels = irse_df['label']\n",
    "match_indexes = list()\n",
    "\n",
    "for comment, context, label in zip(pp_comments, pp_contexts, pp_labels):\n",
    "    match = test_df[(test_df['Comments'] == comment) & \\\n",
    "        (test_df['Surrounding Code Context'] == context)]\n",
    "    match_indexes.extend(match.index.tolist())\n",
    "    \n",
    "    match_labels = match['label'].tolist()\n",
    "    for ml in match_labels:\n",
    "        assert ml == label\n",
    "match_indexes = list(set(match_indexes))\n",
    "\n",
    "len(match_indexes)"
   ]
  },
  {
   "cell_type": "code",
   "execution_count": 12,
   "metadata": {},
   "outputs": [
    {
     "name": "stdout",
     "output_type": "stream",
     "text": [
      "<class 'pandas.core.frame.DataFrame'>\n",
      "Int64Index: 678 entries, 0 to 1000\n",
      "Data columns (total 4 columns):\n",
      " #   Column                    Non-Null Count  Dtype \n",
      "---  ------                    --------------  ----- \n",
      " 0   Comments                  678 non-null    object\n",
      " 1   Surrounding Code Context  678 non-null    object\n",
      " 2   Class                     678 non-null    object\n",
      " 3   label                     678 non-null    int64 \n",
      "dtypes: int64(1), object(3)\n",
      "memory usage: 26.5+ KB\n",
      "None\n"
     ]
    },
    {
     "data": {
      "text/html": [
       "<div>\n",
       "<style scoped>\n",
       "    .dataframe tbody tr th:only-of-type {\n",
       "        vertical-align: middle;\n",
       "    }\n",
       "\n",
       "    .dataframe tbody tr th {\n",
       "        vertical-align: top;\n",
       "    }\n",
       "\n",
       "    .dataframe thead th {\n",
       "        text-align: right;\n",
       "    }\n",
       "</style>\n",
       "<table border=\"1\" class=\"dataframe\">\n",
       "  <thead>\n",
       "    <tr style=\"text-align: right;\">\n",
       "      <th></th>\n",
       "      <th>Comments</th>\n",
       "      <th>Surrounding Code Context</th>\n",
       "      <th>Class</th>\n",
       "      <th>label</th>\n",
       "    </tr>\n",
       "  </thead>\n",
       "  <tbody>\n",
       "    <tr>\n",
       "      <th>0</th>\n",
       "      <td>/*READ_INT_FUNCTIONS*/</td>\n",
       "      <td>-5.    if (png_ptr != NULL)\\n-4.       png_war...</td>\n",
       "      <td>Not Useful</td>\n",
       "      <td>0</td>\n",
       "    </tr>\n",
       "    <tr>\n",
       "      <th>1</th>\n",
       "      <td>/*Put the chunk name into png_ptr-&gt;chunk_name.*/</td>\n",
       "      <td>-2.    png_read_data(png_ptr, buf, 8);\\n-1.   ...</td>\n",
       "      <td>Not Useful</td>\n",
       "      <td>0</td>\n",
       "    </tr>\n",
       "    <tr>\n",
       "      <th>2</th>\n",
       "      <td>/*critical*/</td>\n",
       "      <td>-8. png_crc_read(png_structrp png_ptr, png_byt...</td>\n",
       "      <td>Not Useful</td>\n",
       "      <td>0</td>\n",
       "    </tr>\n",
       "    <tr>\n",
       "      <th>3</th>\n",
       "      <td>/*READ_iCCP|iTXt|pCAL|sCAL|sPLT|tEXt|zTXt|SEQU...</td>\n",
       "      <td>-9.       {\\n-8.          if (warn != 0)\\n-7. ...</td>\n",
       "      <td>Not Useful</td>\n",
       "      <td>0</td>\n",
       "    </tr>\n",
       "    <tr>\n",
       "      <th>4</th>\n",
       "      <td>/*ZLIB_VERNUM &gt;= 0x1240*/</td>\n",
       "      <td>#if ZLIB_VERNUM &gt;= 0x1240\\n\\n/*ZLIB_VERNUM &gt;= ...</td>\n",
       "      <td>Not Useful</td>\n",
       "      <td>0</td>\n",
       "    </tr>\n",
       "  </tbody>\n",
       "</table>\n",
       "</div>"
      ],
      "text/plain": [
       "                                            Comments  \\\n",
       "0                             /*READ_INT_FUNCTIONS*/   \n",
       "1   /*Put the chunk name into png_ptr->chunk_name.*/   \n",
       "2                                       /*critical*/   \n",
       "3  /*READ_iCCP|iTXt|pCAL|sCAL|sPLT|tEXt|zTXt|SEQU...   \n",
       "4                          /*ZLIB_VERNUM >= 0x1240*/   \n",
       "\n",
       "                            Surrounding Code Context       Class  label  \n",
       "0  -5.    if (png_ptr != NULL)\\n-4.       png_war...  Not Useful      0  \n",
       "1  -2.    png_read_data(png_ptr, buf, 8);\\n-1.   ...  Not Useful      0  \n",
       "2  -8. png_crc_read(png_structrp png_ptr, png_byt...  Not Useful      0  \n",
       "3  -9.       {\\n-8.          if (warn != 0)\\n-7. ...  Not Useful      0  \n",
       "4  #if ZLIB_VERNUM >= 0x1240\\n\\n/*ZLIB_VERNUM >= ...  Not Useful      0  "
      ]
     },
     "execution_count": 12,
     "metadata": {},
     "output_type": "execute_result"
    }
   ],
   "source": [
    "test_df_pure = test_df.drop_duplicates().drop(index=match_indexes, errors='ignore')\n",
    "\n",
    "print(test_df_pure.info())\n",
    "\n",
    "test_df_pure.head()"
   ]
  },
  {
   "cell_type": "code",
   "execution_count": 13,
   "metadata": {},
   "outputs": [],
   "source": [
    "test_df_pure.to_csv('irse.test.csv', index=False)"
   ]
  },
  {
   "cell_type": "code",
   "execution_count": null,
   "metadata": {},
   "outputs": [],
   "source": [
    "test_df.to_csv('irse.given-test.csv', index=False)"
   ]
  },
  {
   "cell_type": "code",
   "execution_count": null,
   "metadata": {},
   "outputs": [],
   "source": []
  }
 ],
 "metadata": {
  "kernelspec": {
   "display_name": "Python 3.9.10 ('base')",
   "language": "python",
   "name": "python3"
  },
  "language_info": {
   "codemirror_mode": {
    "name": "ipython",
    "version": 3
   },
   "file_extension": ".py",
   "mimetype": "text/x-python",
   "name": "python",
   "nbconvert_exporter": "python",
   "pygments_lexer": "ipython3",
   "version": "3.9.10"
  },
  "orig_nbformat": 4,
  "vscode": {
   "interpreter": {
    "hash": "57ba542a7e01434f0efba8458620b8a5d586d5cdb58a6ff11a95f38e977018f2"
   }
  }
 },
 "nbformat": 4,
 "nbformat_minor": 2
}
