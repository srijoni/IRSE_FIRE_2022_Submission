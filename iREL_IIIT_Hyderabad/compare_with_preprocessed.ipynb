{
 "cells": [
  {
   "cell_type": "code",
   "execution_count": 1,
   "metadata": {},
   "outputs": [],
   "source": [
    "import os\n",
    "os.chdir('/scratch/sagarsj42')"
   ]
  },
  {
   "cell_type": "code",
   "execution_count": 2,
   "metadata": {},
   "outputs": [],
   "source": [
    "import pandas as pd"
   ]
  },
  {
   "cell_type": "code",
   "execution_count": 3,
   "metadata": {},
   "outputs": [
    {
     "name": "stdout",
     "output_type": "stream",
     "text": [
      "<class 'pandas.core.frame.DataFrame'>\n",
      "RangeIndex: 8657 entries, 0 to 8656\n",
      "Data columns (total 5 columns):\n",
      " #   Column                    Non-Null Count  Dtype  \n",
      "---  ------                    --------------  -----  \n",
      " 0   Unnamed: 0                8657 non-null   int64  \n",
      " 1   Comments                  8657 non-null   object \n",
      " 2   Surrounding Code Context  8657 non-null   object \n",
      " 3   Class                     8657 non-null   object \n",
      " 4   Unnamed: 4                2 non-null      float64\n",
      "dtypes: float64(1), int64(1), object(3)\n",
      "memory usage: 338.3+ KB\n",
      "None\n"
     ]
    },
    {
     "data": {
      "text/html": [
       "<div>\n",
       "<style scoped>\n",
       "    .dataframe tbody tr th:only-of-type {\n",
       "        vertical-align: middle;\n",
       "    }\n",
       "\n",
       "    .dataframe tbody tr th {\n",
       "        vertical-align: top;\n",
       "    }\n",
       "\n",
       "    .dataframe thead th {\n",
       "        text-align: right;\n",
       "    }\n",
       "</style>\n",
       "<table border=\"1\" class=\"dataframe\">\n",
       "  <thead>\n",
       "    <tr style=\"text-align: right;\">\n",
       "      <th></th>\n",
       "      <th>Unnamed: 0</th>\n",
       "      <th>Comments</th>\n",
       "      <th>Surrounding Code Context</th>\n",
       "      <th>Class</th>\n",
       "      <th>Unnamed: 4</th>\n",
       "    </tr>\n",
       "  </thead>\n",
       "  <tbody>\n",
       "    <tr>\n",
       "      <th>0</th>\n",
       "      <td>1</td>\n",
       "      <td>/*test 529*/</td>\n",
       "      <td>-10.   int res = 0;\\n-9.   CURL *curl = NULL;\\...</td>\n",
       "      <td>Not Useful</td>\n",
       "      <td>NaN</td>\n",
       "    </tr>\n",
       "    <tr>\n",
       "      <th>1</th>\n",
       "      <td>2</td>\n",
       "      <td>/*test 525*/</td>\n",
       "      <td>-2.     fprintf(stderr, \"Usage: lib529 [url] [...</td>\n",
       "      <td>Not Useful</td>\n",
       "      <td>NaN</td>\n",
       "    </tr>\n",
       "    <tr>\n",
       "      <th>2</th>\n",
       "      <td>3</td>\n",
       "      <td>/*done*/</td>\n",
       "      <td>-10.   multi_add_handle(m, curl);\\n-9.   for(;...</td>\n",
       "      <td>Not Useful</td>\n",
       "      <td>NaN</td>\n",
       "    </tr>\n",
       "    <tr>\n",
       "      <th>3</th>\n",
       "      <td>4</td>\n",
       "      <td>/*test 529*/</td>\n",
       "      <td>-10.   int res = 0;\\n-9.   CURL *curl = NULL;\\...</td>\n",
       "      <td>Not Useful</td>\n",
       "      <td>NaN</td>\n",
       "    </tr>\n",
       "    <tr>\n",
       "      <th>4</th>\n",
       "      <td>5</td>\n",
       "      <td>/*test 525*/</td>\n",
       "      <td>-2.     fprintf(stderr, \"Usage: lib529 [url] [...</td>\n",
       "      <td>Not Useful</td>\n",
       "      <td>NaN</td>\n",
       "    </tr>\n",
       "    <tr>\n",
       "      <th>5</th>\n",
       "      <td>6</td>\n",
       "      <td>/*argv1 = URL\\n * argv2 = proxy\\n * argv3 = no...</td>\n",
       "      <td>-9.  *\\n-8.  * You may opt to use, copy, modif...</td>\n",
       "      <td>Not Useful</td>\n",
       "      <td>NaN</td>\n",
       "    </tr>\n",
       "    <tr>\n",
       "      <th>6</th>\n",
       "      <td>7</td>\n",
       "      <td>/*enable ascii/text mode*/</td>\n",
       "      <td>-10.   if(!curl) {\\n-9.     fprintf(stderr, \"c...</td>\n",
       "      <td>Not Useful</td>\n",
       "      <td>NaN</td>\n",
       "    </tr>\n",
       "    <tr>\n",
       "      <th>7</th>\n",
       "      <td>8</td>\n",
       "      <td>/*100 ms*/</td>\n",
       "      <td>-10.   multi_add_handle(mhandle, handle);\\n-9....</td>\n",
       "      <td>Not Useful</td>\n",
       "      <td>NaN</td>\n",
       "    </tr>\n",
       "    <tr>\n",
       "      <th>8</th>\n",
       "      <td>9</td>\n",
       "      <td>/*on failure don't abort just issue a warning*/</td>\n",
       "      <td>-10.    * point the resulting soft limit is ou...</td>\n",
       "      <td>Not Useful</td>\n",
       "      <td>NaN</td>\n",
       "    </tr>\n",
       "    <tr>\n",
       "      <th>9</th>\n",
       "      <td>10</td>\n",
       "      <td>/*on failure don't abort just issue a warning*/</td>\n",
       "      <td>-10.    * point the resulting soft limit is ou...</td>\n",
       "      <td>Not Useful</td>\n",
       "      <td>NaN</td>\n",
       "    </tr>\n",
       "  </tbody>\n",
       "</table>\n",
       "</div>"
      ],
      "text/plain": [
       "   Unnamed: 0                                           Comments  \\\n",
       "0           1                                       /*test 529*/   \n",
       "1           2                                       /*test 525*/   \n",
       "2           3                                           /*done*/   \n",
       "3           4                                       /*test 529*/   \n",
       "4           5                                       /*test 525*/   \n",
       "5           6  /*argv1 = URL\\n * argv2 = proxy\\n * argv3 = no...   \n",
       "6           7                         /*enable ascii/text mode*/   \n",
       "7           8                                         /*100 ms*/   \n",
       "8           9    /*on failure don't abort just issue a warning*/   \n",
       "9          10    /*on failure don't abort just issue a warning*/   \n",
       "\n",
       "                            Surrounding Code Context       Class  Unnamed: 4  \n",
       "0  -10.   int res = 0;\\n-9.   CURL *curl = NULL;\\...  Not Useful         NaN  \n",
       "1  -2.     fprintf(stderr, \"Usage: lib529 [url] [...  Not Useful         NaN  \n",
       "2  -10.   multi_add_handle(m, curl);\\n-9.   for(;...  Not Useful         NaN  \n",
       "3  -10.   int res = 0;\\n-9.   CURL *curl = NULL;\\...  Not Useful         NaN  \n",
       "4  -2.     fprintf(stderr, \"Usage: lib529 [url] [...  Not Useful         NaN  \n",
       "5  -9.  *\\n-8.  * You may opt to use, copy, modif...  Not Useful         NaN  \n",
       "6  -10.   if(!curl) {\\n-9.     fprintf(stderr, \"c...  Not Useful         NaN  \n",
       "7  -10.   multi_add_handle(mhandle, handle);\\n-9....  Not Useful         NaN  \n",
       "8  -10.    * point the resulting soft limit is ou...  Not Useful         NaN  \n",
       "9  -10.    * point the resulting soft limit is ou...  Not Useful         NaN  "
      ]
     },
     "execution_count": 3,
     "metadata": {},
     "output_type": "execute_result"
    }
   ],
   "source": [
    "irse_df = pd.read_csv('IRSE_FIRE_2022_Track_Training_Data.csv')\n",
    "\n",
    "print(irse_df.info())\n",
    "\n",
    "irse_df.head(10)"
   ]
  },
  {
   "cell_type": "code",
   "execution_count": 4,
   "metadata": {},
   "outputs": [
    {
     "name": "stdout",
     "output_type": "stream",
     "text": [
      "<class 'pandas.core.frame.DataFrame'>\n",
      "RangeIndex: 1001 entries, 0 to 1000\n",
      "Data columns (total 3 columns):\n",
      " #   Column                    Non-Null Count  Dtype \n",
      "---  ------                    --------------  ----- \n",
      " 0   Comments                  1001 non-null   object\n",
      " 1   Surrounding Code Context  1001 non-null   object\n",
      " 2   Class                     1001 non-null   object\n",
      "dtypes: object(3)\n",
      "memory usage: 23.6+ KB\n",
      "None\n"
     ]
    },
    {
     "data": {
      "text/html": [
       "<div>\n",
       "<style scoped>\n",
       "    .dataframe tbody tr th:only-of-type {\n",
       "        vertical-align: middle;\n",
       "    }\n",
       "\n",
       "    .dataframe tbody tr th {\n",
       "        vertical-align: top;\n",
       "    }\n",
       "\n",
       "    .dataframe thead th {\n",
       "        text-align: right;\n",
       "    }\n",
       "</style>\n",
       "<table border=\"1\" class=\"dataframe\">\n",
       "  <thead>\n",
       "    <tr style=\"text-align: right;\">\n",
       "      <th></th>\n",
       "      <th>Comments</th>\n",
       "      <th>Surrounding Code Context</th>\n",
       "      <th>Class</th>\n",
       "    </tr>\n",
       "  </thead>\n",
       "  <tbody>\n",
       "    <tr>\n",
       "      <th>0</th>\n",
       "      <td>/*READ_INT_FUNCTIONS*/</td>\n",
       "      <td>-5.    if (png_ptr != NULL)\\n-4.       png_war...</td>\n",
       "      <td>Not Useful</td>\n",
       "    </tr>\n",
       "    <tr>\n",
       "      <th>1</th>\n",
       "      <td>/*Put the chunk name into png_ptr-&gt;chunk_name.*/</td>\n",
       "      <td>-2.    png_read_data(png_ptr, buf, 8);\\n-1.   ...</td>\n",
       "      <td>Not Useful</td>\n",
       "    </tr>\n",
       "    <tr>\n",
       "      <th>2</th>\n",
       "      <td>/*critical*/</td>\n",
       "      <td>-8. png_crc_read(png_structrp png_ptr, png_byt...</td>\n",
       "      <td>Not Useful</td>\n",
       "    </tr>\n",
       "    <tr>\n",
       "      <th>3</th>\n",
       "      <td>/*READ_iCCP|iTXt|pCAL|sCAL|sPLT|tEXt|zTXt|SEQU...</td>\n",
       "      <td>-9.       {\\n-8.          if (warn != 0)\\n-7. ...</td>\n",
       "      <td>Not Useful</td>\n",
       "    </tr>\n",
       "    <tr>\n",
       "      <th>4</th>\n",
       "      <td>/*ZLIB_VERNUM &gt;= 0x1240*/</td>\n",
       "      <td>#if ZLIB_VERNUM &gt;= 0x1240\\n\\n/*ZLIB_VERNUM &gt;= ...</td>\n",
       "      <td>Not Useful</td>\n",
       "    </tr>\n",
       "  </tbody>\n",
       "</table>\n",
       "</div>"
      ],
      "text/plain": [
       "                                            Comments  \\\n",
       "0                             /*READ_INT_FUNCTIONS*/   \n",
       "1   /*Put the chunk name into png_ptr->chunk_name.*/   \n",
       "2                                       /*critical*/   \n",
       "3  /*READ_iCCP|iTXt|pCAL|sCAL|sPLT|tEXt|zTXt|SEQU...   \n",
       "4                          /*ZLIB_VERNUM >= 0x1240*/   \n",
       "\n",
       "                            Surrounding Code Context       Class  \n",
       "0  -5.    if (png_ptr != NULL)\\n-4.       png_war...  Not Useful  \n",
       "1  -2.    png_read_data(png_ptr, buf, 8);\\n-1.   ...  Not Useful  \n",
       "2  -8. png_crc_read(png_structrp png_ptr, png_byt...  Not Useful  \n",
       "3  -9.       {\\n-8.          if (warn != 0)\\n-7. ...  Not Useful  \n",
       "4  #if ZLIB_VERNUM >= 0x1240\\n\\n/*ZLIB_VERNUM >= ...  Not Useful  "
      ]
     },
     "execution_count": 4,
     "metadata": {},
     "output_type": "execute_result"
    }
   ],
   "source": [
    "test_df = pd.read_csv('IRSE_FIRE_2022_Track_Test_Data_1000.csv')\n",
    "\n",
    "print(test_df.info())\n",
    "\n",
    "test_df.head()"
   ]
  },
  {
   "cell_type": "code",
   "execution_count": 5,
   "metadata": {},
   "outputs": [
    {
     "name": "stdout",
     "output_type": "stream",
     "text": [
      "/*on failure don't abort just issue a warning*/\n",
      "-10.    * point the resulting soft limit is our limit. Trying to\n",
      "-9.    * open more than soft limit file descriptors will fail.\n",
      "-8.    */\n",
      "-7.   if(rl.rlim_cur != rl.rlim_max) {\n",
      "-6. #ifdef OPEN_MAX\n",
      "-5.     if((rl.rlim_cur > 0) &&\n",
      "-4.         (rl.rlim_cur < OPEN_MAX)) {\n",
      "-3.       fprintf(stderr, \"raising soft limit up to OPEN_MAX\\n\");\n",
      "-2.       rl.rlim_cur = OPEN_MAX;\n",
      "-1.       if(setrlimit(RLIMIT_NOFILE, &rl) != 0) {\n",
      "\n",
      "/*on failure don't abort just issue a warning*/\n",
      "\n",
      "1.         store_errmsg(\"setrlimit() failed\", errno);\n",
      "2.         fprintf(stderr, \"%s\\n\", msgbuff);\n",
      "3.         msgbuff[0] = '\\0';\n",
      "4.       }\n",
      "5.     }\n",
      "6. #endif\n",
      "7.     fprintf(stderr, \"raising soft limit up to hard limit\\n\");\n",
      "8.     rl.rlim_cur = rl.rlim_max;\n",
      "9.     if(setrlimit(RLIMIT_NOFILE, &rl) != 0) {\n"
     ]
    }
   ],
   "source": [
    "i = 8\n",
    "print(irse_df.iloc[i]['Comments'])\n",
    "\n",
    "print(irse_df.iloc[i]['Surrounding Code Context'])"
   ]
  },
  {
   "cell_type": "code",
   "execution_count": 6,
   "metadata": {},
   "outputs": [
    {
     "name": "stdout",
     "output_type": "stream",
     "text": [
      "/*on failure don't abort just issue a warning*/\n",
      "-10.    * point the resulting soft limit is our limit. Trying to\n",
      "-9.    * open more than soft limit file descriptors will fail.\n",
      "-8.    */\n",
      "-7.   if(rl.rlim_cur != rl.rlim_max) {\n",
      "-6. #ifdef OPEN_MAX\n",
      "-5.     if((rl.rlim_cur > 0) &&\n",
      "-4.         (rl.rlim_cur < OPEN_MAX)) {\n",
      "-3.       fprintf(stderr, \"raising soft limit up to OPEN_MAX\\n\");\n",
      "-2.       rl.rlim_cur = OPEN_MAX;\n",
      "-1.       if(setrlimit(RLIMIT_NOFILE, &rl) != 0) {\n",
      "\n",
      "/*on failure don't abort just issue a warning*/\n",
      "\n",
      "1.         store_errmsg(\"setrlimit() failed\", errno);\n",
      "2.         fprintf(stderr, \"%s\\n\", msgbuff);\n",
      "3.         msgbuff[0] = '\\0';\n",
      "4.       }\n",
      "5.     }\n",
      "6. #endif\n",
      "7.     fprintf(stderr, \"raising soft limit up to hard limit\\n\");\n",
      "8.     rl.rlim_cur = rl.rlim_max;\n",
      "9.     if(setrlimit(RLIMIT_NOFILE, &rl) != 0) {\n"
     ]
    }
   ],
   "source": [
    "i = 9\n",
    "print(irse_df.iloc[i]['Comments'])\n",
    "\n",
    "print(irse_df.iloc[i]['Surrounding Code Context'])"
   ]
  },
  {
   "cell_type": "code",
   "execution_count": 7,
   "metadata": {},
   "outputs": [
    {
     "data": {
      "text/html": [
       "<div>\n",
       "<style scoped>\n",
       "    .dataframe tbody tr th:only-of-type {\n",
       "        vertical-align: middle;\n",
       "    }\n",
       "\n",
       "    .dataframe tbody tr th {\n",
       "        vertical-align: top;\n",
       "    }\n",
       "\n",
       "    .dataframe thead th {\n",
       "        text-align: right;\n",
       "    }\n",
       "</style>\n",
       "<table border=\"1\" class=\"dataframe\">\n",
       "  <thead>\n",
       "    <tr style=\"text-align: right;\">\n",
       "      <th></th>\n",
       "      <th>Comments</th>\n",
       "      <th>Surrounding Code Context</th>\n",
       "    </tr>\n",
       "  </thead>\n",
       "  <tbody>\n",
       "    <tr>\n",
       "      <th>0</th>\n",
       "      <td>/*test 529*/</td>\n",
       "      <td>-10.   int res = 0;\\n-9.   CURL *curl = NULL;\\...</td>\n",
       "    </tr>\n",
       "    <tr>\n",
       "      <th>1</th>\n",
       "      <td>/*test 525*/</td>\n",
       "      <td>-2.     fprintf(stderr, \"Usage: lib529 [url] [...</td>\n",
       "    </tr>\n",
       "    <tr>\n",
       "      <th>2</th>\n",
       "      <td>/*done*/</td>\n",
       "      <td>-10.   multi_add_handle(m, curl);\\n-9.   for(;...</td>\n",
       "    </tr>\n",
       "    <tr>\n",
       "      <th>5</th>\n",
       "      <td>/*argv1 = URL\\n * argv2 = proxy\\n * argv3 = no...</td>\n",
       "      <td>-9.  *\\n-8.  * You may opt to use, copy, modif...</td>\n",
       "    </tr>\n",
       "    <tr>\n",
       "      <th>6</th>\n",
       "      <td>/*enable ascii/text mode*/</td>\n",
       "      <td>-10.   if(!curl) {\\n-9.     fprintf(stderr, \"c...</td>\n",
       "    </tr>\n",
       "    <tr>\n",
       "      <th>...</th>\n",
       "      <td>...</td>\n",
       "      <td>...</td>\n",
       "    </tr>\n",
       "    <tr>\n",
       "      <th>8652</th>\n",
       "      <td>/*shape values and derivatives\\nat new p_unit ...</td>\n",
       "      <td>nan\\n\\n\\n /*shape values and derivatives\\nat n...</td>\n",
       "    </tr>\n",
       "    <tr>\n",
       "      <th>8653</th>\n",
       "      <td>/*see if we are making progress with the curre...</td>\n",
       "      <td>nan\\n\\n\\n /*see if we are making progress with...</td>\n",
       "    </tr>\n",
       "    <tr>\n",
       "      <th>8654</th>\n",
       "      <td>/*Evaluate first and second derivatives*/</td>\n",
       "      <td>nan\\n\\n\\n /*Evaluate first and second derivati...</td>\n",
       "    </tr>\n",
       "    <tr>\n",
       "      <th>8655</th>\n",
       "      <td>/*TODO: implement a line search here in much t...</td>\n",
       "      <td>nan\\n\\n\\n /*TODO: implement a line search here...</td>\n",
       "    </tr>\n",
       "    <tr>\n",
       "      <th>8656</th>\n",
       "      <td>/*Here we check that in the last execution of ...</td>\n",
       "      <td>nan\\n\\n\\n /*Here we check that in the last exe...</td>\n",
       "    </tr>\n",
       "  </tbody>\n",
       "</table>\n",
       "<p>6365 rows × 2 columns</p>\n",
       "</div>"
      ],
      "text/plain": [
       "                                               Comments  \\\n",
       "0                                          /*test 529*/   \n",
       "1                                          /*test 525*/   \n",
       "2                                              /*done*/   \n",
       "5     /*argv1 = URL\\n * argv2 = proxy\\n * argv3 = no...   \n",
       "6                            /*enable ascii/text mode*/   \n",
       "...                                                 ...   \n",
       "8652  /*shape values and derivatives\\nat new p_unit ...   \n",
       "8653  /*see if we are making progress with the curre...   \n",
       "8654          /*Evaluate first and second derivatives*/   \n",
       "8655  /*TODO: implement a line search here in much t...   \n",
       "8656  /*Here we check that in the last execution of ...   \n",
       "\n",
       "                               Surrounding Code Context  \n",
       "0     -10.   int res = 0;\\n-9.   CURL *curl = NULL;\\...  \n",
       "1     -2.     fprintf(stderr, \"Usage: lib529 [url] [...  \n",
       "2     -10.   multi_add_handle(m, curl);\\n-9.   for(;...  \n",
       "5     -9.  *\\n-8.  * You may opt to use, copy, modif...  \n",
       "6     -10.   if(!curl) {\\n-9.     fprintf(stderr, \"c...  \n",
       "...                                                 ...  \n",
       "8652  nan\\n\\n\\n /*shape values and derivatives\\nat n...  \n",
       "8653  nan\\n\\n\\n /*see if we are making progress with...  \n",
       "8654  nan\\n\\n\\n /*Evaluate first and second derivati...  \n",
       "8655  nan\\n\\n\\n /*TODO: implement a line search here...  \n",
       "8656  nan\\n\\n\\n /*Here we check that in the last exe...  \n",
       "\n",
       "[6365 rows x 2 columns]"
      ]
     },
     "execution_count": 7,
     "metadata": {},
     "output_type": "execute_result"
    }
   ],
   "source": [
    "irse_df[['Comments', 'Surrounding Code Context']].drop_duplicates()"
   ]
  },
  {
   "cell_type": "code",
   "execution_count": 8,
   "metadata": {},
   "outputs": [
    {
     "data": {
      "text/plain": [
       "0                                            /*test 529*/\n",
       "1                                            /*test 525*/\n",
       "2                                                /*done*/\n",
       "5       /*argv1 = URL\\n * argv2 = proxy\\n * argv3 = no...\n",
       "6                              /*enable ascii/text mode*/\n",
       "                              ...                        \n",
       "8651    /*update of p_unit. The spacedim-th component ...\n",
       "8653    /*see if we are making progress with the curre...\n",
       "8654            /*Evaluate first and second derivatives*/\n",
       "8655    /*TODO: implement a line search here in much t...\n",
       "8656    /*Here we check that in the last execution of ...\n",
       "Name: Comments, Length: 5341, dtype: object"
      ]
     },
     "execution_count": 8,
     "metadata": {},
     "output_type": "execute_result"
    }
   ],
   "source": [
    "irse_df['Comments'].drop_duplicates()"
   ]
  },
  {
   "cell_type": "code",
   "execution_count": 9,
   "metadata": {},
   "outputs": [
    {
     "data": {
      "text/plain": [
       "0       -10.   int res = 0;\\n-9.   CURL *curl = NULL;\\...\n",
       "1       -2.     fprintf(stderr, \"Usage: lib529 [url] [...\n",
       "2       -10.   multi_add_handle(m, curl);\\n-9.   for(;...\n",
       "5       -9.  *\\n-8.  * You may opt to use, copy, modif...\n",
       "6       -10.   if(!curl) {\\n-9.     fprintf(stderr, \"c...\n",
       "                              ...                        \n",
       "8652    nan\\n\\n\\n /*shape values and derivatives\\nat n...\n",
       "8653    nan\\n\\n\\n /*see if we are making progress with...\n",
       "8654    nan\\n\\n\\n /*Evaluate first and second derivati...\n",
       "8655    nan\\n\\n\\n /*TODO: implement a line search here...\n",
       "8656    nan\\n\\n\\n /*Here we check that in the last exe...\n",
       "Name: Surrounding Code Context, Length: 6365, dtype: object"
      ]
     },
     "execution_count": 9,
     "metadata": {},
     "output_type": "execute_result"
    }
   ],
   "source": [
    "irse_df['Surrounding Code Context'].drop_duplicates()"
   ]
  },
  {
   "cell_type": "code",
   "execution_count": 10,
   "metadata": {},
   "outputs": [
    {
     "name": "stdout",
     "output_type": "stream",
     "text": [
      "<class 'pandas.core.frame.DataFrame'>\n",
      "RangeIndex: 8047 entries, 0 to 8046\n",
      "Data columns (total 3 columns):\n",
      " #   Column                    Non-Null Count  Dtype \n",
      "---  ------                    --------------  ----- \n",
      " 0   Comments                  8047 non-null   object\n",
      " 1   Surrounding Code Context  8047 non-null   object\n",
      " 2   Class                     8047 non-null   object\n",
      "dtypes: object(3)\n",
      "memory usage: 188.7+ KB\n",
      "None\n"
     ]
    },
    {
     "data": {
      "text/html": [
       "<div>\n",
       "<style scoped>\n",
       "    .dataframe tbody tr th:only-of-type {\n",
       "        vertical-align: middle;\n",
       "    }\n",
       "\n",
       "    .dataframe tbody tr th {\n",
       "        vertical-align: top;\n",
       "    }\n",
       "\n",
       "    .dataframe thead th {\n",
       "        text-align: right;\n",
       "    }\n",
       "</style>\n",
       "<table border=\"1\" class=\"dataframe\">\n",
       "  <thead>\n",
       "    <tr style=\"text-align: right;\">\n",
       "      <th></th>\n",
       "      <th>Comments</th>\n",
       "      <th>Surrounding Code Context</th>\n",
       "      <th>Class</th>\n",
       "    </tr>\n",
       "  </thead>\n",
       "  <tbody>\n",
       "    <tr>\n",
       "      <th>0</th>\n",
       "      <td>/*test 529*/</td>\n",
       "      <td>-10.   int res = 0;\\n-9.   CURL *curl = NULL;\\...</td>\n",
       "      <td>Not Useful</td>\n",
       "    </tr>\n",
       "    <tr>\n",
       "      <th>1</th>\n",
       "      <td>/*test 525*/</td>\n",
       "      <td>-2.     fprintf(stderr, \"Usage: lib529 [url] [...</td>\n",
       "      <td>Not Useful</td>\n",
       "    </tr>\n",
       "    <tr>\n",
       "      <th>2</th>\n",
       "      <td>/*done*/</td>\n",
       "      <td>-10.   multi_add_handle(m, curl);\\n-9.   for(;...</td>\n",
       "      <td>Not Useful</td>\n",
       "    </tr>\n",
       "    <tr>\n",
       "      <th>3</th>\n",
       "      <td>/*test 529*/</td>\n",
       "      <td>-10.   int res = 0;\\n-9.   CURL *curl = NULL;\\...</td>\n",
       "      <td>Not Useful</td>\n",
       "    </tr>\n",
       "    <tr>\n",
       "      <th>4</th>\n",
       "      <td>/*test 525*/</td>\n",
       "      <td>-2.     fprintf(stderr, \"Usage: lib529 [url] [...</td>\n",
       "      <td>Not Useful</td>\n",
       "    </tr>\n",
       "    <tr>\n",
       "      <th>5</th>\n",
       "      <td>/*argv1 = URL\\n * argv2 = proxy\\n * argv3 = no...</td>\n",
       "      <td>-9.  *\\n-8.  * You may opt to use, copy, modif...</td>\n",
       "      <td>Not Useful</td>\n",
       "    </tr>\n",
       "    <tr>\n",
       "      <th>6</th>\n",
       "      <td>/*enable ascii/text mode*/</td>\n",
       "      <td>-10.   if(!curl) {\\n-9.     fprintf(stderr, \"c...</td>\n",
       "      <td>Not Useful</td>\n",
       "    </tr>\n",
       "    <tr>\n",
       "      <th>7</th>\n",
       "      <td>/*100 ms*/</td>\n",
       "      <td>-10.   multi_add_handle(mhandle, handle);\\n-9....</td>\n",
       "      <td>Not Useful</td>\n",
       "    </tr>\n",
       "    <tr>\n",
       "      <th>8</th>\n",
       "      <td>/*on failure don't abort just issue a warning*/</td>\n",
       "      <td>-10.    * point the resulting soft limit is ou...</td>\n",
       "      <td>Not Useful</td>\n",
       "    </tr>\n",
       "    <tr>\n",
       "      <th>9</th>\n",
       "      <td>/*on failure don't abort just issue a warning*/</td>\n",
       "      <td>-10.    * point the resulting soft limit is ou...</td>\n",
       "      <td>Not Useful</td>\n",
       "    </tr>\n",
       "  </tbody>\n",
       "</table>\n",
       "</div>"
      ],
      "text/plain": [
       "                                            Comments  \\\n",
       "0                                       /*test 529*/   \n",
       "1                                       /*test 525*/   \n",
       "2                                           /*done*/   \n",
       "3                                       /*test 529*/   \n",
       "4                                       /*test 525*/   \n",
       "5  /*argv1 = URL\\n * argv2 = proxy\\n * argv3 = no...   \n",
       "6                         /*enable ascii/text mode*/   \n",
       "7                                         /*100 ms*/   \n",
       "8    /*on failure don't abort just issue a warning*/   \n",
       "9    /*on failure don't abort just issue a warning*/   \n",
       "\n",
       "                            Surrounding Code Context       Class  \n",
       "0  -10.   int res = 0;\\n-9.   CURL *curl = NULL;\\...  Not Useful  \n",
       "1  -2.     fprintf(stderr, \"Usage: lib529 [url] [...  Not Useful  \n",
       "2  -10.   multi_add_handle(m, curl);\\n-9.   for(;...  Not Useful  \n",
       "3  -10.   int res = 0;\\n-9.   CURL *curl = NULL;\\...  Not Useful  \n",
       "4  -2.     fprintf(stderr, \"Usage: lib529 [url] [...  Not Useful  \n",
       "5  -9.  *\\n-8.  * You may opt to use, copy, modif...  Not Useful  \n",
       "6  -10.   if(!curl) {\\n-9.     fprintf(stderr, \"c...  Not Useful  \n",
       "7  -10.   multi_add_handle(mhandle, handle);\\n-9....  Not Useful  \n",
       "8  -10.    * point the resulting soft limit is ou...  Not Useful  \n",
       "9  -10.    * point the resulting soft limit is ou...  Not Useful  "
      ]
     },
     "execution_count": 10,
     "metadata": {},
     "output_type": "execute_result"
    }
   ],
   "source": [
    "irse_df_pp = pd.read_csv('IRSE_FIRE_2022_Track_Training_Data_preprocessed.csv')\n",
    "\n",
    "print(irse_df_pp.info())\n",
    "\n",
    "irse_df_pp.head(10)"
   ]
  },
  {
   "cell_type": "code",
   "execution_count": 11,
   "metadata": {},
   "outputs": [
    {
     "data": {
      "text/plain": [
       "0                                            /*test 529*/\n",
       "1                                            /*test 525*/\n",
       "2                                                /*done*/\n",
       "5       /*argv1 = URL\\n * argv2 = proxy\\n * argv3 = no...\n",
       "6                              /*enable ascii/text mode*/\n",
       "                              ...                        \n",
       "8041    /*We don't need the discontinuous function for...\n",
       "8042    /*we need an additional DG0-node for a dim-dim...\n",
       "8043    /*vertex/line/face domination\\n(if fe_other is...\n",
       "8044    /*there are no requirements between continuous...\n",
       "8045    /*vertex/line/face domination\\n(if fe_other is...\n",
       "Name: Comments, Length: 4992, dtype: object"
      ]
     },
     "execution_count": 11,
     "metadata": {},
     "output_type": "execute_result"
    }
   ],
   "source": [
    "irse_df_pp['Comments'].drop_duplicates()"
   ]
  },
  {
   "cell_type": "code",
   "execution_count": 12,
   "metadata": {},
   "outputs": [
    {
     "data": {
      "text/plain": [
       "0       -10.   int res = 0;\\n-9.   CURL *curl = NULL;\\...\n",
       "1       -2.     fprintf(stderr, \"Usage: lib529 [url] [...\n",
       "2       -10.   multi_add_handle(m, curl);\\n-9.   for(;...\n",
       "5       -9.  *\\n-8.  * You may opt to use, copy, modif...\n",
       "6       -10.   if(!curl) {\\n-9.     fprintf(stderr, \"c...\n",
       "                              ...                        \n",
       "8042    -10.   riaf.back() = true;\\n-9.   return riaf;...\n",
       "8043    -1.       return FiniteElementDomination::no_r...\n",
       "8044    -2.   if (codim > 0)\\n-1.     if (dynamic_cast...\n",
       "8045    -1.       return FiniteElementDomination::no_r...\n",
       "8046    -10.         return FiniteElementDomination::e...\n",
       "Name: Surrounding Code Context, Length: 5949, dtype: object"
      ]
     },
     "execution_count": 12,
     "metadata": {},
     "output_type": "execute_result"
    }
   ],
   "source": [
    "irse_df_pp['Surrounding Code Context'].drop_duplicates()"
   ]
  },
  {
   "cell_type": "code",
   "execution_count": 13,
   "metadata": {},
   "outputs": [
    {
     "data": {
      "text/html": [
       "<div>\n",
       "<style scoped>\n",
       "    .dataframe tbody tr th:only-of-type {\n",
       "        vertical-align: middle;\n",
       "    }\n",
       "\n",
       "    .dataframe tbody tr th {\n",
       "        vertical-align: top;\n",
       "    }\n",
       "\n",
       "    .dataframe thead th {\n",
       "        text-align: right;\n",
       "    }\n",
       "</style>\n",
       "<table border=\"1\" class=\"dataframe\">\n",
       "  <thead>\n",
       "    <tr style=\"text-align: right;\">\n",
       "      <th></th>\n",
       "      <th>Comments</th>\n",
       "      <th>Surrounding Code Context</th>\n",
       "    </tr>\n",
       "  </thead>\n",
       "  <tbody>\n",
       "    <tr>\n",
       "      <th>0</th>\n",
       "      <td>/*test 529*/</td>\n",
       "      <td>-10.   int res = 0;\\n-9.   CURL *curl = NULL;\\...</td>\n",
       "    </tr>\n",
       "    <tr>\n",
       "      <th>1</th>\n",
       "      <td>/*test 525*/</td>\n",
       "      <td>-2.     fprintf(stderr, \"Usage: lib529 [url] [...</td>\n",
       "    </tr>\n",
       "    <tr>\n",
       "      <th>2</th>\n",
       "      <td>/*done*/</td>\n",
       "      <td>-10.   multi_add_handle(m, curl);\\n-9.   for(;...</td>\n",
       "    </tr>\n",
       "    <tr>\n",
       "      <th>5</th>\n",
       "      <td>/*argv1 = URL\\n * argv2 = proxy\\n * argv3 = no...</td>\n",
       "      <td>-9.  *\\n-8.  * You may opt to use, copy, modif...</td>\n",
       "    </tr>\n",
       "    <tr>\n",
       "      <th>6</th>\n",
       "      <td>/*enable ascii/text mode*/</td>\n",
       "      <td>-10.   if(!curl) {\\n-9.     fprintf(stderr, \"c...</td>\n",
       "    </tr>\n",
       "    <tr>\n",
       "      <th>...</th>\n",
       "      <td>...</td>\n",
       "      <td>...</td>\n",
       "    </tr>\n",
       "    <tr>\n",
       "      <th>8042</th>\n",
       "      <td>/*we need an additional DG0-node for a dim-dim...</td>\n",
       "      <td>-10.   riaf.back() = true;\\n-9.   return riaf;...</td>\n",
       "    </tr>\n",
       "    <tr>\n",
       "      <th>8043</th>\n",
       "      <td>/*vertex/line/face domination\\n(if fe_other is...</td>\n",
       "      <td>-1.       return FiniteElementDomination::no_r...</td>\n",
       "    </tr>\n",
       "    <tr>\n",
       "      <th>8044</th>\n",
       "      <td>/*there are no requirements between continuous...</td>\n",
       "      <td>-2.   if (codim &gt; 0)\\n-1.     if (dynamic_cast...</td>\n",
       "    </tr>\n",
       "    <tr>\n",
       "      <th>8045</th>\n",
       "      <td>/*vertex/line/face domination\\n(if fe_other is...</td>\n",
       "      <td>-1.       return FiniteElementDomination::no_r...</td>\n",
       "    </tr>\n",
       "    <tr>\n",
       "      <th>8046</th>\n",
       "      <td>/*the FE_Nothing has no degrees of freedom and...</td>\n",
       "      <td>-10.         return FiniteElementDomination::e...</td>\n",
       "    </tr>\n",
       "  </tbody>\n",
       "</table>\n",
       "<p>5949 rows × 2 columns</p>\n",
       "</div>"
      ],
      "text/plain": [
       "                                               Comments  \\\n",
       "0                                          /*test 529*/   \n",
       "1                                          /*test 525*/   \n",
       "2                                              /*done*/   \n",
       "5     /*argv1 = URL\\n * argv2 = proxy\\n * argv3 = no...   \n",
       "6                            /*enable ascii/text mode*/   \n",
       "...                                                 ...   \n",
       "8042  /*we need an additional DG0-node for a dim-dim...   \n",
       "8043  /*vertex/line/face domination\\n(if fe_other is...   \n",
       "8044  /*there are no requirements between continuous...   \n",
       "8045  /*vertex/line/face domination\\n(if fe_other is...   \n",
       "8046  /*the FE_Nothing has no degrees of freedom and...   \n",
       "\n",
       "                               Surrounding Code Context  \n",
       "0     -10.   int res = 0;\\n-9.   CURL *curl = NULL;\\...  \n",
       "1     -2.     fprintf(stderr, \"Usage: lib529 [url] [...  \n",
       "2     -10.   multi_add_handle(m, curl);\\n-9.   for(;...  \n",
       "5     -9.  *\\n-8.  * You may opt to use, copy, modif...  \n",
       "6     -10.   if(!curl) {\\n-9.     fprintf(stderr, \"c...  \n",
       "...                                                 ...  \n",
       "8042  -10.   riaf.back() = true;\\n-9.   return riaf;...  \n",
       "8043  -1.       return FiniteElementDomination::no_r...  \n",
       "8044  -2.   if (codim > 0)\\n-1.     if (dynamic_cast...  \n",
       "8045  -1.       return FiniteElementDomination::no_r...  \n",
       "8046  -10.         return FiniteElementDomination::e...  \n",
       "\n",
       "[5949 rows x 2 columns]"
      ]
     },
     "execution_count": 13,
     "metadata": {},
     "output_type": "execute_result"
    }
   ],
   "source": [
    "irse_df_pp[['Comments', 'Surrounding Code Context']].drop_duplicates()"
   ]
  },
  {
   "cell_type": "code",
   "execution_count": 14,
   "metadata": {},
   "outputs": [
    {
     "data": {
      "text/plain": [
       "6365"
      ]
     },
     "execution_count": 14,
     "metadata": {},
     "output_type": "execute_result"
    }
   ],
   "source": [
    "len(set(irse_df['Surrounding Code Context']).union(set(irse_df_pp['Surrounding Code Context'])))"
   ]
  },
  {
   "cell_type": "code",
   "execution_count": 15,
   "metadata": {},
   "outputs": [
    {
     "data": {
      "text/plain": [
       "5949"
      ]
     },
     "execution_count": 15,
     "metadata": {},
     "output_type": "execute_result"
    }
   ],
   "source": [
    "len(set(irse_df['Surrounding Code Context']).intersection(set(irse_df_pp['Surrounding Code Context'])))"
   ]
  },
  {
   "cell_type": "code",
   "execution_count": 16,
   "metadata": {},
   "outputs": [
    {
     "data": {
      "text/plain": [
       "416"
      ]
     },
     "execution_count": 16,
     "metadata": {},
     "output_type": "execute_result"
    }
   ],
   "source": [
    "len(set(irse_df['Surrounding Code Context']).difference(set(irse_df_pp['Surrounding Code Context'])))"
   ]
  },
  {
   "cell_type": "code",
   "execution_count": 17,
   "metadata": {},
   "outputs": [
    {
     "data": {
      "text/plain": [
       "0"
      ]
     },
     "execution_count": 17,
     "metadata": {},
     "output_type": "execute_result"
    }
   ],
   "source": [
    "len(set(irse_df_pp['Surrounding Code Context']).difference(set(irse_df['Surrounding Code Context'])))"
   ]
  },
  {
   "cell_type": "code",
   "execution_count": 18,
   "metadata": {},
   "outputs": [
    {
     "data": {
      "text/plain": [
       "5341"
      ]
     },
     "execution_count": 18,
     "metadata": {},
     "output_type": "execute_result"
    }
   ],
   "source": [
    "len(set(irse_df['Comments']).union(set(irse_df_pp['Comments'])))"
   ]
  },
  {
   "cell_type": "code",
   "execution_count": 19,
   "metadata": {},
   "outputs": [
    {
     "data": {
      "text/plain": [
       "4992"
      ]
     },
     "execution_count": 19,
     "metadata": {},
     "output_type": "execute_result"
    }
   ],
   "source": [
    "len(set(irse_df['Comments']).intersection(set(irse_df_pp['Comments'])))"
   ]
  },
  {
   "cell_type": "code",
   "execution_count": 20,
   "metadata": {},
   "outputs": [
    {
     "data": {
      "text/plain": [
       "349"
      ]
     },
     "execution_count": 20,
     "metadata": {},
     "output_type": "execute_result"
    }
   ],
   "source": [
    "len(set(irse_df['Comments']).difference(set(irse_df_pp['Comments'])))"
   ]
  },
  {
   "cell_type": "code",
   "execution_count": 21,
   "metadata": {},
   "outputs": [
    {
     "data": {
      "text/plain": [
       "0"
      ]
     },
     "execution_count": 21,
     "metadata": {},
     "output_type": "execute_result"
    }
   ],
   "source": [
    "len(set(irse_df_pp['Comments']).difference(set(irse_df['Comments'])))"
   ]
  },
  {
   "cell_type": "code",
   "execution_count": 22,
   "metadata": {},
   "outputs": [
    {
     "data": {
      "text/html": [
       "<div>\n",
       "<style scoped>\n",
       "    .dataframe tbody tr th:only-of-type {\n",
       "        vertical-align: middle;\n",
       "    }\n",
       "\n",
       "    .dataframe tbody tr th {\n",
       "        vertical-align: top;\n",
       "    }\n",
       "\n",
       "    .dataframe thead th {\n",
       "        text-align: right;\n",
       "    }\n",
       "</style>\n",
       "<table border=\"1\" class=\"dataframe\">\n",
       "  <thead>\n",
       "    <tr style=\"text-align: right;\">\n",
       "      <th></th>\n",
       "      <th>Comments</th>\n",
       "      <th>Surrounding Code Context</th>\n",
       "    </tr>\n",
       "  </thead>\n",
       "  <tbody>\n",
       "    <tr>\n",
       "      <th>0</th>\n",
       "      <td>/*READ_INT_FUNCTIONS*/</td>\n",
       "      <td>-5.    if (png_ptr != NULL)\\n-4.       png_war...</td>\n",
       "    </tr>\n",
       "    <tr>\n",
       "      <th>1</th>\n",
       "      <td>/*Put the chunk name into png_ptr-&gt;chunk_name.*/</td>\n",
       "      <td>-2.    png_read_data(png_ptr, buf, 8);\\n-1.   ...</td>\n",
       "    </tr>\n",
       "    <tr>\n",
       "      <th>2</th>\n",
       "      <td>/*critical*/</td>\n",
       "      <td>-8. png_crc_read(png_structrp png_ptr, png_byt...</td>\n",
       "    </tr>\n",
       "    <tr>\n",
       "      <th>3</th>\n",
       "      <td>/*READ_iCCP|iTXt|pCAL|sCAL|sPLT|tEXt|zTXt|SEQU...</td>\n",
       "      <td>-9.       {\\n-8.          if (warn != 0)\\n-7. ...</td>\n",
       "    </tr>\n",
       "    <tr>\n",
       "      <th>4</th>\n",
       "      <td>/*ZLIB_VERNUM &gt;= 0x1240*/</td>\n",
       "      <td>#if ZLIB_VERNUM &gt;= 0x1240\\n\\n/*ZLIB_VERNUM &gt;= ...</td>\n",
       "    </tr>\n",
       "    <tr>\n",
       "      <th>...</th>\n",
       "      <td>...</td>\n",
       "      <td>...</td>\n",
       "    </tr>\n",
       "    <tr>\n",
       "      <th>996</th>\n",
       "      <td>/*The following document where the background ...</td>\n",
       "      <td>-5. #define PNG_CMAP_NONE      0\\n\\n /*The fol...</td>\n",
       "    </tr>\n",
       "    <tr>\n",
       "      <th>997</th>\n",
       "      <td>/*Do all the *safe* initialization - 'safe' me...</td>\n",
       "      <td>-1. } png_image_read_control;\\n/* Do all the *...</td>\n",
       "    </tr>\n",
       "    <tr>\n",
       "      <th>998</th>\n",
       "      <td>/*And set the rest of the structure to NULL to...</td>\n",
       "      <td>-10.  * called from here must *not* call png_m...</td>\n",
       "    </tr>\n",
       "    <tr>\n",
       "      <th>999</th>\n",
       "      <td>/*Use png_ptr here, not info_ptr, because by e...</td>\n",
       "      <td>-8. static png_uint_32\\n-7. png_image_format(p...</td>\n",
       "    </tr>\n",
       "    <tr>\n",
       "      <th>1000</th>\n",
       "      <td>/*Is the given gamma significantly different f...</td>\n",
       "      <td>-10.     * is unclear.\\n-9.     */\\n-8.    els...</td>\n",
       "    </tr>\n",
       "  </tbody>\n",
       "</table>\n",
       "<p>798 rows × 2 columns</p>\n",
       "</div>"
      ],
      "text/plain": [
       "                                               Comments  \\\n",
       "0                                /*READ_INT_FUNCTIONS*/   \n",
       "1      /*Put the chunk name into png_ptr->chunk_name.*/   \n",
       "2                                          /*critical*/   \n",
       "3     /*READ_iCCP|iTXt|pCAL|sCAL|sPLT|tEXt|zTXt|SEQU...   \n",
       "4                             /*ZLIB_VERNUM >= 0x1240*/   \n",
       "...                                                 ...   \n",
       "996   /*The following document where the background ...   \n",
       "997   /*Do all the *safe* initialization - 'safe' me...   \n",
       "998   /*And set the rest of the structure to NULL to...   \n",
       "999   /*Use png_ptr here, not info_ptr, because by e...   \n",
       "1000  /*Is the given gamma significantly different f...   \n",
       "\n",
       "                               Surrounding Code Context  \n",
       "0     -5.    if (png_ptr != NULL)\\n-4.       png_war...  \n",
       "1     -2.    png_read_data(png_ptr, buf, 8);\\n-1.   ...  \n",
       "2     -8. png_crc_read(png_structrp png_ptr, png_byt...  \n",
       "3     -9.       {\\n-8.          if (warn != 0)\\n-7. ...  \n",
       "4     #if ZLIB_VERNUM >= 0x1240\\n\\n/*ZLIB_VERNUM >= ...  \n",
       "...                                                 ...  \n",
       "996   -5. #define PNG_CMAP_NONE      0\\n\\n /*The fol...  \n",
       "997   -1. } png_image_read_control;\\n/* Do all the *...  \n",
       "998   -10.  * called from here must *not* call png_m...  \n",
       "999   -8. static png_uint_32\\n-7. png_image_format(p...  \n",
       "1000  -10.     * is unclear.\\n-9.     */\\n-8.    els...  \n",
       "\n",
       "[798 rows x 2 columns]"
      ]
     },
     "execution_count": 22,
     "metadata": {},
     "output_type": "execute_result"
    }
   ],
   "source": [
    "test_df[['Comments', 'Surrounding Code Context']].drop_duplicates()"
   ]
  },
  {
   "cell_type": "code",
   "execution_count": 23,
   "metadata": {},
   "outputs": [
    {
     "data": {
      "text/plain": [
       "6627"
      ]
     },
     "execution_count": 23,
     "metadata": {},
     "output_type": "execute_result"
    }
   ],
   "source": [
    "len(set(irse_df_pp['Surrounding Code Context']).union(set(test_df['Surrounding Code Context'])))"
   ]
  },
  {
   "cell_type": "code",
   "execution_count": 24,
   "metadata": {},
   "outputs": [
    {
     "data": {
      "text/plain": [
       "120"
      ]
     },
     "execution_count": 24,
     "metadata": {},
     "output_type": "execute_result"
    }
   ],
   "source": [
    "len(set(irse_df_pp['Surrounding Code Context']).intersection(set(test_df['Surrounding Code Context'])))"
   ]
  },
  {
   "cell_type": "code",
   "execution_count": 25,
   "metadata": {},
   "outputs": [
    {
     "data": {
      "text/plain": [
       "5829"
      ]
     },
     "execution_count": 25,
     "metadata": {},
     "output_type": "execute_result"
    }
   ],
   "source": [
    "len(set(irse_df_pp['Surrounding Code Context']).difference(set(test_df['Surrounding Code Context'])))"
   ]
  },
  {
   "cell_type": "code",
   "execution_count": 26,
   "metadata": {},
   "outputs": [
    {
     "data": {
      "text/plain": [
       "678"
      ]
     },
     "execution_count": 26,
     "metadata": {},
     "output_type": "execute_result"
    }
   ],
   "source": [
    "len(set(test_df['Surrounding Code Context']).difference(set(irse_df_pp['Surrounding Code Context'])))"
   ]
  },
  {
   "cell_type": "code",
   "execution_count": 27,
   "metadata": {},
   "outputs": [
    {
     "data": {
      "text/plain": [
       "5560"
      ]
     },
     "execution_count": 27,
     "metadata": {},
     "output_type": "execute_result"
    }
   ],
   "source": [
    "len(set(irse_df_pp['Comments']).union(set(test_df['Comments'])))"
   ]
  },
  {
   "cell_type": "code",
   "execution_count": 28,
   "metadata": {},
   "outputs": [
    {
     "data": {
      "text/plain": [
       "169"
      ]
     },
     "execution_count": 28,
     "metadata": {},
     "output_type": "execute_result"
    }
   ],
   "source": [
    "len(set(irse_df_pp['Comments']).intersection(set(test_df['Comments'])))"
   ]
  },
  {
   "cell_type": "code",
   "execution_count": 29,
   "metadata": {},
   "outputs": [
    {
     "data": {
      "text/plain": [
       "4823"
      ]
     },
     "execution_count": 29,
     "metadata": {},
     "output_type": "execute_result"
    }
   ],
   "source": [
    "len(set(irse_df_pp['Comments']).difference(set(test_df['Comments'])))"
   ]
  },
  {
   "cell_type": "code",
   "execution_count": 30,
   "metadata": {},
   "outputs": [
    {
     "data": {
      "text/plain": [
       "568"
      ]
     },
     "execution_count": 30,
     "metadata": {},
     "output_type": "execute_result"
    }
   ],
   "source": [
    "len(set(test_df['Comments']).difference(set(irse_df_pp['Comments'])))"
   ]
  },
  {
   "cell_type": "code",
   "execution_count": 31,
   "metadata": {},
   "outputs": [
    {
     "data": {
      "text/plain": [
       "167"
      ]
     },
     "execution_count": 31,
     "metadata": {},
     "output_type": "execute_result"
    }
   ],
   "source": [
    "pp_comments = irse_df_pp['Comments']\n",
    "pp_contexts = irse_df_pp['Surrounding Code Context']\n",
    "pp_labels = irse_df_pp['Class']\n",
    "match_indexes = list()\n",
    "\n",
    "for comment, context, label in zip(pp_comments, pp_contexts, pp_labels):\n",
    "    match = test_df[(test_df['Comments'] == comment) & \\\n",
    "        (test_df['Surrounding Code Context'] == context)]\n",
    "    match_labels = match['Class'].tolist()\n",
    "    match_indexes.extend(match.index.tolist())\n",
    "    \n",
    "    for ml in match_labels:\n",
    "        assert ml == label\n",
    "match_indexes = list(set(match_indexes))\n",
    "\n",
    "len(match_indexes)"
   ]
  },
  {
   "cell_type": "code",
   "execution_count": 32,
   "metadata": {},
   "outputs": [
    {
     "data": {
      "text/html": [
       "<div>\n",
       "<style scoped>\n",
       "    .dataframe tbody tr th:only-of-type {\n",
       "        vertical-align: middle;\n",
       "    }\n",
       "\n",
       "    .dataframe tbody tr th {\n",
       "        vertical-align: top;\n",
       "    }\n",
       "\n",
       "    .dataframe thead th {\n",
       "        text-align: right;\n",
       "    }\n",
       "</style>\n",
       "<table border=\"1\" class=\"dataframe\">\n",
       "  <thead>\n",
       "    <tr style=\"text-align: right;\">\n",
       "      <th></th>\n",
       "      <th>Comments</th>\n",
       "      <th>Surrounding Code Context</th>\n",
       "      <th>Class</th>\n",
       "    </tr>\n",
       "  </thead>\n",
       "  <tbody>\n",
       "    <tr>\n",
       "      <th>0</th>\n",
       "      <td>/*READ_INT_FUNCTIONS*/</td>\n",
       "      <td>-5.    if (png_ptr != NULL)\\n-4.       png_war...</td>\n",
       "      <td>Not Useful</td>\n",
       "    </tr>\n",
       "    <tr>\n",
       "      <th>1</th>\n",
       "      <td>/*Put the chunk name into png_ptr-&gt;chunk_name.*/</td>\n",
       "      <td>-2.    png_read_data(png_ptr, buf, 8);\\n-1.   ...</td>\n",
       "      <td>Not Useful</td>\n",
       "    </tr>\n",
       "    <tr>\n",
       "      <th>2</th>\n",
       "      <td>/*critical*/</td>\n",
       "      <td>-8. png_crc_read(png_structrp png_ptr, png_byt...</td>\n",
       "      <td>Not Useful</td>\n",
       "    </tr>\n",
       "    <tr>\n",
       "      <th>3</th>\n",
       "      <td>/*READ_iCCP|iTXt|pCAL|sCAL|sPLT|tEXt|zTXt|SEQU...</td>\n",
       "      <td>-9.       {\\n-8.          if (warn != 0)\\n-7. ...</td>\n",
       "      <td>Not Useful</td>\n",
       "    </tr>\n",
       "    <tr>\n",
       "      <th>4</th>\n",
       "      <td>/*ZLIB_VERNUM &gt;= 0x1240*/</td>\n",
       "      <td>#if ZLIB_VERNUM &gt;= 0x1240\\n\\n/*ZLIB_VERNUM &gt;= ...</td>\n",
       "      <td>Not Useful</td>\n",
       "    </tr>\n",
       "    <tr>\n",
       "      <th>...</th>\n",
       "      <td>...</td>\n",
       "      <td>...</td>\n",
       "      <td>...</td>\n",
       "    </tr>\n",
       "    <tr>\n",
       "      <th>996</th>\n",
       "      <td>/*The following document where the background ...</td>\n",
       "      <td>-5. #define PNG_CMAP_NONE      0\\n\\n /*The fol...</td>\n",
       "      <td>Useful</td>\n",
       "    </tr>\n",
       "    <tr>\n",
       "      <th>997</th>\n",
       "      <td>/*Do all the *safe* initialization - 'safe' me...</td>\n",
       "      <td>-1. } png_image_read_control;\\n/* Do all the *...</td>\n",
       "      <td>Useful</td>\n",
       "    </tr>\n",
       "    <tr>\n",
       "      <th>998</th>\n",
       "      <td>/*And set the rest of the structure to NULL to...</td>\n",
       "      <td>-10.  * called from here must *not* call png_m...</td>\n",
       "      <td>Useful</td>\n",
       "    </tr>\n",
       "    <tr>\n",
       "      <th>999</th>\n",
       "      <td>/*Use png_ptr here, not info_ptr, because by e...</td>\n",
       "      <td>-8. static png_uint_32\\n-7. png_image_format(p...</td>\n",
       "      <td>Useful</td>\n",
       "    </tr>\n",
       "    <tr>\n",
       "      <th>1000</th>\n",
       "      <td>/*Is the given gamma significantly different f...</td>\n",
       "      <td>-10.     * is unclear.\\n-9.     */\\n-8.    els...</td>\n",
       "      <td>Useful</td>\n",
       "    </tr>\n",
       "  </tbody>\n",
       "</table>\n",
       "<p>834 rows × 3 columns</p>\n",
       "</div>"
      ],
      "text/plain": [
       "                                               Comments  \\\n",
       "0                                /*READ_INT_FUNCTIONS*/   \n",
       "1      /*Put the chunk name into png_ptr->chunk_name.*/   \n",
       "2                                          /*critical*/   \n",
       "3     /*READ_iCCP|iTXt|pCAL|sCAL|sPLT|tEXt|zTXt|SEQU...   \n",
       "4                             /*ZLIB_VERNUM >= 0x1240*/   \n",
       "...                                                 ...   \n",
       "996   /*The following document where the background ...   \n",
       "997   /*Do all the *safe* initialization - 'safe' me...   \n",
       "998   /*And set the rest of the structure to NULL to...   \n",
       "999   /*Use png_ptr here, not info_ptr, because by e...   \n",
       "1000  /*Is the given gamma significantly different f...   \n",
       "\n",
       "                               Surrounding Code Context       Class  \n",
       "0     -5.    if (png_ptr != NULL)\\n-4.       png_war...  Not Useful  \n",
       "1     -2.    png_read_data(png_ptr, buf, 8);\\n-1.   ...  Not Useful  \n",
       "2     -8. png_crc_read(png_structrp png_ptr, png_byt...  Not Useful  \n",
       "3     -9.       {\\n-8.          if (warn != 0)\\n-7. ...  Not Useful  \n",
       "4     #if ZLIB_VERNUM >= 0x1240\\n\\n/*ZLIB_VERNUM >= ...  Not Useful  \n",
       "...                                                 ...         ...  \n",
       "996   -5. #define PNG_CMAP_NONE      0\\n\\n /*The fol...      Useful  \n",
       "997   -1. } png_image_read_control;\\n/* Do all the *...      Useful  \n",
       "998   -10.  * called from here must *not* call png_m...      Useful  \n",
       "999   -8. static png_uint_32\\n-7. png_image_format(p...      Useful  \n",
       "1000  -10.     * is unclear.\\n-9.     */\\n-8.    els...      Useful  \n",
       "\n",
       "[834 rows x 3 columns]"
      ]
     },
     "execution_count": 32,
     "metadata": {},
     "output_type": "execute_result"
    }
   ],
   "source": [
    "test_df.drop(index=match_indexes, inplace=False)"
   ]
  },
  {
   "cell_type": "code",
   "execution_count": 33,
   "metadata": {},
   "outputs": [
    {
     "name": "stdout",
     "output_type": "stream",
     "text": [
      "<class 'pandas.core.frame.DataFrame'>\n",
      "Int64Index: 678 entries, 0 to 1000\n",
      "Data columns (total 3 columns):\n",
      " #   Column                    Non-Null Count  Dtype \n",
      "---  ------                    --------------  ----- \n",
      " 0   Comments                  678 non-null    object\n",
      " 1   Surrounding Code Context  678 non-null    object\n",
      " 2   Class                     678 non-null    object\n",
      "dtypes: object(3)\n",
      "memory usage: 21.2+ KB\n",
      "None\n"
     ]
    },
    {
     "data": {
      "text/html": [
       "<div>\n",
       "<style scoped>\n",
       "    .dataframe tbody tr th:only-of-type {\n",
       "        vertical-align: middle;\n",
       "    }\n",
       "\n",
       "    .dataframe tbody tr th {\n",
       "        vertical-align: top;\n",
       "    }\n",
       "\n",
       "    .dataframe thead th {\n",
       "        text-align: right;\n",
       "    }\n",
       "</style>\n",
       "<table border=\"1\" class=\"dataframe\">\n",
       "  <thead>\n",
       "    <tr style=\"text-align: right;\">\n",
       "      <th></th>\n",
       "      <th>Comments</th>\n",
       "      <th>Surrounding Code Context</th>\n",
       "      <th>Class</th>\n",
       "    </tr>\n",
       "  </thead>\n",
       "  <tbody>\n",
       "    <tr>\n",
       "      <th>0</th>\n",
       "      <td>/*READ_INT_FUNCTIONS*/</td>\n",
       "      <td>-5.    if (png_ptr != NULL)\\n-4.       png_war...</td>\n",
       "      <td>Not Useful</td>\n",
       "    </tr>\n",
       "    <tr>\n",
       "      <th>1</th>\n",
       "      <td>/*Put the chunk name into png_ptr-&gt;chunk_name.*/</td>\n",
       "      <td>-2.    png_read_data(png_ptr, buf, 8);\\n-1.   ...</td>\n",
       "      <td>Not Useful</td>\n",
       "    </tr>\n",
       "    <tr>\n",
       "      <th>2</th>\n",
       "      <td>/*critical*/</td>\n",
       "      <td>-8. png_crc_read(png_structrp png_ptr, png_byt...</td>\n",
       "      <td>Not Useful</td>\n",
       "    </tr>\n",
       "    <tr>\n",
       "      <th>3</th>\n",
       "      <td>/*READ_iCCP|iTXt|pCAL|sCAL|sPLT|tEXt|zTXt|SEQU...</td>\n",
       "      <td>-9.       {\\n-8.          if (warn != 0)\\n-7. ...</td>\n",
       "      <td>Not Useful</td>\n",
       "    </tr>\n",
       "    <tr>\n",
       "      <th>4</th>\n",
       "      <td>/*ZLIB_VERNUM &gt;= 0x1240*/</td>\n",
       "      <td>#if ZLIB_VERNUM &gt;= 0x1240\\n\\n/*ZLIB_VERNUM &gt;= ...</td>\n",
       "      <td>Not Useful</td>\n",
       "    </tr>\n",
       "  </tbody>\n",
       "</table>\n",
       "</div>"
      ],
      "text/plain": [
       "                                            Comments  \\\n",
       "0                             /*READ_INT_FUNCTIONS*/   \n",
       "1   /*Put the chunk name into png_ptr->chunk_name.*/   \n",
       "2                                       /*critical*/   \n",
       "3  /*READ_iCCP|iTXt|pCAL|sCAL|sPLT|tEXt|zTXt|SEQU...   \n",
       "4                          /*ZLIB_VERNUM >= 0x1240*/   \n",
       "\n",
       "                            Surrounding Code Context       Class  \n",
       "0  -5.    if (png_ptr != NULL)\\n-4.       png_war...  Not Useful  \n",
       "1  -2.    png_read_data(png_ptr, buf, 8);\\n-1.   ...  Not Useful  \n",
       "2  -8. png_crc_read(png_structrp png_ptr, png_byt...  Not Useful  \n",
       "3  -9.       {\\n-8.          if (warn != 0)\\n-7. ...  Not Useful  \n",
       "4  #if ZLIB_VERNUM >= 0x1240\\n\\n/*ZLIB_VERNUM >= ...  Not Useful  "
      ]
     },
     "execution_count": 33,
     "metadata": {},
     "output_type": "execute_result"
    }
   ],
   "source": [
    "test_df_pure = test_df.drop_duplicates().drop(index=match_indexes, errors='ignore')\n",
    "\n",
    "print(test_df_pure.info())\n",
    "\n",
    "test_df_pure.head()"
   ]
  },
  {
   "cell_type": "code",
   "execution_count": null,
   "metadata": {},
   "outputs": [],
   "source": []
  }
 ],
 "metadata": {
  "kernelspec": {
   "display_name": "Python 3.9.10 ('base')",
   "language": "python",
   "name": "python3"
  },
  "language_info": {
   "codemirror_mode": {
    "name": "ipython",
    "version": 3
   },
   "file_extension": ".py",
   "mimetype": "text/x-python",
   "name": "python",
   "nbconvert_exporter": "python",
   "pygments_lexer": "ipython3",
   "version": "3.9.10"
  },
  "orig_nbformat": 4,
  "vscode": {
   "interpreter": {
    "hash": "57ba542a7e01434f0efba8458620b8a5d586d5cdb58a6ff11a95f38e977018f2"
   }
  }
 },
 "nbformat": 4,
 "nbformat_minor": 2
}
