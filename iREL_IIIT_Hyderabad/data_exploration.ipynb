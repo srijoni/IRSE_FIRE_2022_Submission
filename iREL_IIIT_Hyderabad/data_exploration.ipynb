{
 "cells": [
  {
   "cell_type": "code",
   "execution_count": 1,
   "metadata": {},
   "outputs": [],
   "source": [
    "!mkdir -p /scratch/sagarsj42/torch-cache\n",
    "!mkdir -p /scratch/sagarsj42/transformers\n",
    "\n",
    "import os\n",
    "os.chdir('/scratch/sagarsj42')\n",
    "os.environ['TORCH_HOME'] = '/scratch/sagarsj42/torch-cache'\n",
    "os.environ['TRANSFORMERS_CACHE'] = '/scratch/sagarsj42/transformers'"
   ]
  },
  {
   "cell_type": "code",
   "execution_count": 2,
   "metadata": {},
   "outputs": [],
   "source": [
    "import pandas as pd\n",
    "import numpy as np\n",
    "import seaborn as sns\n",
    "from matplotlib import pyplot as plt\n",
    "\n",
    "from transformers import BertTokenizer"
   ]
  },
  {
   "cell_type": "code",
   "execution_count": 3,
   "metadata": {},
   "outputs": [
    {
     "name": "stdout",
     "output_type": "stream",
     "text": [
      "<class 'pandas.core.frame.DataFrame'>\n",
      "RangeIndex: 8047 entries, 0 to 8046\n",
      "Data columns (total 3 columns):\n",
      " #   Column                    Non-Null Count  Dtype \n",
      "---  ------                    --------------  ----- \n",
      " 0   Comments                  8047 non-null   object\n",
      " 1   Surrounding Code Context  8047 non-null   object\n",
      " 2   Class                     8047 non-null   object\n",
      "dtypes: object(3)\n",
      "memory usage: 188.7+ KB\n",
      "None\n"
     ]
    },
    {
     "data": {
      "text/html": [
       "<div>\n",
       "<style scoped>\n",
       "    .dataframe tbody tr th:only-of-type {\n",
       "        vertical-align: middle;\n",
       "    }\n",
       "\n",
       "    .dataframe tbody tr th {\n",
       "        vertical-align: top;\n",
       "    }\n",
       "\n",
       "    .dataframe thead th {\n",
       "        text-align: right;\n",
       "    }\n",
       "</style>\n",
       "<table border=\"1\" class=\"dataframe\">\n",
       "  <thead>\n",
       "    <tr style=\"text-align: right;\">\n",
       "      <th></th>\n",
       "      <th>Comments</th>\n",
       "      <th>Surrounding Code Context</th>\n",
       "      <th>Class</th>\n",
       "    </tr>\n",
       "  </thead>\n",
       "  <tbody>\n",
       "    <tr>\n",
       "      <th>0</th>\n",
       "      <td>/*test 529*/</td>\n",
       "      <td>-10.   int res = 0;\\n-9.   CURL *curl = NULL;\\...</td>\n",
       "      <td>Not Useful</td>\n",
       "    </tr>\n",
       "    <tr>\n",
       "      <th>1</th>\n",
       "      <td>/*test 525*/</td>\n",
       "      <td>-2.     fprintf(stderr, \"Usage: lib529 [url] [...</td>\n",
       "      <td>Not Useful</td>\n",
       "    </tr>\n",
       "    <tr>\n",
       "      <th>2</th>\n",
       "      <td>/*done*/</td>\n",
       "      <td>-10.   multi_add_handle(m, curl);\\n-9.   for(;...</td>\n",
       "      <td>Not Useful</td>\n",
       "    </tr>\n",
       "    <tr>\n",
       "      <th>3</th>\n",
       "      <td>/*test 529*/</td>\n",
       "      <td>-10.   int res = 0;\\n-9.   CURL *curl = NULL;\\...</td>\n",
       "      <td>Not Useful</td>\n",
       "    </tr>\n",
       "    <tr>\n",
       "      <th>4</th>\n",
       "      <td>/*test 525*/</td>\n",
       "      <td>-2.     fprintf(stderr, \"Usage: lib529 [url] [...</td>\n",
       "      <td>Not Useful</td>\n",
       "    </tr>\n",
       "    <tr>\n",
       "      <th>5</th>\n",
       "      <td>/*argv1 = URL\\n * argv2 = proxy\\n * argv3 = no...</td>\n",
       "      <td>-9.  *\\n-8.  * You may opt to use, copy, modif...</td>\n",
       "      <td>Not Useful</td>\n",
       "    </tr>\n",
       "    <tr>\n",
       "      <th>6</th>\n",
       "      <td>/*enable ascii/text mode*/</td>\n",
       "      <td>-10.   if(!curl) {\\n-9.     fprintf(stderr, \"c...</td>\n",
       "      <td>Not Useful</td>\n",
       "    </tr>\n",
       "    <tr>\n",
       "      <th>7</th>\n",
       "      <td>/*100 ms*/</td>\n",
       "      <td>-10.   multi_add_handle(mhandle, handle);\\n-9....</td>\n",
       "      <td>Not Useful</td>\n",
       "    </tr>\n",
       "    <tr>\n",
       "      <th>8</th>\n",
       "      <td>/*on failure don't abort just issue a warning*/</td>\n",
       "      <td>-10.    * point the resulting soft limit is ou...</td>\n",
       "      <td>Not Useful</td>\n",
       "    </tr>\n",
       "    <tr>\n",
       "      <th>9</th>\n",
       "      <td>/*on failure don't abort just issue a warning*/</td>\n",
       "      <td>-10.    * point the resulting soft limit is ou...</td>\n",
       "      <td>Not Useful</td>\n",
       "    </tr>\n",
       "  </tbody>\n",
       "</table>\n",
       "</div>"
      ],
      "text/plain": [
       "                                            Comments  \\\n",
       "0                                       /*test 529*/   \n",
       "1                                       /*test 525*/   \n",
       "2                                           /*done*/   \n",
       "3                                       /*test 529*/   \n",
       "4                                       /*test 525*/   \n",
       "5  /*argv1 = URL\\n * argv2 = proxy\\n * argv3 = no...   \n",
       "6                         /*enable ascii/text mode*/   \n",
       "7                                         /*100 ms*/   \n",
       "8    /*on failure don't abort just issue a warning*/   \n",
       "9    /*on failure don't abort just issue a warning*/   \n",
       "\n",
       "                            Surrounding Code Context       Class  \n",
       "0  -10.   int res = 0;\\n-9.   CURL *curl = NULL;\\...  Not Useful  \n",
       "1  -2.     fprintf(stderr, \"Usage: lib529 [url] [...  Not Useful  \n",
       "2  -10.   multi_add_handle(m, curl);\\n-9.   for(;...  Not Useful  \n",
       "3  -10.   int res = 0;\\n-9.   CURL *curl = NULL;\\...  Not Useful  \n",
       "4  -2.     fprintf(stderr, \"Usage: lib529 [url] [...  Not Useful  \n",
       "5  -9.  *\\n-8.  * You may opt to use, copy, modif...  Not Useful  \n",
       "6  -10.   if(!curl) {\\n-9.     fprintf(stderr, \"c...  Not Useful  \n",
       "7  -10.   multi_add_handle(mhandle, handle);\\n-9....  Not Useful  \n",
       "8  -10.    * point the resulting soft limit is ou...  Not Useful  \n",
       "9  -10.    * point the resulting soft limit is ou...  Not Useful  "
      ]
     },
     "execution_count": 3,
     "metadata": {},
     "output_type": "execute_result"
    }
   ],
   "source": [
    "irse_df = pd.read_csv('IRSE_FIRE_2022_Track_Training_Data_preprocessed.csv')\n",
    "\n",
    "print(irse_df.info())\n",
    "\n",
    "irse_df.head(10)"
   ]
  },
  {
   "cell_type": "code",
   "execution_count": 4,
   "metadata": {},
   "outputs": [
    {
     "data": {
      "text/plain": [
       "(8047, 8047)"
      ]
     },
     "execution_count": 4,
     "metadata": {},
     "output_type": "execute_result"
    }
   ],
   "source": [
    "comments = irse_df['Comments'].tolist()\n",
    "contexts = irse_df['Surrounding Code Context']\n",
    "\n",
    "len(comments), len(contexts)"
   ]
  },
  {
   "cell_type": "code",
   "execution_count": 5,
   "metadata": {},
   "outputs": [
    {
     "data": {
      "application/vnd.jupyter.widget-view+json": {
       "model_id": "c76353d7a8a841e5bfcfd342fe4c4b86",
       "version_major": 2,
       "version_minor": 0
      },
      "text/plain": [
       "Downloading:   0%|          | 0.00/226k [00:00<?, ?B/s]"
      ]
     },
     "metadata": {},
     "output_type": "display_data"
    },
    {
     "data": {
      "application/vnd.jupyter.widget-view+json": {
       "model_id": "e76d1816766b4effa2652413ff1bcd6b",
       "version_major": 2,
       "version_minor": 0
      },
      "text/plain": [
       "Downloading:   0%|          | 0.00/28.0 [00:00<?, ?B/s]"
      ]
     },
     "metadata": {},
     "output_type": "display_data"
    },
    {
     "data": {
      "application/vnd.jupyter.widget-view+json": {
       "model_id": "d4d66693a5554b7ab0ce1586007e1e9c",
       "version_major": 2,
       "version_minor": 0
      },
      "text/plain": [
       "Downloading:   0%|          | 0.00/570 [00:00<?, ?B/s]"
      ]
     },
     "metadata": {},
     "output_type": "display_data"
    },
    {
     "data": {
      "text/plain": [
       "PreTrainedTokenizer(name_or_path='bert-base-uncased', vocab_size=30522, model_max_len=512, is_fast=False, padding_side='right', truncation_side='right', special_tokens={'unk_token': '[UNK]', 'sep_token': '[SEP]', 'pad_token': '[PAD]', 'cls_token': '[CLS]', 'mask_token': '[MASK]'})"
      ]
     },
     "execution_count": 5,
     "metadata": {},
     "output_type": "execute_result"
    }
   ],
   "source": [
    "tokenizer = BertTokenizer.from_pretrained('bert-base-uncased')\n",
    "\n",
    "tokenizer"
   ]
  },
  {
   "cell_type": "code",
   "execution_count": 6,
   "metadata": {},
   "outputs": [
    {
     "data": {
      "text/plain": [
       "(8047, 8047)"
      ]
     },
     "execution_count": 6,
     "metadata": {},
     "output_type": "execute_result"
    }
   ],
   "source": [
    "comments_tok = [tokenizer.tokenize(c) for c in comments]\n",
    "contexts_tok = [tokenizer.tokenize(c) for c in contexts]\n",
    "\n",
    "len(comments_tok), len(contexts_tok)"
   ]
  },
  {
   "cell_type": "code",
   "execution_count": 7,
   "metadata": {},
   "outputs": [
    {
     "data": {
      "text/plain": [
       "(['/',\n",
       "  '*',\n",
       "  'try',\n",
       "  'to',\n",
       "  'deal',\n",
       "  'with',\n",
       "  'cr',\n",
       "  '##lf',\n",
       "  'or',\n",
       "  'just',\n",
       "  'l',\n",
       "  '##f',\n",
       "  '*',\n",
       "  '/'],\n",
       " ['-',\n",
       "  '10',\n",
       "  '.',\n",
       "  'log',\n",
       "  '##ms',\n",
       "  '##g',\n",
       "  '(',\n",
       "  '\"',\n",
       "  'instructed',\n",
       "  'to',\n",
       "  'reject',\n",
       "  'expect',\n",
       "  ':',\n",
       "  '100',\n",
       "  '-',\n",
       "  'continue',\n",
       "  '\"',\n",
       "  ')',\n",
       "  ';',\n",
       "  '-',\n",
       "  '9',\n",
       "  '.',\n",
       "  're',\n",
       "  '##q',\n",
       "  '-',\n",
       "  '>',\n",
       "  'no',\n",
       "  '##ex',\n",
       "  '##pe',\n",
       "  '##ct',\n",
       "  '=',\n",
       "  'true',\n",
       "  ';',\n",
       "  '-',\n",
       "  '8',\n",
       "  '.',\n",
       "  '}',\n",
       "  '-',\n",
       "  '7',\n",
       "  '.',\n",
       "  'else',\n",
       "  'if',\n",
       "  '(',\n",
       "  '1',\n",
       "  '=',\n",
       "  '=',\n",
       "  'ss',\n",
       "  '##can',\n",
       "  '##f',\n",
       "  '(',\n",
       "  'cm',\n",
       "  '##d',\n",
       "  ',',\n",
       "  '\"',\n",
       "  'write',\n",
       "  '##del',\n",
       "  '##ay',\n",
       "  ':',\n",
       "  '%',\n",
       "  'd',\n",
       "  '\"',\n",
       "  ',',\n",
       "  '&',\n",
       "  'nu',\n",
       "  '##m',\n",
       "  ')',\n",
       "  ')',\n",
       "  '{',\n",
       "  '-',\n",
       "  '6',\n",
       "  '.',\n",
       "  'log',\n",
       "  '##ms',\n",
       "  '##g',\n",
       "  '(',\n",
       "  '\"',\n",
       "  'instructed',\n",
       "  'to',\n",
       "  'delay',\n",
       "  '%',\n",
       "  'd',\n",
       "  'sec',\n",
       "  '##s',\n",
       "  'between',\n",
       "  'packets',\n",
       "  '\"',\n",
       "  ',',\n",
       "  'nu',\n",
       "  '##m',\n",
       "  ')',\n",
       "  ';',\n",
       "  '-',\n",
       "  '5',\n",
       "  '.',\n",
       "  're',\n",
       "  '##q',\n",
       "  '-',\n",
       "  '>',\n",
       "  'write',\n",
       "  '##del',\n",
       "  '##ay',\n",
       "  '=',\n",
       "  'nu',\n",
       "  '##m',\n",
       "  ';',\n",
       "  '-',\n",
       "  '4',\n",
       "  '.',\n",
       "  '}',\n",
       "  '-',\n",
       "  '3',\n",
       "  '.',\n",
       "  'else',\n",
       "  '{',\n",
       "  '-',\n",
       "  '2',\n",
       "  '.',\n",
       "  'log',\n",
       "  '##ms',\n",
       "  '##g',\n",
       "  '(',\n",
       "  '\"',\n",
       "  'unknown',\n",
       "  '<',\n",
       "  'server',\n",
       "  '##cm',\n",
       "  '##d',\n",
       "  '>',\n",
       "  'instruction',\n",
       "  'found',\n",
       "  ':',\n",
       "  '%',\n",
       "  's',\n",
       "  '\"',\n",
       "  ',',\n",
       "  'cm',\n",
       "  '##d',\n",
       "  ')',\n",
       "  ';',\n",
       "  '-',\n",
       "  '1',\n",
       "  '.',\n",
       "  '}',\n",
       "  '/',\n",
       "  '*',\n",
       "  'try',\n",
       "  'to',\n",
       "  'deal',\n",
       "  'with',\n",
       "  'cr',\n",
       "  '##lf',\n",
       "  'or',\n",
       "  'just',\n",
       "  'l',\n",
       "  '##f',\n",
       "  '*',\n",
       "  '/',\n",
       "  '1',\n",
       "  '.',\n",
       "  'check',\n",
       "  '=',\n",
       "  'st',\n",
       "  '##rch',\n",
       "  '##r',\n",
       "  '(',\n",
       "  'cm',\n",
       "  '##d',\n",
       "  ',',\n",
       "  \"'\",\n",
       "  '\\\\',\n",
       "  'r',\n",
       "  \"'\",\n",
       "  ')',\n",
       "  ';',\n",
       "  '2',\n",
       "  '.',\n",
       "  'if',\n",
       "  '(',\n",
       "  '!',\n",
       "  'check',\n",
       "  ')',\n",
       "  '3',\n",
       "  '.',\n",
       "  'check',\n",
       "  '=',\n",
       "  'st',\n",
       "  '##rch',\n",
       "  '##r',\n",
       "  '(',\n",
       "  'cm',\n",
       "  '##d',\n",
       "  ',',\n",
       "  \"'\",\n",
       "  '\\\\',\n",
       "  'n',\n",
       "  \"'\",\n",
       "  ')',\n",
       "  ';',\n",
       "  '4',\n",
       "  '.',\n",
       "  'if',\n",
       "  '(',\n",
       "  'check',\n",
       "  ')',\n",
       "  '{'])"
      ]
     },
     "execution_count": 7,
     "metadata": {},
     "output_type": "execute_result"
    }
   ],
   "source": [
    "comments_tok[200], contexts_tok[200]"
   ]
  },
  {
   "cell_type": "code",
   "execution_count": 8,
   "metadata": {},
   "outputs": [
    {
     "data": {
      "text/plain": [
       "(31.159935379644587, 57.68057070629073, 12.0, 5, 1001)"
      ]
     },
     "execution_count": 8,
     "metadata": {},
     "output_type": "execute_result"
    }
   ],
   "source": [
    "comments_tok_lens = np.array([len(c) for c in comments_tok])\n",
    "contexts_tok_lens = np.array([len(c) for c in contexts_tok])\n",
    "\n",
    "comments_tok_lens.mean(), comments_tok_lens.std(), np.median(comments_tok_lens), \\\n",
    "    comments_tok_lens.min(), comments_tok_lens.max()"
   ]
  },
  {
   "cell_type": "code",
   "execution_count": 9,
   "metadata": {},
   "outputs": [
    {
     "data": {
      "text/plain": [
       "(182.41468870386478, 130.51177389269245, 163.0, 9, 5741)"
      ]
     },
     "execution_count": 9,
     "metadata": {},
     "output_type": "execute_result"
    }
   ],
   "source": [
    "contexts_tok_lens = np.array([len(c) for c in contexts_tok])\n",
    "\n",
    "contexts_tok_lens.mean(), contexts_tok_lens.std(), np.median(contexts_tok_lens), \\\n",
    "    contexts_tok_lens.min(), contexts_tok_lens.max()"
   ]
  },
  {
   "cell_type": "code",
   "execution_count": 10,
   "metadata": {},
   "outputs": [
    {
     "data": {
      "image/png": "[encoded data removed]",
      "text/plain": [
       "<Figure size 432x288 with 1 Axes>"
      ]
     },
     "metadata": {
      "needs_background": "light"
     },
     "output_type": "display_data"
    }
   ],
   "source": [
    "sns.histplot(comments_tok_lens, binrange=(0, 150))\n",
    "plt.title('Histogram of comment tokenization lengths')\n",
    "plt.show()"
   ]
  },
  {
   "cell_type": "code",
   "execution_count": 11,
   "metadata": {},
   "outputs": [
    {
     "data": {
      "image/png": "[encoded data removed]",
      "text/plain": [
       "<Figure size 432x288 with 1 Axes>"
      ]
     },
     "metadata": {
      "needs_background": "light"
     },
     "output_type": "display_data"
    }
   ],
   "source": [
    "sns.ecdfplot(comments_tok_lens)\n",
    "plt.grid(which='both')\n",
    "plt.title('ECDF plot for comment tokenization lengths')\n",
    "plt.show()"
   ]
  },
  {
   "cell_type": "code",
   "execution_count": 12,
   "metadata": {},
   "outputs": [
    {
     "data": {
      "image/png": "[encoded data removed]",
      "text/plain": [
       "<Figure size 432x288 with 1 Axes>"
      ]
     },
     "metadata": {
      "needs_background": "light"
     },
     "output_type": "display_data"
    }
   ],
   "source": [
    "sns.histplot(contexts_tok_lens, binrange=(0, 1000))\n",
    "plt.title('Histogram of context tokenization lengths')\n",
    "plt.show()"
   ]
  },
  {
   "cell_type": "code",
   "execution_count": 13,
   "metadata": {},
   "outputs": [
    {
     "data": {
      "image/png": "[encoded data removed]",
      "text/plain": [
       "<Figure size 648x432 with 1 Axes>"
      ]
     },
     "metadata": {
      "needs_background": "light"
     },
     "output_type": "display_data"
    }
   ],
   "source": [
    "plt.figure(figsize=(9, 6))\n",
    "sns.ecdfplot(contexts_tok_lens)\n",
    "plt.grid(which='both')\n",
    "plt.title('ECDF plot for context tokenization lengths')\n",
    "plt.xticks(list(range(0, 10000, 500)), rotation=20)\n",
    "plt.show()"
   ]
  },
  {
   "cell_type": "code",
   "execution_count": 16,
   "metadata": {},
   "outputs": [
    {
     "data": {
      "text/plain": [
       "(Useful        4337\n",
       " Not Useful    3710\n",
       " Name: Class, dtype: int64,\n",
       " Useful        0.538959\n",
       " Not Useful    0.461041\n",
       " Name: Class, dtype: float64)"
      ]
     },
     "execution_count": 16,
     "metadata": {},
     "output_type": "execute_result"
    }
   ],
   "source": [
    "irse_df['Class'].value_counts(), irse_df['Class'].value_counts(normalize=True)"
   ]
  },
  {
   "cell_type": "code",
   "execution_count": 17,
   "metadata": {},
   "outputs": [
    {
     "data": {
      "text/plain": [
       "(Useful        3384\n",
       " Not Useful    2565\n",
       " Name: Class, dtype: int64,\n",
       " Useful        0.568835\n",
       " Not Useful    0.431165\n",
       " Name: Class, dtype: float64)"
      ]
     },
     "execution_count": 17,
     "metadata": {},
     "output_type": "execute_result"
    }
   ],
   "source": [
    "irse_df.drop_duplicates()['Class'].value_counts(), \\\n",
    "    irse_df.drop_duplicates()['Class'].value_counts(normalize=True)"
   ]
  },
  {
   "cell_type": "code",
   "execution_count": null,
   "metadata": {},
   "outputs": [],
   "source": []
  }
 ],
 "metadata": {
  "kernelspec": {
   "display_name": "Python 3.9.10 ('base')",
   "language": "python",
   "name": "python3"
  },
  "language_info": {
   "codemirror_mode": {
    "name": "ipython",
    "version": 3
   },
   "file_extension": ".py",
   "mimetype": "text/x-python",
   "name": "python",
   "nbconvert_exporter": "python",
   "pygments_lexer": "ipython3",
   "version": "3.9.10"
  },
  "orig_nbformat": 4,
  "vscode": {
   "interpreter": {
    "hash": "57ba542a7e01434f0efba8458620b8a5d586d5cdb58a6ff11a95f38e977018f2"
   }
  }
 },
 "nbformat": 4,
 "nbformat_minor": 2
}
