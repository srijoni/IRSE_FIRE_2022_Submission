{
 "cells": [
  {
   "cell_type": "code",
   "execution_count": 2,
   "id": "0120b997",
   "metadata": {},
   "outputs": [],
   "source": [
    "import pandas as pd"
   ]
  },
  {
   "cell_type": "code",
   "execution_count": 3,
   "id": "b652947f",
   "metadata": {},
   "outputs": [],
   "source": [
    "data= pd.read_csv(\"text.csv\")"
   ]
  },
  {
   "cell_type": "code",
   "execution_count": 4,
   "id": "e663c873",
   "metadata": {},
   "outputs": [
    {
     "data": {
      "text/html": [
       "<div>\n",
       "<style scoped>\n",
       "    .dataframe tbody tr th:only-of-type {\n",
       "        vertical-align: middle;\n",
       "    }\n",
       "\n",
       "    .dataframe tbody tr th {\n",
       "        vertical-align: top;\n",
       "    }\n",
       "\n",
       "    .dataframe thead th {\n",
       "        text-align: right;\n",
       "    }\n",
       "</style>\n",
       "<table border=\"1\" class=\"dataframe\">\n",
       "  <thead>\n",
       "    <tr style=\"text-align: right;\">\n",
       "      <th></th>\n",
       "      <th>Unnamed: 0</th>\n",
       "      <th>Comments</th>\n",
       "      <th>Surrounding Code Context</th>\n",
       "      <th>Class</th>\n",
       "      <th>Unnamed: 4</th>\n",
       "    </tr>\n",
       "  </thead>\n",
       "  <tbody>\n",
       "    <tr>\n",
       "      <th>0</th>\n",
       "      <td>1</td>\n",
       "      <td>/*test 529*/</td>\n",
       "      <td>-10.   int res = 0;\\n-9.   CURL *curl = NULL;\\...</td>\n",
       "      <td>Not Useful</td>\n",
       "      <td>NaN</td>\n",
       "    </tr>\n",
       "    <tr>\n",
       "      <th>1</th>\n",
       "      <td>2</td>\n",
       "      <td>/*test 525*/</td>\n",
       "      <td>-2.     fprintf(stderr, \"Usage: lib529 [url] [...</td>\n",
       "      <td>Not Useful</td>\n",
       "      <td>NaN</td>\n",
       "    </tr>\n",
       "    <tr>\n",
       "      <th>2</th>\n",
       "      <td>3</td>\n",
       "      <td>/*done*/</td>\n",
       "      <td>-10.   multi_add_handle(m, curl);\\n-9.   for(;...</td>\n",
       "      <td>Not Useful</td>\n",
       "      <td>NaN</td>\n",
       "    </tr>\n",
       "    <tr>\n",
       "      <th>3</th>\n",
       "      <td>4</td>\n",
       "      <td>/*test 529*/</td>\n",
       "      <td>-10.   int res = 0;\\n-9.   CURL *curl = NULL;\\...</td>\n",
       "      <td>Not Useful</td>\n",
       "      <td>NaN</td>\n",
       "    </tr>\n",
       "    <tr>\n",
       "      <th>4</th>\n",
       "      <td>5</td>\n",
       "      <td>/*test 525*/</td>\n",
       "      <td>-2.     fprintf(stderr, \"Usage: lib529 [url] [...</td>\n",
       "      <td>Not Useful</td>\n",
       "      <td>NaN</td>\n",
       "    </tr>\n",
       "    <tr>\n",
       "      <th>...</th>\n",
       "      <td>...</td>\n",
       "      <td>...</td>\n",
       "      <td>...</td>\n",
       "      <td>...</td>\n",
       "      <td>...</td>\n",
       "    </tr>\n",
       "    <tr>\n",
       "      <th>8652</th>\n",
       "      <td>8653</td>\n",
       "      <td>/*shape values and derivatives\\nat new p_unit ...</td>\n",
       "      <td>nan\\n\\n\\n /*shape values and derivatives\\nat n...</td>\n",
       "      <td>Useful</td>\n",
       "      <td>NaN</td>\n",
       "    </tr>\n",
       "    <tr>\n",
       "      <th>8653</th>\n",
       "      <td>8654</td>\n",
       "      <td>/*see if we are making progress with the curre...</td>\n",
       "      <td>nan\\n\\n\\n /*see if we are making progress with...</td>\n",
       "      <td>Useful</td>\n",
       "      <td>NaN</td>\n",
       "    </tr>\n",
       "    <tr>\n",
       "      <th>8654</th>\n",
       "      <td>8655</td>\n",
       "      <td>/*Evaluate first and second derivatives*/</td>\n",
       "      <td>nan\\n\\n\\n /*Evaluate first and second derivati...</td>\n",
       "      <td>Useful</td>\n",
       "      <td>NaN</td>\n",
       "    </tr>\n",
       "    <tr>\n",
       "      <th>8655</th>\n",
       "      <td>8656</td>\n",
       "      <td>/*TODO: implement a line search here in much t...</td>\n",
       "      <td>nan\\n\\n\\n /*TODO: implement a line search here...</td>\n",
       "      <td>Useful</td>\n",
       "      <td>NaN</td>\n",
       "    </tr>\n",
       "    <tr>\n",
       "      <th>8656</th>\n",
       "      <td>8657</td>\n",
       "      <td>/*Here we check that in the last execution of ...</td>\n",
       "      <td>nan\\n\\n\\n /*Here we check that in the last exe...</td>\n",
       "      <td>Useful</td>\n",
       "      <td>NaN</td>\n",
       "    </tr>\n",
       "  </tbody>\n",
       "</table>\n",
       "<p>8657 rows × 5 columns</p>\n",
       "</div>"
      ],
      "text/plain": [
       "      Unnamed: 0                                           Comments  \\\n",
       "0              1                                       /*test 529*/   \n",
       "1              2                                       /*test 525*/   \n",
       "2              3                                           /*done*/   \n",
       "3              4                                       /*test 529*/   \n",
       "4              5                                       /*test 525*/   \n",
       "...          ...                                                ...   \n",
       "8652        8653  /*shape values and derivatives\\nat new p_unit ...   \n",
       "8653        8654  /*see if we are making progress with the curre...   \n",
       "8654        8655          /*Evaluate first and second derivatives*/   \n",
       "8655        8656  /*TODO: implement a line search here in much t...   \n",
       "8656        8657  /*Here we check that in the last execution of ...   \n",
       "\n",
       "                               Surrounding Code Context       Class  \\\n",
       "0     -10.   int res = 0;\\n-9.   CURL *curl = NULL;\\...  Not Useful   \n",
       "1     -2.     fprintf(stderr, \"Usage: lib529 [url] [...  Not Useful   \n",
       "2     -10.   multi_add_handle(m, curl);\\n-9.   for(;...  Not Useful   \n",
       "3     -10.   int res = 0;\\n-9.   CURL *curl = NULL;\\...  Not Useful   \n",
       "4     -2.     fprintf(stderr, \"Usage: lib529 [url] [...  Not Useful   \n",
       "...                                                 ...         ...   \n",
       "8652  nan\\n\\n\\n /*shape values and derivatives\\nat n...      Useful   \n",
       "8653  nan\\n\\n\\n /*see if we are making progress with...      Useful   \n",
       "8654  nan\\n\\n\\n /*Evaluate first and second derivati...      Useful   \n",
       "8655  nan\\n\\n\\n /*TODO: implement a line search here...      Useful   \n",
       "8656  nan\\n\\n\\n /*Here we check that in the last exe...      Useful   \n",
       "\n",
       "      Unnamed: 4  \n",
       "0            NaN  \n",
       "1            NaN  \n",
       "2            NaN  \n",
       "3            NaN  \n",
       "4            NaN  \n",
       "...          ...  \n",
       "8652         NaN  \n",
       "8653         NaN  \n",
       "8654         NaN  \n",
       "8655         NaN  \n",
       "8656         NaN  \n",
       "\n",
       "[8657 rows x 5 columns]"
      ]
     },
     "execution_count": 4,
     "metadata": {},
     "output_type": "execute_result"
    }
   ],
   "source": [
    "data"
   ]
  },
  {
   "cell_type": "code",
   "execution_count": 5,
   "id": "fde981dc",
   "metadata": {},
   "outputs": [
    {
     "data": {
      "text/html": [
       "<div>\n",
       "<style scoped>\n",
       "    .dataframe tbody tr th:only-of-type {\n",
       "        vertical-align: middle;\n",
       "    }\n",
       "\n",
       "    .dataframe tbody tr th {\n",
       "        vertical-align: top;\n",
       "    }\n",
       "\n",
       "    .dataframe thead th {\n",
       "        text-align: right;\n",
       "    }\n",
       "</style>\n",
       "<table border=\"1\" class=\"dataframe\">\n",
       "  <thead>\n",
       "    <tr style=\"text-align: right;\">\n",
       "      <th></th>\n",
       "      <th>Comments</th>\n",
       "      <th>Surrounding Code Context</th>\n",
       "      <th>Class</th>\n",
       "      <th>Unnamed: 4</th>\n",
       "    </tr>\n",
       "  </thead>\n",
       "  <tbody>\n",
       "    <tr>\n",
       "      <th>0</th>\n",
       "      <td>/*test 529*/</td>\n",
       "      <td>-10.   int res = 0;\\n-9.   CURL *curl = NULL;\\...</td>\n",
       "      <td>Not Useful</td>\n",
       "      <td>NaN</td>\n",
       "    </tr>\n",
       "    <tr>\n",
       "      <th>1</th>\n",
       "      <td>/*test 525*/</td>\n",
       "      <td>-2.     fprintf(stderr, \"Usage: lib529 [url] [...</td>\n",
       "      <td>Not Useful</td>\n",
       "      <td>NaN</td>\n",
       "    </tr>\n",
       "    <tr>\n",
       "      <th>2</th>\n",
       "      <td>/*done*/</td>\n",
       "      <td>-10.   multi_add_handle(m, curl);\\n-9.   for(;...</td>\n",
       "      <td>Not Useful</td>\n",
       "      <td>NaN</td>\n",
       "    </tr>\n",
       "    <tr>\n",
       "      <th>3</th>\n",
       "      <td>/*test 529*/</td>\n",
       "      <td>-10.   int res = 0;\\n-9.   CURL *curl = NULL;\\...</td>\n",
       "      <td>Not Useful</td>\n",
       "      <td>NaN</td>\n",
       "    </tr>\n",
       "    <tr>\n",
       "      <th>4</th>\n",
       "      <td>/*test 525*/</td>\n",
       "      <td>-2.     fprintf(stderr, \"Usage: lib529 [url] [...</td>\n",
       "      <td>Not Useful</td>\n",
       "      <td>NaN</td>\n",
       "    </tr>\n",
       "    <tr>\n",
       "      <th>...</th>\n",
       "      <td>...</td>\n",
       "      <td>...</td>\n",
       "      <td>...</td>\n",
       "      <td>...</td>\n",
       "    </tr>\n",
       "    <tr>\n",
       "      <th>8652</th>\n",
       "      <td>/*shape values and derivatives\\nat new p_unit ...</td>\n",
       "      <td>nan\\n\\n\\n /*shape values and derivatives\\nat n...</td>\n",
       "      <td>Useful</td>\n",
       "      <td>NaN</td>\n",
       "    </tr>\n",
       "    <tr>\n",
       "      <th>8653</th>\n",
       "      <td>/*see if we are making progress with the curre...</td>\n",
       "      <td>nan\\n\\n\\n /*see if we are making progress with...</td>\n",
       "      <td>Useful</td>\n",
       "      <td>NaN</td>\n",
       "    </tr>\n",
       "    <tr>\n",
       "      <th>8654</th>\n",
       "      <td>/*Evaluate first and second derivatives*/</td>\n",
       "      <td>nan\\n\\n\\n /*Evaluate first and second derivati...</td>\n",
       "      <td>Useful</td>\n",
       "      <td>NaN</td>\n",
       "    </tr>\n",
       "    <tr>\n",
       "      <th>8655</th>\n",
       "      <td>/*TODO: implement a line search here in much t...</td>\n",
       "      <td>nan\\n\\n\\n /*TODO: implement a line search here...</td>\n",
       "      <td>Useful</td>\n",
       "      <td>NaN</td>\n",
       "    </tr>\n",
       "    <tr>\n",
       "      <th>8656</th>\n",
       "      <td>/*Here we check that in the last execution of ...</td>\n",
       "      <td>nan\\n\\n\\n /*Here we check that in the last exe...</td>\n",
       "      <td>Useful</td>\n",
       "      <td>NaN</td>\n",
       "    </tr>\n",
       "  </tbody>\n",
       "</table>\n",
       "<p>8657 rows × 4 columns</p>\n",
       "</div>"
      ],
      "text/plain": [
       "                                               Comments  \\\n",
       "0                                          /*test 529*/   \n",
       "1                                          /*test 525*/   \n",
       "2                                              /*done*/   \n",
       "3                                          /*test 529*/   \n",
       "4                                          /*test 525*/   \n",
       "...                                                 ...   \n",
       "8652  /*shape values and derivatives\\nat new p_unit ...   \n",
       "8653  /*see if we are making progress with the curre...   \n",
       "8654          /*Evaluate first and second derivatives*/   \n",
       "8655  /*TODO: implement a line search here in much t...   \n",
       "8656  /*Here we check that in the last execution of ...   \n",
       "\n",
       "                               Surrounding Code Context       Class  \\\n",
       "0     -10.   int res = 0;\\n-9.   CURL *curl = NULL;\\...  Not Useful   \n",
       "1     -2.     fprintf(stderr, \"Usage: lib529 [url] [...  Not Useful   \n",
       "2     -10.   multi_add_handle(m, curl);\\n-9.   for(;...  Not Useful   \n",
       "3     -10.   int res = 0;\\n-9.   CURL *curl = NULL;\\...  Not Useful   \n",
       "4     -2.     fprintf(stderr, \"Usage: lib529 [url] [...  Not Useful   \n",
       "...                                                 ...         ...   \n",
       "8652  nan\\n\\n\\n /*shape values and derivatives\\nat n...      Useful   \n",
       "8653  nan\\n\\n\\n /*see if we are making progress with...      Useful   \n",
       "8654  nan\\n\\n\\n /*Evaluate first and second derivati...      Useful   \n",
       "8655  nan\\n\\n\\n /*TODO: implement a line search here...      Useful   \n",
       "8656  nan\\n\\n\\n /*Here we check that in the last exe...      Useful   \n",
       "\n",
       "      Unnamed: 4  \n",
       "0            NaN  \n",
       "1            NaN  \n",
       "2            NaN  \n",
       "3            NaN  \n",
       "4            NaN  \n",
       "...          ...  \n",
       "8652         NaN  \n",
       "8653         NaN  \n",
       "8654         NaN  \n",
       "8655         NaN  \n",
       "8656         NaN  \n",
       "\n",
       "[8657 rows x 4 columns]"
      ]
     },
     "execution_count": 5,
     "metadata": {},
     "output_type": "execute_result"
    }
   ],
   "source": [
    "data.drop(\"Unnamed: 0\",axis=1,inplace=True)\n",
    "data"
   ]
  },
  {
   "cell_type": "code",
   "execution_count": 6,
   "id": "0b84bda8",
   "metadata": {},
   "outputs": [
    {
     "data": {
      "text/html": [
       "<div>\n",
       "<style scoped>\n",
       "    .dataframe tbody tr th:only-of-type {\n",
       "        vertical-align: middle;\n",
       "    }\n",
       "\n",
       "    .dataframe tbody tr th {\n",
       "        vertical-align: top;\n",
       "    }\n",
       "\n",
       "    .dataframe thead th {\n",
       "        text-align: right;\n",
       "    }\n",
       "</style>\n",
       "<table border=\"1\" class=\"dataframe\">\n",
       "  <thead>\n",
       "    <tr style=\"text-align: right;\">\n",
       "      <th></th>\n",
       "      <th>Comments</th>\n",
       "      <th>Surrounding Code Context</th>\n",
       "      <th>Class</th>\n",
       "    </tr>\n",
       "  </thead>\n",
       "  <tbody>\n",
       "    <tr>\n",
       "      <th>0</th>\n",
       "      <td>/*test 529*/</td>\n",
       "      <td>-10.   int res = 0;\\n-9.   CURL *curl = NULL;\\...</td>\n",
       "      <td>Not Useful</td>\n",
       "    </tr>\n",
       "    <tr>\n",
       "      <th>1</th>\n",
       "      <td>/*test 525*/</td>\n",
       "      <td>-2.     fprintf(stderr, \"Usage: lib529 [url] [...</td>\n",
       "      <td>Not Useful</td>\n",
       "    </tr>\n",
       "    <tr>\n",
       "      <th>2</th>\n",
       "      <td>/*done*/</td>\n",
       "      <td>-10.   multi_add_handle(m, curl);\\n-9.   for(;...</td>\n",
       "      <td>Not Useful</td>\n",
       "    </tr>\n",
       "    <tr>\n",
       "      <th>3</th>\n",
       "      <td>/*test 529*/</td>\n",
       "      <td>-10.   int res = 0;\\n-9.   CURL *curl = NULL;\\...</td>\n",
       "      <td>Not Useful</td>\n",
       "    </tr>\n",
       "    <tr>\n",
       "      <th>4</th>\n",
       "      <td>/*test 525*/</td>\n",
       "      <td>-2.     fprintf(stderr, \"Usage: lib529 [url] [...</td>\n",
       "      <td>Not Useful</td>\n",
       "    </tr>\n",
       "    <tr>\n",
       "      <th>...</th>\n",
       "      <td>...</td>\n",
       "      <td>...</td>\n",
       "      <td>...</td>\n",
       "    </tr>\n",
       "    <tr>\n",
       "      <th>8652</th>\n",
       "      <td>/*shape values and derivatives\\nat new p_unit ...</td>\n",
       "      <td>nan\\n\\n\\n /*shape values and derivatives\\nat n...</td>\n",
       "      <td>Useful</td>\n",
       "    </tr>\n",
       "    <tr>\n",
       "      <th>8653</th>\n",
       "      <td>/*see if we are making progress with the curre...</td>\n",
       "      <td>nan\\n\\n\\n /*see if we are making progress with...</td>\n",
       "      <td>Useful</td>\n",
       "    </tr>\n",
       "    <tr>\n",
       "      <th>8654</th>\n",
       "      <td>/*Evaluate first and second derivatives*/</td>\n",
       "      <td>nan\\n\\n\\n /*Evaluate first and second derivati...</td>\n",
       "      <td>Useful</td>\n",
       "    </tr>\n",
       "    <tr>\n",
       "      <th>8655</th>\n",
       "      <td>/*TODO: implement a line search here in much t...</td>\n",
       "      <td>nan\\n\\n\\n /*TODO: implement a line search here...</td>\n",
       "      <td>Useful</td>\n",
       "    </tr>\n",
       "    <tr>\n",
       "      <th>8656</th>\n",
       "      <td>/*Here we check that in the last execution of ...</td>\n",
       "      <td>nan\\n\\n\\n /*Here we check that in the last exe...</td>\n",
       "      <td>Useful</td>\n",
       "    </tr>\n",
       "  </tbody>\n",
       "</table>\n",
       "<p>8657 rows × 3 columns</p>\n",
       "</div>"
      ],
      "text/plain": [
       "                                               Comments  \\\n",
       "0                                          /*test 529*/   \n",
       "1                                          /*test 525*/   \n",
       "2                                              /*done*/   \n",
       "3                                          /*test 529*/   \n",
       "4                                          /*test 525*/   \n",
       "...                                                 ...   \n",
       "8652  /*shape values and derivatives\\nat new p_unit ...   \n",
       "8653  /*see if we are making progress with the curre...   \n",
       "8654          /*Evaluate first and second derivatives*/   \n",
       "8655  /*TODO: implement a line search here in much t...   \n",
       "8656  /*Here we check that in the last execution of ...   \n",
       "\n",
       "                               Surrounding Code Context       Class  \n",
       "0     -10.   int res = 0;\\n-9.   CURL *curl = NULL;\\...  Not Useful  \n",
       "1     -2.     fprintf(stderr, \"Usage: lib529 [url] [...  Not Useful  \n",
       "2     -10.   multi_add_handle(m, curl);\\n-9.   for(;...  Not Useful  \n",
       "3     -10.   int res = 0;\\n-9.   CURL *curl = NULL;\\...  Not Useful  \n",
       "4     -2.     fprintf(stderr, \"Usage: lib529 [url] [...  Not Useful  \n",
       "...                                                 ...         ...  \n",
       "8652  nan\\n\\n\\n /*shape values and derivatives\\nat n...      Useful  \n",
       "8653  nan\\n\\n\\n /*see if we are making progress with...      Useful  \n",
       "8654  nan\\n\\n\\n /*Evaluate first and second derivati...      Useful  \n",
       "8655  nan\\n\\n\\n /*TODO: implement a line search here...      Useful  \n",
       "8656  nan\\n\\n\\n /*Here we check that in the last exe...      Useful  \n",
       "\n",
       "[8657 rows x 3 columns]"
      ]
     },
     "execution_count": 6,
     "metadata": {},
     "output_type": "execute_result"
    }
   ],
   "source": [
    "data.drop(\"Unnamed: 4\",axis=1,inplace=True)\n",
    "data"
   ]
  },
  {
   "cell_type": "code",
   "execution_count": 7,
   "id": "2f85e057",
   "metadata": {},
   "outputs": [
    {
     "data": {
      "text/plain": [
       "Comments                    0\n",
       "Surrounding Code Context    0\n",
       "Class                       0\n",
       "dtype: int64"
      ]
     },
     "execution_count": 7,
     "metadata": {},
     "output_type": "execute_result"
    }
   ],
   "source": [
    "data.isnull().sum()"
   ]
  },
  {
   "cell_type": "code",
   "execution_count": 8,
   "id": "3640c1b1",
   "metadata": {},
   "outputs": [
    {
     "name": "stderr",
     "output_type": "stream",
     "text": [
      "[nltk_data] Downloading package stopwords to\n",
      "[nltk_data]     C:\\Users\\bikra\\AppData\\Roaming\\nltk_data...\n",
      "[nltk_data]   Package stopwords is already up-to-date!\n"
     ]
    },
    {
     "data": {
      "text/plain": [
       "True"
      ]
     },
     "execution_count": 8,
     "metadata": {},
     "output_type": "execute_result"
    }
   ],
   "source": [
    "# importing modules needed for text preprocessing\n",
    "import re\n",
    "import nltk\n",
    "nltk.download('stopwords')"
   ]
  },
  {
   "cell_type": "code",
   "execution_count": 9,
   "id": "1063e9e7",
   "metadata": {},
   "outputs": [
    {
     "name": "stdout",
     "output_type": "stream",
     "text": [
      "['i', 'me', 'my', 'myself', 'we', 'our', 'ours', 'ourselves', 'you', \"you're\", \"you've\", \"you'll\", \"you'd\", 'your', 'yours', 'yourself', 'yourselves', 'he', 'him', 'his', 'himself', 'she', \"she's\", 'her', 'hers', 'herself', 'it', \"it's\", 'its', 'itself', 'they', 'them', 'their', 'theirs', 'themselves', 'what', 'which', 'who', 'whom', 'this', 'that', \"that'll\", 'these', 'those', 'am', 'is', 'are', 'was', 'were', 'be', 'been', 'being', 'have', 'has', 'had', 'having', 'do', 'does', 'did', 'doing', 'a', 'an', 'the', 'and', 'but', 'if', 'or', 'because', 'as', 'until', 'while', 'of', 'at', 'by', 'for', 'with', 'about', 'against', 'between', 'into', 'through', 'during', 'before', 'after', 'above', 'below', 'to', 'from', 'up', 'down', 'in', 'out', 'on', 'off', 'over', 'under', 'again', 'further', 'then', 'once', 'here', 'there', 'when', 'where', 'why', 'how', 'all', 'any', 'both', 'each', 'few', 'more', 'most', 'other', 'some', 'such', 'no', 'nor', 'not', 'only', 'own', 'same', 'so', 'than', 'too', 'very', 's', 't', 'can', 'will', 'just', 'don', \"don't\", 'should', \"should've\", 'now', 'd', 'll', 'm', 'o', 're', 've', 'y', 'ain', 'aren', \"aren't\", 'couldn', \"couldn't\", 'didn', \"didn't\", 'doesn', \"doesn't\", 'hadn', \"hadn't\", 'hasn', \"hasn't\", 'haven', \"haven't\", 'isn', \"isn't\", 'ma', 'mightn', \"mightn't\", 'mustn', \"mustn't\", 'needn', \"needn't\", 'shan', \"shan't\", 'shouldn', \"shouldn't\", 'wasn', \"wasn't\", 'weren', \"weren't\", 'won', \"won't\", 'wouldn', \"wouldn't\"]\n"
     ]
    }
   ],
   "source": [
    "from nltk.corpus import stopwords\n",
    "stop_words= stopwords.words('english')\n",
    "print(stop_words)"
   ]
  },
  {
   "cell_type": "code",
   "execution_count": 10,
   "id": "0d63bcab",
   "metadata": {},
   "outputs": [
    {
     "name": "stderr",
     "output_type": "stream",
     "text": [
      "[nltk_data] Downloading package punkt to\n",
      "[nltk_data]     C:\\Users\\bikra\\AppData\\Roaming\\nltk_data...\n",
      "[nltk_data]   Package punkt is already up-to-date!\n",
      "[nltk_data] Downloading package wordnet to\n",
      "[nltk_data]     C:\\Users\\bikra\\AppData\\Roaming\\nltk_data...\n",
      "[nltk_data]   Package wordnet is already up-to-date!\n"
     ]
    },
    {
     "data": {
      "text/plain": [
       "True"
      ]
     },
     "execution_count": 10,
     "metadata": {},
     "output_type": "execute_result"
    }
   ],
   "source": [
    "nltk.download('punkt')\n",
    "nltk.download('wordnet')"
   ]
  },
  {
   "cell_type": "markdown",
   "id": "80b00757",
   "metadata": {},
   "source": [
    "# Applying the textPreprocessing on the dataset"
   ]
  },
  {
   "cell_type": "code",
   "execution_count": 11,
   "id": "0232e6bb",
   "metadata": {},
   "outputs": [],
   "source": [
    "from nltk.stem import WordNetLemmatizer"
   ]
  },
  {
   "cell_type": "code",
   "execution_count": 12,
   "id": "7b94bd0e",
   "metadata": {},
   "outputs": [],
   "source": [
    "lemmatizer=WordNetLemmatizer()\n",
    "def preprocess_text(text):\n",
    "    sentence=text\n",
    "    sentence= re.sub(r'[^\\w\\s]','',sentence)\n",
    "    words=nltk.word_tokenize(sentence)\n",
    "    words=[w for w in words if not w in stop_words]\n",
    "    filter_sentence=[]\n",
    "    for word in words:\n",
    "        filter_sentence.append(lemmatizer.lemmatize(word))\n",
    "    pro_sen=\" \"\n",
    "    for item in filter_sentence:\n",
    "        pro_sen+=item\n",
    "        pro_sen+=' '\n",
    "    return pro_sen"
   ]
  },
  {
   "cell_type": "code",
   "execution_count": 13,
   "id": "a72b5b99",
   "metadata": {},
   "outputs": [],
   "source": [
    "data.columns = data.columns.str.replace(' ','_')"
   ]
  },
  {
   "cell_type": "code",
   "execution_count": 14,
   "id": "e7c8ace7",
   "metadata": {},
   "outputs": [],
   "source": [
    "data['Comm_processed']=data.Comments.apply(preprocess_text)\n",
    "data['Surrounding_Code']= data.Surrounding_Code_Context.apply(preprocess_text)"
   ]
  },
  {
   "cell_type": "code",
   "execution_count": 15,
   "id": "fd02c38f",
   "metadata": {},
   "outputs": [],
   "source": [
    "data2=data.copy()"
   ]
  },
  {
   "cell_type": "code",
   "execution_count": 16,
   "id": "62d5560e",
   "metadata": {},
   "outputs": [],
   "source": [
    "data2.drop('Comments',axis=1, inplace=True)\n",
    "data2.drop('Surrounding_Code_Context',axis=1, inplace=True)"
   ]
  },
  {
   "cell_type": "code",
   "execution_count": 17,
   "id": "8caa7e03",
   "metadata": {},
   "outputs": [
    {
     "data": {
      "text/html": [
       "<div>\n",
       "<style scoped>\n",
       "    .dataframe tbody tr th:only-of-type {\n",
       "        vertical-align: middle;\n",
       "    }\n",
       "\n",
       "    .dataframe tbody tr th {\n",
       "        vertical-align: top;\n",
       "    }\n",
       "\n",
       "    .dataframe thead th {\n",
       "        text-align: right;\n",
       "    }\n",
       "</style>\n",
       "<table border=\"1\" class=\"dataframe\">\n",
       "  <thead>\n",
       "    <tr style=\"text-align: right;\">\n",
       "      <th></th>\n",
       "      <th>Class</th>\n",
       "      <th>Comment</th>\n",
       "      <th>Surrounding_Code</th>\n",
       "    </tr>\n",
       "  </thead>\n",
       "  <tbody>\n",
       "    <tr>\n",
       "      <th>0</th>\n",
       "      <td>Not Useful</td>\n",
       "      <td>test 529</td>\n",
       "      <td>10 int re 0 9 CURL curl NULL 8 FILE hd_src NU...</td>\n",
       "    </tr>\n",
       "    <tr>\n",
       "      <th>1</th>\n",
       "      <td>Not Useful</td>\n",
       "      <td>test 525</td>\n",
       "      <td>2 fprintfstderr Usage lib529 url uploadfilen ...</td>\n",
       "    </tr>\n",
       "    <tr>\n",
       "      <th>2</th>\n",
       "      <td>Not Useful</td>\n",
       "      <td>done</td>\n",
       "      <td>10 multi_add_handlem curl 9 8 struct timeval ...</td>\n",
       "    </tr>\n",
       "    <tr>\n",
       "      <th>3</th>\n",
       "      <td>Not Useful</td>\n",
       "      <td>test 529</td>\n",
       "      <td>10 int re 0 9 CURL curl NULL 8 FILE hd_src NU...</td>\n",
       "    </tr>\n",
       "    <tr>\n",
       "      <th>4</th>\n",
       "      <td>Not Useful</td>\n",
       "      <td>test 525</td>\n",
       "      <td>2 fprintfstderr Usage lib529 url uploadfilen ...</td>\n",
       "    </tr>\n",
       "  </tbody>\n",
       "</table>\n",
       "</div>"
      ],
      "text/plain": [
       "        Class     Comment                                   Surrounding_Code\n",
       "0  Not Useful   test 529    10 int re 0 9 CURL curl NULL 8 FILE hd_src NU...\n",
       "1  Not Useful   test 525    2 fprintfstderr Usage lib529 url uploadfilen ...\n",
       "2  Not Useful       done    10 multi_add_handlem curl 9 8 struct timeval ...\n",
       "3  Not Useful   test 529    10 int re 0 9 CURL curl NULL 8 FILE hd_src NU...\n",
       "4  Not Useful   test 525    2 fprintfstderr Usage lib529 url uploadfilen ..."
      ]
     },
     "execution_count": 17,
     "metadata": {},
     "output_type": "execute_result"
    }
   ],
   "source": [
    "data2.rename(columns = {'Comm_processed':'Comment', 'old_col2':'new_col2'}, inplace = True)\n",
    "data2.head()"
   ]
  },
  {
   "cell_type": "code",
   "execution_count": 18,
   "id": "dec081b9",
   "metadata": {},
   "outputs": [
    {
     "data": {
      "text/html": [
       "<div>\n",
       "<style scoped>\n",
       "    .dataframe tbody tr th:only-of-type {\n",
       "        vertical-align: middle;\n",
       "    }\n",
       "\n",
       "    .dataframe tbody tr th {\n",
       "        vertical-align: top;\n",
       "    }\n",
       "\n",
       "    .dataframe thead th {\n",
       "        text-align: right;\n",
       "    }\n",
       "</style>\n",
       "<table border=\"1\" class=\"dataframe\">\n",
       "  <thead>\n",
       "    <tr style=\"text-align: right;\">\n",
       "      <th></th>\n",
       "      <th>Class</th>\n",
       "      <th>Comment</th>\n",
       "      <th>Surrounding_Code</th>\n",
       "    </tr>\n",
       "  </thead>\n",
       "  <tbody>\n",
       "    <tr>\n",
       "      <th>0</th>\n",
       "      <td>Not Useful</td>\n",
       "      <td>test 529</td>\n",
       "      <td>10 int re 0 9 CURL curl NULL 8 FILE hd_src NU...</td>\n",
       "    </tr>\n",
       "    <tr>\n",
       "      <th>1</th>\n",
       "      <td>Not Useful</td>\n",
       "      <td>test 525</td>\n",
       "      <td>2 fprintfstderr Usage lib529 url uploadfilen ...</td>\n",
       "    </tr>\n",
       "    <tr>\n",
       "      <th>2</th>\n",
       "      <td>Not Useful</td>\n",
       "      <td>done</td>\n",
       "      <td>10 multi_add_handlem curl 9 8 struct timeval ...</td>\n",
       "    </tr>\n",
       "    <tr>\n",
       "      <th>3</th>\n",
       "      <td>Not Useful</td>\n",
       "      <td>test 529</td>\n",
       "      <td>10 int re 0 9 CURL curl NULL 8 FILE hd_src NU...</td>\n",
       "    </tr>\n",
       "    <tr>\n",
       "      <th>4</th>\n",
       "      <td>Not Useful</td>\n",
       "      <td>test 525</td>\n",
       "      <td>2 fprintfstderr Usage lib529 url uploadfilen ...</td>\n",
       "    </tr>\n",
       "    <tr>\n",
       "      <th>...</th>\n",
       "      <td>...</td>\n",
       "      <td>...</td>\n",
       "      <td>...</td>\n",
       "    </tr>\n",
       "    <tr>\n",
       "      <th>8652</th>\n",
       "      <td>Useful</td>\n",
       "      <td>shape value derivative new p_unit point</td>\n",
       "      <td>nan shape value derivative new p_unit point nan</td>\n",
       "    </tr>\n",
       "    <tr>\n",
       "      <th>8653</th>\n",
       "      <td>Useful</td>\n",
       "      <td>see making progress current step length reduc...</td>\n",
       "      <td>nan see making progress current step length r...</td>\n",
       "    </tr>\n",
       "    <tr>\n",
       "      <th>8654</th>\n",
       "      <td>Useful</td>\n",
       "      <td>Evaluate first second derivative</td>\n",
       "      <td>nan Evaluate first second derivative nan</td>\n",
       "    </tr>\n",
       "    <tr>\n",
       "      <th>8655</th>\n",
       "      <td>Useful</td>\n",
       "      <td>TODO implement line search much way correspon...</td>\n",
       "      <td>nan TODO implement line search much way corre...</td>\n",
       "    </tr>\n",
       "    <tr>\n",
       "      <th>8656</th>\n",
       "      <td>Useful</td>\n",
       "      <td>Here check last execution first condition alr...</td>\n",
       "      <td>nan Here check last execution first condition...</td>\n",
       "    </tr>\n",
       "  </tbody>\n",
       "</table>\n",
       "<p>8657 rows × 3 columns</p>\n",
       "</div>"
      ],
      "text/plain": [
       "           Class                                            Comment  \\\n",
       "0     Not Useful                                          test 529    \n",
       "1     Not Useful                                          test 525    \n",
       "2     Not Useful                                              done    \n",
       "3     Not Useful                                          test 529    \n",
       "4     Not Useful                                          test 525    \n",
       "...          ...                                                ...   \n",
       "8652      Useful           shape value derivative new p_unit point    \n",
       "8653      Useful   see making progress current step length reduc...   \n",
       "8654      Useful                  Evaluate first second derivative    \n",
       "8655      Useful   TODO implement line search much way correspon...   \n",
       "8656      Useful   Here check last execution first condition alr...   \n",
       "\n",
       "                                       Surrounding_Code  \n",
       "0      10 int re 0 9 CURL curl NULL 8 FILE hd_src NU...  \n",
       "1      2 fprintfstderr Usage lib529 url uploadfilen ...  \n",
       "2      10 multi_add_handlem curl 9 8 struct timeval ...  \n",
       "3      10 int re 0 9 CURL curl NULL 8 FILE hd_src NU...  \n",
       "4      2 fprintfstderr Usage lib529 url uploadfilen ...  \n",
       "...                                                 ...  \n",
       "8652   nan shape value derivative new p_unit point nan   \n",
       "8653   nan see making progress current step length r...  \n",
       "8654          nan Evaluate first second derivative nan   \n",
       "8655   nan TODO implement line search much way corre...  \n",
       "8656   nan Here check last execution first condition...  \n",
       "\n",
       "[8657 rows x 3 columns]"
      ]
     },
     "execution_count": 18,
     "metadata": {},
     "output_type": "execute_result"
    }
   ],
   "source": [
    "data2"
   ]
  },
  {
   "cell_type": "code",
   "execution_count": 19,
   "id": "501f8af5",
   "metadata": {},
   "outputs": [
    {
     "data": {
      "text/plain": [
       "Useful        4659\n",
       "Not Useful    3998\n",
       "Name: Class, dtype: int64"
      ]
     },
     "execution_count": 19,
     "metadata": {},
     "output_type": "execute_result"
    }
   ],
   "source": [
    "data2['Class'].value_counts()"
   ]
  },
  {
   "cell_type": "markdown",
   "id": "de449008",
   "metadata": {},
   "source": [
    "# TF_IDF"
   ]
  },
  {
   "cell_type": "code",
   "execution_count": 20,
   "id": "c1761070",
   "metadata": {},
   "outputs": [],
   "source": [
    "from sklearn.feature_extraction.text import TfidfVectorizer"
   ]
  },
  {
   "cell_type": "code",
   "execution_count": 21,
   "id": "3dadab42",
   "metadata": {},
   "outputs": [],
   "source": [
    "vectorizer= TfidfVectorizer()\n",
    "vectors= vectorizer.fit_transform(data2['Comment'])"
   ]
  },
  {
   "cell_type": "code",
   "execution_count": 22,
   "id": "8313c92e",
   "metadata": {},
   "outputs": [
    {
     "data": {
      "text/plain": [
       "<8657x7029 sparse matrix of type '<class 'numpy.float64'>'\n",
       "\twith 50602 stored elements in Compressed Sparse Row format>"
      ]
     },
     "execution_count": 22,
     "metadata": {},
     "output_type": "execute_result"
    }
   ],
   "source": [
    "vectors"
   ]
  },
  {
   "cell_type": "code",
   "execution_count": 23,
   "id": "d55ed46a",
   "metadata": {},
   "outputs": [],
   "source": [
    "# vectorizer.get_feature_names()"
   ]
  },
  {
   "cell_type": "code",
   "execution_count": 24,
   "id": "ffdf0535",
   "metadata": {},
   "outputs": [],
   "source": [
    "from sklearn import model_selection,preprocessing\n"
   ]
  },
  {
   "cell_type": "code",
   "execution_count": 25,
   "id": "ea13d017",
   "metadata": {},
   "outputs": [],
   "source": [
    "x_train,x_test,y_train,y_test= model_selection.train_test_split(vectors,data2['Class'],test_size=0.2,random_state=0)"
   ]
  },
  {
   "cell_type": "code",
   "execution_count": 26,
   "id": "07523c0e",
   "metadata": {},
   "outputs": [
    {
     "name": "stdout",
     "output_type": "stream",
     "text": [
      "(6925, 7029)\n"
     ]
    }
   ],
   "source": [
    "print(x_train.shape)"
   ]
  },
  {
   "cell_type": "code",
   "execution_count": 27,
   "id": "748952f3",
   "metadata": {},
   "outputs": [
    {
     "data": {
      "text/plain": [
       "scipy.sparse.csr.csr_matrix"
      ]
     },
     "execution_count": 27,
     "metadata": {},
     "output_type": "execute_result"
    }
   ],
   "source": [
    "type(x_train)"
   ]
  },
  {
   "cell_type": "code",
   "execution_count": 28,
   "id": "a2ac27a0",
   "metadata": {},
   "outputs": [
    {
     "data": {
      "text/plain": [
       "7457        Useful\n",
       "5456        Useful\n",
       "3894    Not Useful\n",
       "6707        Useful\n",
       "8116        Useful\n",
       "           ...    \n",
       "5771        Useful\n",
       "6524        Useful\n",
       "3214    Not Useful\n",
       "4041        Useful\n",
       "287     Not Useful\n",
       "Name: Class, Length: 1732, dtype: object"
      ]
     },
     "execution_count": 28,
     "metadata": {},
     "output_type": "execute_result"
    }
   ],
   "source": [
    "y_test"
   ]
  },
  {
   "cell_type": "code",
   "execution_count": 29,
   "id": "c3956892",
   "metadata": {},
   "outputs": [],
   "source": [
    "encoder= preprocessing.LabelEncoder()\n",
    "y_train=encoder.fit_transform(y_train)\n",
    "y_test= encoder.transform(y_test)"
   ]
  },
  {
   "cell_type": "code",
   "execution_count": 30,
   "id": "76a907d6",
   "metadata": {},
   "outputs": [
    {
     "data": {
      "text/plain": [
       "array([1, 1, 0, ..., 0, 1, 0])"
      ]
     },
     "execution_count": 30,
     "metadata": {},
     "output_type": "execute_result"
    }
   ],
   "source": [
    "y_test"
   ]
  },
  {
   "cell_type": "code",
   "execution_count": 31,
   "id": "07d4dd2d",
   "metadata": {},
   "outputs": [],
   "source": [
    "from sklearn.naive_bayes import MultinomialNB\n",
    "from sklearn import metrics"
   ]
  },
  {
   "cell_type": "code",
   "execution_count": 32,
   "id": "347993cb",
   "metadata": {},
   "outputs": [
    {
     "data": {
      "text/plain": [
       "MultinomialNB()"
      ]
     },
     "execution_count": 32,
     "metadata": {},
     "output_type": "execute_result"
    }
   ],
   "source": [
    "clf= MultinomialNB()\n",
    "clf.fit(x_train, y_train)"
   ]
  },
  {
   "cell_type": "code",
   "execution_count": 33,
   "id": "19a226a1",
   "metadata": {},
   "outputs": [],
   "source": [
    "y_pred= clf.predict(x_test)"
   ]
  },
  {
   "cell_type": "code",
   "execution_count": 34,
   "id": "394325e1",
   "metadata": {},
   "outputs": [
    {
     "data": {
      "text/plain": [
       "array([1, 1, 1, ..., 0, 1, 0])"
      ]
     },
     "execution_count": 34,
     "metadata": {},
     "output_type": "execute_result"
    }
   ],
   "source": [
    "y_pred"
   ]
  },
  {
   "cell_type": "code",
   "execution_count": 35,
   "id": "d0b9576a",
   "metadata": {},
   "outputs": [],
   "source": [
    "from sklearn.metrics import classification_report"
   ]
  },
  {
   "cell_type": "code",
   "execution_count": 36,
   "id": "f8061232",
   "metadata": {},
   "outputs": [
    {
     "name": "stdout",
     "output_type": "stream",
     "text": [
      "              precision    recall  f1-score   support\n",
      "\n",
      "           0       0.75      0.51      0.61       788\n",
      "           1       0.68      0.86      0.76       944\n",
      "\n",
      "    accuracy                           0.70      1732\n",
      "   macro avg       0.72      0.69      0.68      1732\n",
      "weighted avg       0.71      0.70      0.69      1732\n",
      "\n"
     ]
    }
   ],
   "source": [
    "print(classification_report(y_test,y_pred))"
   ]
  },
  {
   "cell_type": "code",
   "execution_count": 37,
   "id": "c3bfcc8e",
   "metadata": {},
   "outputs": [
    {
     "data": {
      "text/plain": [
       "array([1])"
      ]
     },
     "execution_count": 37,
     "metadata": {},
     "output_type": "execute_result"
    }
   ],
   "source": [
    "clf.predict(vectorizer.transform(['We have a cookie file to read from']))"
   ]
  },
  {
   "cell_type": "code",
   "execution_count": 38,
   "id": "7db2063f",
   "metadata": {},
   "outputs": [],
   "source": [
    "from matplotlib import pyplot as plt"
   ]
  },
  {
   "cell_type": "code",
   "execution_count": 39,
   "id": "cfcf7c66",
   "metadata": {},
   "outputs": [
    {
     "data": {
      "image/png": "[encoded data removed]",
      "text/plain": [
       "<Figure size 432x288 with 1 Axes>"
      ]
     },
     "metadata": {
      "needs_background": "light"
     },
     "output_type": "display_data"
    }
   ],
   "source": [
    "plt.plot(y_pred,y_test)\n",
    "plt.show()"
   ]
  },
  {
   "cell_type": "markdown",
   "id": "c29339cd",
   "metadata": {},
   "source": [
    "# Using Linear support vector machine"
   ]
  },
  {
   "cell_type": "code",
   "execution_count": 40,
   "id": "402bbc5b",
   "metadata": {},
   "outputs": [],
   "source": [
    "from sklearn import svm"
   ]
  },
  {
   "cell_type": "code",
   "execution_count": 41,
   "id": "aa8a48ac",
   "metadata": {},
   "outputs": [
    {
     "data": {
      "text/plain": [
       "SVC(gamma='auto', kernel='linear')"
      ]
     },
     "execution_count": 41,
     "metadata": {},
     "output_type": "execute_result"
    }
   ],
   "source": [
    "SVM = svm.SVC(C=1.0, kernel='linear', degree=3, gamma='auto')\n",
    "SVM.fit(x_train,y_train)"
   ]
  },
  {
   "cell_type": "code",
   "execution_count": 42,
   "id": "75c5dbe1",
   "metadata": {},
   "outputs": [],
   "source": [
    "y_pred_svm= SVM.predict(x_test)"
   ]
  },
  {
   "cell_type": "code",
   "execution_count": 43,
   "id": "8018d7b8",
   "metadata": {},
   "outputs": [],
   "source": [
    "from sklearn.metrics import accuracy_score"
   ]
  },
  {
   "cell_type": "code",
   "execution_count": 44,
   "id": "a9b6ab3e",
   "metadata": {},
   "outputs": [
    {
     "data": {
      "text/plain": [
       "0.754041570438799"
      ]
     },
     "execution_count": 44,
     "metadata": {},
     "output_type": "execute_result"
    }
   ],
   "source": [
    "accuracy_score(y_pred_svm,y_test)"
   ]
  },
  {
   "cell_type": "code",
   "execution_count": 45,
   "id": "3a39e5a9",
   "metadata": {},
   "outputs": [
    {
     "data": {
      "text/plain": [
       "array([1])"
      ]
     },
     "execution_count": 45,
     "metadata": {},
     "output_type": "execute_result"
    }
   ],
   "source": [
    "SVM.predict(vectorizer.transform(['We have a cookie file to read from']))"
   ]
  },
  {
   "cell_type": "markdown",
   "id": "be76286c",
   "metadata": {},
   "source": [
    "# preprocess the 1000 dataset\n"
   ]
  },
  {
   "cell_type": "code",
   "execution_count": 46,
   "id": "277eca51",
   "metadata": {},
   "outputs": [],
   "source": [
    "test_data=pd.read_csv('irse_1000_data')"
   ]
  },
  {
   "cell_type": "code",
   "execution_count": 47,
   "id": "bab4996c",
   "metadata": {},
   "outputs": [],
   "source": [
    "test_data.columns = test_data.columns.str.replace(' ','_')\n",
    "# data.columns"
   ]
  },
  {
   "cell_type": "code",
   "execution_count": 48,
   "id": "47a2ef0d",
   "metadata": {},
   "outputs": [],
   "source": [
    "test_data['Comm_processed']=test_data.Comments.apply(preprocess_text)\n",
    "test_data['Surrounding_Code']=test_data.Surrounding_Code_Context.apply(preprocess_text)"
   ]
  },
  {
   "cell_type": "code",
   "execution_count": 49,
   "id": "a93ca5ac",
   "metadata": {},
   "outputs": [
    {
     "data": {
      "text/html": [
       "<div>\n",
       "<style scoped>\n",
       "    .dataframe tbody tr th:only-of-type {\n",
       "        vertical-align: middle;\n",
       "    }\n",
       "\n",
       "    .dataframe tbody tr th {\n",
       "        vertical-align: top;\n",
       "    }\n",
       "\n",
       "    .dataframe thead th {\n",
       "        text-align: right;\n",
       "    }\n",
       "</style>\n",
       "<table border=\"1\" class=\"dataframe\">\n",
       "  <thead>\n",
       "    <tr style=\"text-align: right;\">\n",
       "      <th></th>\n",
       "      <th>Comments</th>\n",
       "      <th>Surrounding_Code_Context</th>\n",
       "      <th>Class</th>\n",
       "      <th>Comm_processed</th>\n",
       "      <th>Surrounding_Code</th>\n",
       "    </tr>\n",
       "  </thead>\n",
       "  <tbody>\n",
       "    <tr>\n",
       "      <th>0</th>\n",
       "      <td>/*READ_INT_FUNCTIONS*/</td>\n",
       "      <td>-5.    if (png_ptr != NULL)\\n-4.       png_war...</td>\n",
       "      <td>Not Useful</td>\n",
       "      <td>READ_INT_FUNCTIONS</td>\n",
       "      <td>5 png_ptr NULL 4 png_warningpng_ptr PNG fixed...</td>\n",
       "    </tr>\n",
       "    <tr>\n",
       "      <th>1</th>\n",
       "      <td>/*Put the chunk name into png_ptr-&gt;chunk_name.*/</td>\n",
       "      <td>-2.    png_read_data(png_ptr, buf, 8);\\n-1.   ...</td>\n",
       "      <td>Not Useful</td>\n",
       "      <td>Put chunk name png_ptrchunk_name</td>\n",
       "      <td>2 png_read_datapng_ptr buf 8 1 length png_get...</td>\n",
       "    </tr>\n",
       "    <tr>\n",
       "      <th>2</th>\n",
       "      <td>/*critical*/</td>\n",
       "      <td>-8. png_crc_read(png_structrp png_ptr, png_byt...</td>\n",
       "      <td>Not Useful</td>\n",
       "      <td>critical</td>\n",
       "      <td>8 png_crc_readpng_structrp png_ptr png_bytep ...</td>\n",
       "    </tr>\n",
       "    <tr>\n",
       "      <th>3</th>\n",
       "      <td>/*READ_iCCP|iTXt|pCAL|sCAL|sPLT|tEXt|zTXt|SEQU...</td>\n",
       "      <td>-9.       {\\n-8.          if (warn != 0)\\n-7. ...</td>\n",
       "      <td>Not Useful</td>\n",
       "      <td>READ_iCCPiTXtpCALsCALsPLTtEXtzTXtSEQUENTIAL_R...</td>\n",
       "      <td>9 8 warn 0 7 png_chunk_warningpng_ptr insuffi...</td>\n",
       "    </tr>\n",
       "    <tr>\n",
       "      <th>4</th>\n",
       "      <td>/*ZLIB_VERNUM &gt;= 0x1240*/</td>\n",
       "      <td>#if ZLIB_VERNUM &gt;= 0x1240\\n\\n/*ZLIB_VERNUM &gt;= ...</td>\n",
       "      <td>Not Useful</td>\n",
       "      <td>ZLIB_VERNUM 0x1240</td>\n",
       "      <td>ZLIB_VERNUM 0x1240 ZLIB_VERNUM 0x1240 1 int w...</td>\n",
       "    </tr>\n",
       "    <tr>\n",
       "      <th>...</th>\n",
       "      <td>...</td>\n",
       "      <td>...</td>\n",
       "      <td>...</td>\n",
       "      <td>...</td>\n",
       "      <td>...</td>\n",
       "    </tr>\n",
       "    <tr>\n",
       "      <th>996</th>\n",
       "      <td>/*The following document where the background ...</td>\n",
       "      <td>-5. #define PNG_CMAP_NONE      0\\n\\n /*The fol...</td>\n",
       "      <td>Useful</td>\n",
       "      <td>The following document background processing ...</td>\n",
       "      <td>5 define PNG_CMAP_NONE 0 The following docume...</td>\n",
       "    </tr>\n",
       "    <tr>\n",
       "      <th>997</th>\n",
       "      <td>/*Do all the *safe* initialization - 'safe' me...</td>\n",
       "      <td>-1. } png_image_read_control;\\n/* Do all the *...</td>\n",
       "      <td>Useful</td>\n",
       "      <td>Do safe initialization safe mean png_error wo...</td>\n",
       "      <td>1 png_image_read_control Do safe initializati...</td>\n",
       "    </tr>\n",
       "    <tr>\n",
       "      <th>998</th>\n",
       "      <td>/*And set the rest of the structure to NULL to...</td>\n",
       "      <td>-10.  * called from here must *not* call png_m...</td>\n",
       "      <td>Useful</td>\n",
       "      <td>And set rest structure NULL ensure various fi...</td>\n",
       "      <td>10 called must call png_malloc call png_mallo...</td>\n",
       "    </tr>\n",
       "    <tr>\n",
       "      <th>999</th>\n",
       "      <td>/*Use png_ptr here, not info_ptr, because by e...</td>\n",
       "      <td>-8. static png_uint_32\\n-7. png_image_format(p...</td>\n",
       "      <td>Useful</td>\n",
       "      <td>Use png_ptr info_ptr examination png_handle_t...</td>\n",
       "      <td>8 static png_uint_32 7 png_image_formatpng_st...</td>\n",
       "    </tr>\n",
       "    <tr>\n",
       "      <th>1000</th>\n",
       "      <td>/*Is the given gamma significantly different f...</td>\n",
       "      <td>-10.     * is unclear.\\n-9.     */\\n-8.    els...</td>\n",
       "      <td>Useful</td>\n",
       "      <td>Is given gamma significantly different sRGB T...</td>\n",
       "      <td>10 unclear 9 8 else png_ptrnum_trans 0 7 form...</td>\n",
       "    </tr>\n",
       "  </tbody>\n",
       "</table>\n",
       "<p>1001 rows × 5 columns</p>\n",
       "</div>"
      ],
      "text/plain": [
       "                                               Comments  \\\n",
       "0                                /*READ_INT_FUNCTIONS*/   \n",
       "1      /*Put the chunk name into png_ptr->chunk_name.*/   \n",
       "2                                          /*critical*/   \n",
       "3     /*READ_iCCP|iTXt|pCAL|sCAL|sPLT|tEXt|zTXt|SEQU...   \n",
       "4                             /*ZLIB_VERNUM >= 0x1240*/   \n",
       "...                                                 ...   \n",
       "996   /*The following document where the background ...   \n",
       "997   /*Do all the *safe* initialization - 'safe' me...   \n",
       "998   /*And set the rest of the structure to NULL to...   \n",
       "999   /*Use png_ptr here, not info_ptr, because by e...   \n",
       "1000  /*Is the given gamma significantly different f...   \n",
       "\n",
       "                               Surrounding_Code_Context       Class  \\\n",
       "0     -5.    if (png_ptr != NULL)\\n-4.       png_war...  Not Useful   \n",
       "1     -2.    png_read_data(png_ptr, buf, 8);\\n-1.   ...  Not Useful   \n",
       "2     -8. png_crc_read(png_structrp png_ptr, png_byt...  Not Useful   \n",
       "3     -9.       {\\n-8.          if (warn != 0)\\n-7. ...  Not Useful   \n",
       "4     #if ZLIB_VERNUM >= 0x1240\\n\\n/*ZLIB_VERNUM >= ...  Not Useful   \n",
       "...                                                 ...         ...   \n",
       "996   -5. #define PNG_CMAP_NONE      0\\n\\n /*The fol...      Useful   \n",
       "997   -1. } png_image_read_control;\\n/* Do all the *...      Useful   \n",
       "998   -10.  * called from here must *not* call png_m...      Useful   \n",
       "999   -8. static png_uint_32\\n-7. png_image_format(p...      Useful   \n",
       "1000  -10.     * is unclear.\\n-9.     */\\n-8.    els...      Useful   \n",
       "\n",
       "                                         Comm_processed  \\\n",
       "0                                   READ_INT_FUNCTIONS    \n",
       "1                     Put chunk name png_ptrchunk_name    \n",
       "2                                             critical    \n",
       "3      READ_iCCPiTXtpCALsCALsPLTtEXtzTXtSEQUENTIAL_R...   \n",
       "4                                   ZLIB_VERNUM 0x1240    \n",
       "...                                                 ...   \n",
       "996    The following document background processing ...   \n",
       "997    Do safe initialization safe mean png_error wo...   \n",
       "998    And set rest structure NULL ensure various fi...   \n",
       "999    Use png_ptr info_ptr examination png_handle_t...   \n",
       "1000   Is given gamma significantly different sRGB T...   \n",
       "\n",
       "                                       Surrounding_Code  \n",
       "0      5 png_ptr NULL 4 png_warningpng_ptr PNG fixed...  \n",
       "1      2 png_read_datapng_ptr buf 8 1 length png_get...  \n",
       "2      8 png_crc_readpng_structrp png_ptr png_bytep ...  \n",
       "3      9 8 warn 0 7 png_chunk_warningpng_ptr insuffi...  \n",
       "4      ZLIB_VERNUM 0x1240 ZLIB_VERNUM 0x1240 1 int w...  \n",
       "...                                                 ...  \n",
       "996    5 define PNG_CMAP_NONE 0 The following docume...  \n",
       "997    1 png_image_read_control Do safe initializati...  \n",
       "998    10 called must call png_malloc call png_mallo...  \n",
       "999    8 static png_uint_32 7 png_image_formatpng_st...  \n",
       "1000   10 unclear 9 8 else png_ptrnum_trans 0 7 form...  \n",
       "\n",
       "[1001 rows x 5 columns]"
      ]
     },
     "execution_count": 49,
     "metadata": {},
     "output_type": "execute_result"
    }
   ],
   "source": [
    "test_data"
   ]
  },
  {
   "cell_type": "code",
   "execution_count": 50,
   "id": "45348349",
   "metadata": {},
   "outputs": [],
   "source": [
    "test_data.drop('Comments',axis=1, inplace=True)\n",
    "test_data.drop('Surrounding_Code_Context',axis=1, inplace=True)"
   ]
  },
  {
   "cell_type": "code",
   "execution_count": 51,
   "id": "248f8f81",
   "metadata": {},
   "outputs": [
    {
     "data": {
      "text/html": [
       "<div>\n",
       "<style scoped>\n",
       "    .dataframe tbody tr th:only-of-type {\n",
       "        vertical-align: middle;\n",
       "    }\n",
       "\n",
       "    .dataframe tbody tr th {\n",
       "        vertical-align: top;\n",
       "    }\n",
       "\n",
       "    .dataframe thead th {\n",
       "        text-align: right;\n",
       "    }\n",
       "</style>\n",
       "<table border=\"1\" class=\"dataframe\">\n",
       "  <thead>\n",
       "    <tr style=\"text-align: right;\">\n",
       "      <th></th>\n",
       "      <th>Class</th>\n",
       "      <th>Comm_processed</th>\n",
       "      <th>Surrounding_Code</th>\n",
       "    </tr>\n",
       "  </thead>\n",
       "  <tbody>\n",
       "    <tr>\n",
       "      <th>0</th>\n",
       "      <td>Not Useful</td>\n",
       "      <td>READ_INT_FUNCTIONS</td>\n",
       "      <td>5 png_ptr NULL 4 png_warningpng_ptr PNG fixed...</td>\n",
       "    </tr>\n",
       "    <tr>\n",
       "      <th>1</th>\n",
       "      <td>Not Useful</td>\n",
       "      <td>Put chunk name png_ptrchunk_name</td>\n",
       "      <td>2 png_read_datapng_ptr buf 8 1 length png_get...</td>\n",
       "    </tr>\n",
       "    <tr>\n",
       "      <th>2</th>\n",
       "      <td>Not Useful</td>\n",
       "      <td>critical</td>\n",
       "      <td>8 png_crc_readpng_structrp png_ptr png_bytep ...</td>\n",
       "    </tr>\n",
       "    <tr>\n",
       "      <th>3</th>\n",
       "      <td>Not Useful</td>\n",
       "      <td>READ_iCCPiTXtpCALsCALsPLTtEXtzTXtSEQUENTIAL_R...</td>\n",
       "      <td>9 8 warn 0 7 png_chunk_warningpng_ptr insuffi...</td>\n",
       "    </tr>\n",
       "    <tr>\n",
       "      <th>4</th>\n",
       "      <td>Not Useful</td>\n",
       "      <td>ZLIB_VERNUM 0x1240</td>\n",
       "      <td>ZLIB_VERNUM 0x1240 ZLIB_VERNUM 0x1240 1 int w...</td>\n",
       "    </tr>\n",
       "    <tr>\n",
       "      <th>...</th>\n",
       "      <td>...</td>\n",
       "      <td>...</td>\n",
       "      <td>...</td>\n",
       "    </tr>\n",
       "    <tr>\n",
       "      <th>996</th>\n",
       "      <td>Useful</td>\n",
       "      <td>The following document background processing ...</td>\n",
       "      <td>5 define PNG_CMAP_NONE 0 The following docume...</td>\n",
       "    </tr>\n",
       "    <tr>\n",
       "      <th>997</th>\n",
       "      <td>Useful</td>\n",
       "      <td>Do safe initialization safe mean png_error wo...</td>\n",
       "      <td>1 png_image_read_control Do safe initializati...</td>\n",
       "    </tr>\n",
       "    <tr>\n",
       "      <th>998</th>\n",
       "      <td>Useful</td>\n",
       "      <td>And set rest structure NULL ensure various fi...</td>\n",
       "      <td>10 called must call png_malloc call png_mallo...</td>\n",
       "    </tr>\n",
       "    <tr>\n",
       "      <th>999</th>\n",
       "      <td>Useful</td>\n",
       "      <td>Use png_ptr info_ptr examination png_handle_t...</td>\n",
       "      <td>8 static png_uint_32 7 png_image_formatpng_st...</td>\n",
       "    </tr>\n",
       "    <tr>\n",
       "      <th>1000</th>\n",
       "      <td>Useful</td>\n",
       "      <td>Is given gamma significantly different sRGB T...</td>\n",
       "      <td>10 unclear 9 8 else png_ptrnum_trans 0 7 form...</td>\n",
       "    </tr>\n",
       "  </tbody>\n",
       "</table>\n",
       "<p>1001 rows × 3 columns</p>\n",
       "</div>"
      ],
      "text/plain": [
       "           Class                                     Comm_processed  \\\n",
       "0     Not Useful                                READ_INT_FUNCTIONS    \n",
       "1     Not Useful                  Put chunk name png_ptrchunk_name    \n",
       "2     Not Useful                                          critical    \n",
       "3     Not Useful   READ_iCCPiTXtpCALsCALsPLTtEXtzTXtSEQUENTIAL_R...   \n",
       "4     Not Useful                                ZLIB_VERNUM 0x1240    \n",
       "...          ...                                                ...   \n",
       "996       Useful   The following document background processing ...   \n",
       "997       Useful   Do safe initialization safe mean png_error wo...   \n",
       "998       Useful   And set rest structure NULL ensure various fi...   \n",
       "999       Useful   Use png_ptr info_ptr examination png_handle_t...   \n",
       "1000      Useful   Is given gamma significantly different sRGB T...   \n",
       "\n",
       "                                       Surrounding_Code  \n",
       "0      5 png_ptr NULL 4 png_warningpng_ptr PNG fixed...  \n",
       "1      2 png_read_datapng_ptr buf 8 1 length png_get...  \n",
       "2      8 png_crc_readpng_structrp png_ptr png_bytep ...  \n",
       "3      9 8 warn 0 7 png_chunk_warningpng_ptr insuffi...  \n",
       "4      ZLIB_VERNUM 0x1240 ZLIB_VERNUM 0x1240 1 int w...  \n",
       "...                                                 ...  \n",
       "996    5 define PNG_CMAP_NONE 0 The following docume...  \n",
       "997    1 png_image_read_control Do safe initializati...  \n",
       "998    10 called must call png_malloc call png_mallo...  \n",
       "999    8 static png_uint_32 7 png_image_formatpng_st...  \n",
       "1000   10 unclear 9 8 else png_ptrnum_trans 0 7 form...  \n",
       "\n",
       "[1001 rows x 3 columns]"
      ]
     },
     "execution_count": 51,
     "metadata": {},
     "output_type": "execute_result"
    }
   ],
   "source": [
    "test_data"
   ]
  },
  {
   "cell_type": "code",
   "execution_count": 52,
   "id": "326a133f",
   "metadata": {},
   "outputs": [
    {
     "data": {
      "text/plain": [
       "array([0])"
      ]
     },
     "execution_count": 52,
     "metadata": {},
     "output_type": "execute_result"
    }
   ],
   "source": [
    "SVM.predict(vectorizer.transform(['READ_INT_FUNCTIONS']))"
   ]
  },
  {
   "cell_type": "code",
   "execution_count": 53,
   "id": "2b3f428b",
   "metadata": {},
   "outputs": [],
   "source": [
    "test_datavectors= vectorizer.transform(test_data['Comm_processed'])"
   ]
  },
  {
   "cell_type": "code",
   "execution_count": 54,
   "id": "328a9bea",
   "metadata": {},
   "outputs": [
    {
     "data": {
      "text/plain": [
       "<1001x7029 sparse matrix of type '<class 'numpy.float64'>'\n",
       "\twith 3748 stored elements in Compressed Sparse Row format>"
      ]
     },
     "execution_count": 54,
     "metadata": {},
     "output_type": "execute_result"
    }
   ],
   "source": [
    "test_datavectors"
   ]
  },
  {
   "cell_type": "code",
   "execution_count": 55,
   "id": "3b2db1eb",
   "metadata": {},
   "outputs": [],
   "source": [
    "# test_pred=clf.predict(test_datavectors)\n",
    "test_datavectors2=test_datavectors.copy()"
   ]
  },
  {
   "cell_type": "code",
   "execution_count": 56,
   "id": "8edf0dab",
   "metadata": {},
   "outputs": [],
   "source": [
    "test_datavectors2=test_datavectors2.toarray()"
   ]
  },
  {
   "cell_type": "markdown",
   "id": "a7536043",
   "metadata": {},
   "source": [
    "# prediction using multinomialNB"
   ]
  },
  {
   "cell_type": "code",
   "execution_count": 57,
   "id": "4d02643e",
   "metadata": {},
   "outputs": [],
   "source": [
    "test_pred=clf.predict(test_datavectors2)"
   ]
  },
  {
   "cell_type": "code",
   "execution_count": 59,
   "id": "4c66a94d",
   "metadata": {},
   "outputs": [],
   "source": [
    "import numpy as np"
   ]
  },
  {
   "cell_type": "code",
   "execution_count": 66,
   "id": "1bea9532",
   "metadata": {},
   "outputs": [],
   "source": [
    "np.savetxt(\"Text_class_multiNB.csv\",test_pred, delimiter=\",\",fmt=\"%d\")"
   ]
  },
  {
   "cell_type": "code",
   "execution_count": 67,
   "id": "349dda8b",
   "metadata": {},
   "outputs": [],
   "source": [
    "y_true_test_data= encoder.transform(test_data['Class'])"
   ]
  },
  {
   "cell_type": "code",
   "execution_count": 68,
   "id": "b9e53499",
   "metadata": {},
   "outputs": [
    {
     "data": {
      "text/plain": [
       "0.6343656343656343"
      ]
     },
     "execution_count": 68,
     "metadata": {},
     "output_type": "execute_result"
    }
   ],
   "source": [
    "accuracy_score(test_pred,y_true_test_data)"
   ]
  },
  {
   "cell_type": "code",
   "execution_count": 84,
   "id": "120f688e",
   "metadata": {},
   "outputs": [
    {
     "name": "stdout",
     "output_type": "stream",
     "text": [
      "              precision    recall  f1-score   support\n",
      "\n",
      "           0       0.91      0.55      0.68       719\n",
      "           1       0.43      0.85      0.57       282\n",
      "\n",
      "    accuracy                           0.63      1001\n",
      "   macro avg       0.67      0.70      0.63      1001\n",
      "weighted avg       0.77      0.63      0.65      1001\n",
      "\n"
     ]
    }
   ],
   "source": [
    "print(classification_report(y_true_test_data,test_pred))"
   ]
  },
  {
   "cell_type": "markdown",
   "id": "69108e73",
   "metadata": {},
   "source": [
    "# prediction using linear svm"
   ]
  },
  {
   "cell_type": "code",
   "execution_count": 72,
   "id": "00cdbeaa",
   "metadata": {},
   "outputs": [],
   "source": [
    "test_pred_svm=SVM.predict(test_datavectors2)"
   ]
  },
  {
   "cell_type": "code",
   "execution_count": 74,
   "id": "352c355e",
   "metadata": {},
   "outputs": [],
   "source": [
    "np.savetxt(\"text_class_svm.csv\",test_pred_svm, delimiter=\",\",fmt=\"%d\")"
   ]
  },
  {
   "cell_type": "code",
   "execution_count": 75,
   "id": "a032aaa8",
   "metadata": {},
   "outputs": [
    {
     "data": {
      "text/plain": [
       "0.8281718281718282"
      ]
     },
     "execution_count": 75,
     "metadata": {},
     "output_type": "execute_result"
    }
   ],
   "source": [
    "accuracy_score(test_pred_svm,y_true_test_data)"
   ]
  },
  {
   "cell_type": "code",
   "execution_count": 85,
   "id": "752d360e",
   "metadata": {
    "scrolled": true
   },
   "outputs": [
    {
     "name": "stdout",
     "output_type": "stream",
     "text": [
      "              precision    recall  f1-score   support\n",
      "\n",
      "           0       0.90      0.86      0.88       719\n",
      "           1       0.68      0.75      0.71       282\n",
      "\n",
      "    accuracy                           0.83      1001\n",
      "   macro avg       0.79      0.80      0.79      1001\n",
      "weighted avg       0.84      0.83      0.83      1001\n",
      "\n"
     ]
    }
   ],
   "source": [
    "print(classification_report(y_true_test_data,test_pred_svm))"
   ]
  },
  {
   "cell_type": "markdown",
   "id": "06bdd59d",
   "metadata": {},
   "source": [
    "# Using Logistic Regression"
   ]
  },
  {
   "cell_type": "code",
   "execution_count": 77,
   "id": "d1e65b39",
   "metadata": {},
   "outputs": [],
   "source": [
    "from sklearn.linear_model import LogisticRegression"
   ]
  },
  {
   "cell_type": "code",
   "execution_count": 80,
   "id": "27aca58d",
   "metadata": {},
   "outputs": [],
   "source": [
    "LR = LogisticRegression()"
   ]
  },
  {
   "cell_type": "code",
   "execution_count": 81,
   "id": "67e23730",
   "metadata": {},
   "outputs": [
    {
     "data": {
      "text/plain": [
       "LogisticRegression()"
      ]
     },
     "execution_count": 81,
     "metadata": {},
     "output_type": "execute_result"
    }
   ],
   "source": [
    "LR.fit(x_train, y_train)"
   ]
  },
  {
   "cell_type": "code",
   "execution_count": 82,
   "id": "9750d928",
   "metadata": {},
   "outputs": [],
   "source": [
    "test_pred_LR= LR.predict(test_datavectors2)"
   ]
  },
  {
   "cell_type": "code",
   "execution_count": 83,
   "id": "00132257",
   "metadata": {},
   "outputs": [
    {
     "data": {
      "text/plain": [
       "0.8281718281718282"
      ]
     },
     "execution_count": 83,
     "metadata": {},
     "output_type": "execute_result"
    }
   ],
   "source": [
    "accuracy_score(test_pred_svm,y_true_test_data)"
   ]
  },
  {
   "cell_type": "code",
   "execution_count": 86,
   "id": "1d5335c2",
   "metadata": {},
   "outputs": [
    {
     "name": "stdout",
     "output_type": "stream",
     "text": [
      "              precision    recall  f1-score   support\n",
      "\n",
      "           0       0.89      0.87      0.88       719\n",
      "           1       0.68      0.74      0.71       282\n",
      "\n",
      "    accuracy                           0.83      1001\n",
      "   macro avg       0.79      0.80      0.80      1001\n",
      "weighted avg       0.84      0.83      0.83      1001\n",
      "\n"
     ]
    }
   ],
   "source": [
    "print(classification_report(y_true_test_data,test_pred_LR))"
   ]
  },
  {
   "cell_type": "code",
   "execution_count": 87,
   "id": "3b2f3421",
   "metadata": {},
   "outputs": [],
   "source": [
    "np.savetxt(\"text_class_LR.csv\",test_pred_LR, delimiter=\",\",fmt=\"%d\")"
   ]
  },
  {
   "cell_type": "code",
   "execution_count": null,
   "id": "8fc8d6cf",
   "metadata": {},
   "outputs": [],
   "source": []
  }
 ],
 "metadata": {
  "kernelspec": {
   "display_name": "Python 3 (ipykernel)",
   "language": "python",
   "name": "python3"
  },
  "language_info": {
   "codemirror_mode": {
    "name": "ipython",
    "version": 3
   },
   "file_extension": ".py",
   "mimetype": "text/x-python",
   "name": "python",
   "nbconvert_exporter": "python",
   "pygments_lexer": "ipython3",
   "version": "3.9.7"
  }
 },
 "nbformat": 4,
 "nbformat_minor": 5
}
