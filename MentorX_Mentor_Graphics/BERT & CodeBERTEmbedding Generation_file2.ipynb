{
 "cells": [
  {
   "cell_type": "code",
   "execution_count": 9,
   "id": "d3ef463e",
   "metadata": {},
   "outputs": [],
   "source": [
    "import pandas as pd\n",
    "import numpy as np"
   ]
  },
  {
   "cell_type": "code",
   "execution_count": 2,
   "id": "faa0d4a8",
   "metadata": {},
   "outputs": [],
   "source": [
    "data = pd.read_csv(\"IRSE_FIRE_2022_Track_Training_Data_preprocessed.csv\")"
   ]
  },
  {
   "cell_type": "code",
   "execution_count": 3,
   "id": "c419b116",
   "metadata": {
    "scrolled": true
   },
   "outputs": [
    {
     "data": {
      "text/html": [
       "<div>\n",
       "<style scoped>\n",
       "    .dataframe tbody tr th:only-of-type {\n",
       "        vertical-align: middle;\n",
       "    }\n",
       "\n",
       "    .dataframe tbody tr th {\n",
       "        vertical-align: top;\n",
       "    }\n",
       "\n",
       "    .dataframe thead th {\n",
       "        text-align: right;\n",
       "    }\n",
       "</style>\n",
       "<table border=\"1\" class=\"dataframe\">\n",
       "  <thead>\n",
       "    <tr style=\"text-align: right;\">\n",
       "      <th></th>\n",
       "      <th>Comments</th>\n",
       "      <th>Surrounding Code Context</th>\n",
       "      <th>Class</th>\n",
       "    </tr>\n",
       "  </thead>\n",
       "  <tbody>\n",
       "    <tr>\n",
       "      <th>7947</th>\n",
       "      <td>/*only count in first row, since\\nall rows sho...</td>\n",
       "      <td>-9.   size_type count = 0;\\n-8.   for (size_ty...</td>\n",
       "      <td>Useful</td>\n",
       "    </tr>\n",
       "    <tr>\n",
       "      <th>7948</th>\n",
       "      <td>/*delete old content, set block\\nsizes anew*/</td>\n",
       "      <td>-10.           MemoryConsumption::memory_consu...</td>\n",
       "      <td>Useful</td>\n",
       "    </tr>\n",
       "    <tr>\n",
       "      <th>7949</th>\n",
       "      <td>/*and finally enquire their new\\nsizes*/</td>\n",
       "      <td>collect_sizes();\\n}\\n\\n\\n\\nBlockDynamicSparsit...</td>\n",
       "      <td>Useful</td>\n",
       "    </tr>\n",
       "    <tr>\n",
       "      <th>7950</th>\n",
       "      <td>/*This file compiles a part of the instantiati...</td>\n",
       "      <td>-10. // This file is part of the deal.II libra...</td>\n",
       "      <td>Useful</td>\n",
       "    </tr>\n",
       "    <tr>\n",
       "      <th>7951</th>\n",
       "      <td>/*First, initialize the\\ngeneralized support p...</td>\n",
       "      <td>-10.                                          ...</td>\n",
       "      <td>Useful</td>\n",
       "    </tr>\n",
       "    <tr>\n",
       "      <th>...</th>\n",
       "      <td>...</td>\n",
       "      <td>...</td>\n",
       "      <td>...</td>\n",
       "    </tr>\n",
       "    <tr>\n",
       "      <th>8042</th>\n",
       "      <td>/*we need an additional DG0-node for a dim-dim...</td>\n",
       "      <td>-10.   riaf.back() = true;\\n-9.   return riaf;...</td>\n",
       "      <td>Useful</td>\n",
       "    </tr>\n",
       "    <tr>\n",
       "      <th>8043</th>\n",
       "      <td>/*vertex/line/face domination\\n(if fe_other is...</td>\n",
       "      <td>-1.       return FiniteElementDomination::no_r...</td>\n",
       "      <td>Useful</td>\n",
       "    </tr>\n",
       "    <tr>\n",
       "      <th>8044</th>\n",
       "      <td>/*there are no requirements between continuous...</td>\n",
       "      <td>-2.   if (codim &gt; 0)\\n-1.     if (dynamic_cast...</td>\n",
       "      <td>Useful</td>\n",
       "    </tr>\n",
       "    <tr>\n",
       "      <th>8045</th>\n",
       "      <td>/*vertex/line/face domination\\n(if fe_other is...</td>\n",
       "      <td>-1.       return FiniteElementDomination::no_r...</td>\n",
       "      <td>Useful</td>\n",
       "    </tr>\n",
       "    <tr>\n",
       "      <th>8046</th>\n",
       "      <td>/*the FE_Nothing has no degrees of freedom and...</td>\n",
       "      <td>-10.         return FiniteElementDomination::e...</td>\n",
       "      <td>Useful</td>\n",
       "    </tr>\n",
       "  </tbody>\n",
       "</table>\n",
       "<p>100 rows × 3 columns</p>\n",
       "</div>"
      ],
      "text/plain": [
       "                                               Comments  \\\n",
       "7947  /*only count in first row, since\\nall rows sho...   \n",
       "7948      /*delete old content, set block\\nsizes anew*/   \n",
       "7949           /*and finally enquire their new\\nsizes*/   \n",
       "7950  /*This file compiles a part of the instantiati...   \n",
       "7951  /*First, initialize the\\ngeneralized support p...   \n",
       "...                                                 ...   \n",
       "8042  /*we need an additional DG0-node for a dim-dim...   \n",
       "8043  /*vertex/line/face domination\\n(if fe_other is...   \n",
       "8044  /*there are no requirements between continuous...   \n",
       "8045  /*vertex/line/face domination\\n(if fe_other is...   \n",
       "8046  /*the FE_Nothing has no degrees of freedom and...   \n",
       "\n",
       "                               Surrounding Code Context   Class  \n",
       "7947  -9.   size_type count = 0;\\n-8.   for (size_ty...  Useful  \n",
       "7948  -10.           MemoryConsumption::memory_consu...  Useful  \n",
       "7949  collect_sizes();\\n}\\n\\n\\n\\nBlockDynamicSparsit...  Useful  \n",
       "7950  -10. // This file is part of the deal.II libra...  Useful  \n",
       "7951  -10.                                          ...  Useful  \n",
       "...                                                 ...     ...  \n",
       "8042  -10.   riaf.back() = true;\\n-9.   return riaf;...  Useful  \n",
       "8043  -1.       return FiniteElementDomination::no_r...  Useful  \n",
       "8044  -2.   if (codim > 0)\\n-1.     if (dynamic_cast...  Useful  \n",
       "8045  -1.       return FiniteElementDomination::no_r...  Useful  \n",
       "8046  -10.         return FiniteElementDomination::e...  Useful  \n",
       "\n",
       "[100 rows x 3 columns]"
      ]
     },
     "execution_count": 3,
     "metadata": {},
     "output_type": "execute_result"
    }
   ],
   "source": [
    "data.tail(100)"
   ]
  },
  {
   "cell_type": "code",
   "execution_count": 4,
   "id": "56804860",
   "metadata": {},
   "outputs": [
    {
     "name": "stdout",
     "output_type": "stream",
     "text": [
      "-10.   int res = 0;\n",
      "-9.   CURL *curl = NULL;\n",
      "-8.   FILE *hd_src = NULL;\n",
      "-7.   int hd;\n",
      "-6.   struct_stat file_info;\n",
      "-5.   CURLM *m = NULL;\n",
      "-4.   int running;\n",
      "-3.   start_test_timing();\n",
      "-2.   if(!libtest_arg2) {\n",
      "-1. #ifdef LIB529\n",
      "\n",
      "/*test 529*/\n",
      "\n",
      "1.     fprintf(stderr, \"Usage: lib529 [url] [uploadfile]\\n\");\n",
      "2. #else\n"
     ]
    }
   ],
   "source": [
    "print(data['Surrounding Code Context'][0])"
   ]
  },
  {
   "cell_type": "code",
   "execution_count": 61,
   "id": "a83cb49f",
   "metadata": {},
   "outputs": [],
   "source": [
    "import sys\n",
    "import re\n",
    "import glob\n",
    "import os\n",
    "import pickle\n",
    "import emoji\n",
    "\n",
    "def Diff(a,b):\n",
    "    return list(set(a) -set(b))\n",
    "\n",
    "def re_sub(pattern, repl,text):\n",
    "    return re.sub(pattern, repl, text)\n",
    "\n",
    "\n",
    "\n",
    "def preprocess_sent(sent):\n",
    "    sent = re.sub(r\"http\\S+\", \"\", sent)\n",
    "    sent = re.sub(r\"@\\S+\", \"@user\", sent)\n",
    "\n",
    "    #print(sent)\n",
    "    sent = re_sub(r\"[-+]?[.\\d]*[\\d]+[:,.\\d]*\", \"\",sent)\n",
    "    sent = re_sub(r\"/\", \"\",sent)\n",
    "    sent = emoji.demojize(sent)\n",
    "    sent = re_sub(r\"[:\\*]\", \" \",sent)\n",
    "    sent = re.sub(' +', ' ', sent)\n",
    "    sent = re.sub('-', ' ', sent)\n",
    "    sent = sent.split()\n",
    "    return ' '.join(sent[:200])\n",
    "\n",
    "\n",
    "# Given a C/C++ code removes all comments from it\n",
    "def removeComments(content):\n",
    "    content = re.sub(\"-|\\d+.\", \"\", content)\n",
    "    index = 0\n",
    "    comment_line_inside = False    # this is true when currently index is at a line comment (//)\n",
    "    comment_block_level = 0     # this is non-zero when currently index is in a block comment (/* */)\n",
    "    result = []   # this contains the code without the comments\n",
    "    while index < len(content):\n",
    "        # on detecting /* change comment_block_level\n",
    "        if content[index] == '/' and index + 1 < len(content) and content[index+1] == '*':\n",
    "            comment_block_level += 1\n",
    "        # on detecting */ change comment block level\n",
    "        elif content[index] == '/' and content[index-1] == '*':\n",
    "            comment_block_level -= 1\n",
    "        # on detecting // set comment_line_inside to True\n",
    "        elif content[index] == '/' and index + 1 < len(content) and content[index + 1] == '/':\n",
    "            comment_line_inside = True\n",
    "        # on detecting \\n the line comment is over, so set comment_line_inside to False\n",
    "        elif content[index] == '\\n' and comment_line_inside == True:\n",
    "            comment_line_inside = False\n",
    "        # add letters to result if currently no comment is ongoing\n",
    "        elif not comment_line_inside and comment_block_level == 0:\n",
    "            result.append(content[index])\n",
    "        index += 1\n",
    "    string = ''.join(result)\n",
    "    string = re.sub('\\t|\\n', ' ', string)\n",
    "    string = re.sub(' +', ' ', string)\n",
    "    return string"
   ]
  },
  {
   "cell_type": "code",
   "execution_count": 9,
   "id": "38affb2b",
   "metadata": {},
   "outputs": [],
   "source": [
    "def getFreq(lst):\n",
    "    temp ={}\n",
    "    for i in lst:\n",
    "        if i in temp:\n",
    "            temp[i]+=1\n",
    "        else:\n",
    "            temp[i]=1\n",
    "    return temp"
   ]
  },
  {
   "cell_type": "code",
   "execution_count": 10,
   "id": "99b38222",
   "metadata": {},
   "outputs": [
    {
     "data": {
      "text/plain": [
       "{'Not Useful': 3710, 'Useful': 4337}"
      ]
     },
     "execution_count": 10,
     "metadata": {},
     "output_type": "execute_result"
    }
   ],
   "source": [
    "getFreq(list(data['Class']))"
   ]
  },
  {
   "cell_type": "code",
   "execution_count": 17,
   "id": "09b714ee",
   "metadata": {},
   "outputs": [],
   "source": [
    "data = pd.read_csv(\"IRSE_FIRE_2022_Track_Training_Data_preprocessed.csv\")"
   ]
  },
  {
   "cell_type": "code",
   "execution_count": 18,
   "id": "0482e096",
   "metadata": {},
   "outputs": [],
   "source": [
    "postId = range(0,len(data))\n",
    "data['ids'] = postId"
   ]
  },
  {
   "cell_type": "code",
   "execution_count": 20,
   "id": "c05e63e5",
   "metadata": {},
   "outputs": [],
   "source": [
    "data.to_csv(\"train_val_soft.csv\", index = False)"
   ]
  },
  {
   "cell_type": "code",
   "execution_count": 24,
   "id": "fc8b602a",
   "metadata": {},
   "outputs": [
    {
     "data": {
      "text/html": [
       "<div>\n",
       "<style scoped>\n",
       "    .dataframe tbody tr th:only-of-type {\n",
       "        vertical-align: middle;\n",
       "    }\n",
       "\n",
       "    .dataframe tbody tr th {\n",
       "        vertical-align: top;\n",
       "    }\n",
       "\n",
       "    .dataframe thead th {\n",
       "        text-align: right;\n",
       "    }\n",
       "</style>\n",
       "<table border=\"1\" class=\"dataframe\">\n",
       "  <thead>\n",
       "    <tr style=\"text-align: right;\">\n",
       "      <th></th>\n",
       "      <th>Comments</th>\n",
       "      <th>Surrounding Code Context</th>\n",
       "      <th>Class</th>\n",
       "      <th>ids</th>\n",
       "    </tr>\n",
       "  </thead>\n",
       "  <tbody>\n",
       "    <tr>\n",
       "      <th>0</th>\n",
       "      <td>/*test 529*/</td>\n",
       "      <td>-10.   int res = 0;\\n-9.   CURL *curl = NULL;\\...</td>\n",
       "      <td>Not Useful</td>\n",
       "      <td>0</td>\n",
       "    </tr>\n",
       "    <tr>\n",
       "      <th>1</th>\n",
       "      <td>/*test 525*/</td>\n",
       "      <td>-2.     fprintf(stderr, \"Usage: lib529 [url] [...</td>\n",
       "      <td>Not Useful</td>\n",
       "      <td>1</td>\n",
       "    </tr>\n",
       "    <tr>\n",
       "      <th>2</th>\n",
       "      <td>/*done*/</td>\n",
       "      <td>-10.   multi_add_handle(m, curl);\\n-9.   for(;...</td>\n",
       "      <td>Not Useful</td>\n",
       "      <td>2</td>\n",
       "    </tr>\n",
       "    <tr>\n",
       "      <th>3</th>\n",
       "      <td>/*test 529*/</td>\n",
       "      <td>-10.   int res = 0;\\n-9.   CURL *curl = NULL;\\...</td>\n",
       "      <td>Not Useful</td>\n",
       "      <td>3</td>\n",
       "    </tr>\n",
       "    <tr>\n",
       "      <th>4</th>\n",
       "      <td>/*test 525*/</td>\n",
       "      <td>-2.     fprintf(stderr, \"Usage: lib529 [url] [...</td>\n",
       "      <td>Not Useful</td>\n",
       "      <td>4</td>\n",
       "    </tr>\n",
       "    <tr>\n",
       "      <th>...</th>\n",
       "      <td>...</td>\n",
       "      <td>...</td>\n",
       "      <td>...</td>\n",
       "      <td>...</td>\n",
       "    </tr>\n",
       "    <tr>\n",
       "      <th>8042</th>\n",
       "      <td>/*we need an additional DG0-node for a dim-dim...</td>\n",
       "      <td>-10.   riaf.back() = true;\\n-9.   return riaf;...</td>\n",
       "      <td>Useful</td>\n",
       "      <td>8042</td>\n",
       "    </tr>\n",
       "    <tr>\n",
       "      <th>8043</th>\n",
       "      <td>/*vertex/line/face domination\\n(if fe_other is...</td>\n",
       "      <td>-1.       return FiniteElementDomination::no_r...</td>\n",
       "      <td>Useful</td>\n",
       "      <td>8043</td>\n",
       "    </tr>\n",
       "    <tr>\n",
       "      <th>8044</th>\n",
       "      <td>/*there are no requirements between continuous...</td>\n",
       "      <td>-2.   if (codim &gt; 0)\\n-1.     if (dynamic_cast...</td>\n",
       "      <td>Useful</td>\n",
       "      <td>8044</td>\n",
       "    </tr>\n",
       "    <tr>\n",
       "      <th>8045</th>\n",
       "      <td>/*vertex/line/face domination\\n(if fe_other is...</td>\n",
       "      <td>-1.       return FiniteElementDomination::no_r...</td>\n",
       "      <td>Useful</td>\n",
       "      <td>8045</td>\n",
       "    </tr>\n",
       "    <tr>\n",
       "      <th>8046</th>\n",
       "      <td>/*the FE_Nothing has no degrees of freedom and...</td>\n",
       "      <td>-10.         return FiniteElementDomination::e...</td>\n",
       "      <td>Useful</td>\n",
       "      <td>8046</td>\n",
       "    </tr>\n",
       "  </tbody>\n",
       "</table>\n",
       "<p>8047 rows × 4 columns</p>\n",
       "</div>"
      ],
      "text/plain": [
       "                                               Comments  \\\n",
       "0                                          /*test 529*/   \n",
       "1                                          /*test 525*/   \n",
       "2                                              /*done*/   \n",
       "3                                          /*test 529*/   \n",
       "4                                          /*test 525*/   \n",
       "...                                                 ...   \n",
       "8042  /*we need an additional DG0-node for a dim-dim...   \n",
       "8043  /*vertex/line/face domination\\n(if fe_other is...   \n",
       "8044  /*there are no requirements between continuous...   \n",
       "8045  /*vertex/line/face domination\\n(if fe_other is...   \n",
       "8046  /*the FE_Nothing has no degrees of freedom and...   \n",
       "\n",
       "                               Surrounding Code Context       Class   ids  \n",
       "0     -10.   int res = 0;\\n-9.   CURL *curl = NULL;\\...  Not Useful     0  \n",
       "1     -2.     fprintf(stderr, \"Usage: lib529 [url] [...  Not Useful     1  \n",
       "2     -10.   multi_add_handle(m, curl);\\n-9.   for(;...  Not Useful     2  \n",
       "3     -10.   int res = 0;\\n-9.   CURL *curl = NULL;\\...  Not Useful     3  \n",
       "4     -2.     fprintf(stderr, \"Usage: lib529 [url] [...  Not Useful     4  \n",
       "...                                                 ...         ...   ...  \n",
       "8042  -10.   riaf.back() = true;\\n-9.   return riaf;...      Useful  8042  \n",
       "8043  -1.       return FiniteElementDomination::no_r...      Useful  8043  \n",
       "8044  -2.   if (codim > 0)\\n-1.     if (dynamic_cast...      Useful  8044  \n",
       "8045  -1.       return FiniteElementDomination::no_r...      Useful  8045  \n",
       "8046  -10.         return FiniteElementDomination::e...      Useful  8046  \n",
       "\n",
       "[8047 rows x 4 columns]"
      ]
     },
     "execution_count": 24,
     "metadata": {},
     "output_type": "execute_result"
    }
   ],
   "source": [
    "data"
   ]
  },
  {
   "cell_type": "code",
   "execution_count": 21,
   "id": "5fcfe0ec",
   "metadata": {},
   "outputs": [],
   "source": [
    "testData = pd.read_csv(\"IRSE_FIRE_2022_Track_Test_Data_1000.csv\")"
   ]
  },
  {
   "cell_type": "code",
   "execution_count": 26,
   "id": "acecf594",
   "metadata": {},
   "outputs": [],
   "source": [
    "postId = range(len(data), len(data)+len(testData))\n",
    "testData['ids'] = postId"
   ]
  },
  {
   "cell_type": "code",
   "execution_count": 29,
   "id": "fdc9e8ed",
   "metadata": {},
   "outputs": [],
   "source": [
    "res = pd.concat([data, testData], ignore_index=True)"
   ]
  },
  {
   "cell_type": "code",
   "execution_count": 30,
   "id": "0b11a6c5",
   "metadata": {},
   "outputs": [
    {
     "data": {
      "text/html": [
       "<div>\n",
       "<style scoped>\n",
       "    .dataframe tbody tr th:only-of-type {\n",
       "        vertical-align: middle;\n",
       "    }\n",
       "\n",
       "    .dataframe tbody tr th {\n",
       "        vertical-align: top;\n",
       "    }\n",
       "\n",
       "    .dataframe thead th {\n",
       "        text-align: right;\n",
       "    }\n",
       "</style>\n",
       "<table border=\"1\" class=\"dataframe\">\n",
       "  <thead>\n",
       "    <tr style=\"text-align: right;\">\n",
       "      <th></th>\n",
       "      <th>Comments</th>\n",
       "      <th>Surrounding Code Context</th>\n",
       "      <th>Class</th>\n",
       "      <th>ids</th>\n",
       "    </tr>\n",
       "  </thead>\n",
       "  <tbody>\n",
       "    <tr>\n",
       "      <th>0</th>\n",
       "      <td>/*test 529*/</td>\n",
       "      <td>-10.   int res = 0;\\n-9.   CURL *curl = NULL;\\...</td>\n",
       "      <td>Not Useful</td>\n",
       "      <td>0</td>\n",
       "    </tr>\n",
       "    <tr>\n",
       "      <th>1</th>\n",
       "      <td>/*test 525*/</td>\n",
       "      <td>-2.     fprintf(stderr, \"Usage: lib529 [url] [...</td>\n",
       "      <td>Not Useful</td>\n",
       "      <td>1</td>\n",
       "    </tr>\n",
       "    <tr>\n",
       "      <th>2</th>\n",
       "      <td>/*done*/</td>\n",
       "      <td>-10.   multi_add_handle(m, curl);\\n-9.   for(;...</td>\n",
       "      <td>Not Useful</td>\n",
       "      <td>2</td>\n",
       "    </tr>\n",
       "    <tr>\n",
       "      <th>3</th>\n",
       "      <td>/*test 529*/</td>\n",
       "      <td>-10.   int res = 0;\\n-9.   CURL *curl = NULL;\\...</td>\n",
       "      <td>Not Useful</td>\n",
       "      <td>3</td>\n",
       "    </tr>\n",
       "    <tr>\n",
       "      <th>4</th>\n",
       "      <td>/*test 525*/</td>\n",
       "      <td>-2.     fprintf(stderr, \"Usage: lib529 [url] [...</td>\n",
       "      <td>Not Useful</td>\n",
       "      <td>4</td>\n",
       "    </tr>\n",
       "    <tr>\n",
       "      <th>...</th>\n",
       "      <td>...</td>\n",
       "      <td>...</td>\n",
       "      <td>...</td>\n",
       "      <td>...</td>\n",
       "    </tr>\n",
       "    <tr>\n",
       "      <th>9043</th>\n",
       "      <td>/*The following document where the background ...</td>\n",
       "      <td>-5. #define PNG_CMAP_NONE      0\\n\\n /*The fol...</td>\n",
       "      <td>Useful</td>\n",
       "      <td>9043</td>\n",
       "    </tr>\n",
       "    <tr>\n",
       "      <th>9044</th>\n",
       "      <td>/*Do all the *safe* initialization - 'safe' me...</td>\n",
       "      <td>-1. } png_image_read_control;\\n/* Do all the *...</td>\n",
       "      <td>Useful</td>\n",
       "      <td>9044</td>\n",
       "    </tr>\n",
       "    <tr>\n",
       "      <th>9045</th>\n",
       "      <td>/*And set the rest of the structure to NULL to...</td>\n",
       "      <td>-10.  * called from here must *not* call png_m...</td>\n",
       "      <td>Useful</td>\n",
       "      <td>9045</td>\n",
       "    </tr>\n",
       "    <tr>\n",
       "      <th>9046</th>\n",
       "      <td>/*Use png_ptr here, not info_ptr, because by e...</td>\n",
       "      <td>-8. static png_uint_32\\n-7. png_image_format(p...</td>\n",
       "      <td>Useful</td>\n",
       "      <td>9046</td>\n",
       "    </tr>\n",
       "    <tr>\n",
       "      <th>9047</th>\n",
       "      <td>/*Is the given gamma significantly different f...</td>\n",
       "      <td>-10.     * is unclear.\\n-9.     */\\n-8.    els...</td>\n",
       "      <td>Useful</td>\n",
       "      <td>9047</td>\n",
       "    </tr>\n",
       "  </tbody>\n",
       "</table>\n",
       "<p>9048 rows × 4 columns</p>\n",
       "</div>"
      ],
      "text/plain": [
       "                                               Comments  \\\n",
       "0                                          /*test 529*/   \n",
       "1                                          /*test 525*/   \n",
       "2                                              /*done*/   \n",
       "3                                          /*test 529*/   \n",
       "4                                          /*test 525*/   \n",
       "...                                                 ...   \n",
       "9043  /*The following document where the background ...   \n",
       "9044  /*Do all the *safe* initialization - 'safe' me...   \n",
       "9045  /*And set the rest of the structure to NULL to...   \n",
       "9046  /*Use png_ptr here, not info_ptr, because by e...   \n",
       "9047  /*Is the given gamma significantly different f...   \n",
       "\n",
       "                               Surrounding Code Context       Class   ids  \n",
       "0     -10.   int res = 0;\\n-9.   CURL *curl = NULL;\\...  Not Useful     0  \n",
       "1     -2.     fprintf(stderr, \"Usage: lib529 [url] [...  Not Useful     1  \n",
       "2     -10.   multi_add_handle(m, curl);\\n-9.   for(;...  Not Useful     2  \n",
       "3     -10.   int res = 0;\\n-9.   CURL *curl = NULL;\\...  Not Useful     3  \n",
       "4     -2.     fprintf(stderr, \"Usage: lib529 [url] [...  Not Useful     4  \n",
       "...                                                 ...         ...   ...  \n",
       "9043  -5. #define PNG_CMAP_NONE      0\\n\\n /*The fol...      Useful  9043  \n",
       "9044  -1. } png_image_read_control;\\n/* Do all the *...      Useful  9044  \n",
       "9045  -10.  * called from here must *not* call png_m...      Useful  9045  \n",
       "9046  -8. static png_uint_32\\n-7. png_image_format(p...      Useful  9046  \n",
       "9047  -10.     * is unclear.\\n-9.     */\\n-8.    els...      Useful  9047  \n",
       "\n",
       "[9048 rows x 4 columns]"
      ]
     },
     "execution_count": 30,
     "metadata": {},
     "output_type": "execute_result"
    }
   ],
   "source": [
    "res"
   ]
  },
  {
   "cell_type": "code",
   "execution_count": 28,
   "id": "7748a1a4",
   "metadata": {},
   "outputs": [],
   "source": [
    "testData.to_csv(\"test_soft.csv\", index = False)"
   ]
  },
  {
   "cell_type": "code",
   "execution_count": 1,
   "id": "7834f447",
   "metadata": {},
   "outputs": [],
   "source": [
    "import torch\n",
    "from transformers import RobertaTokenizer, RobertaConfig, RobertaModel\n",
    "\n",
    "tokenizer = RobertaTokenizer.from_pretrained(\"microsoft/codebert-base\")\n",
    "model = RobertaModel.from_pretrained(\"microsoft/codebert-base\")\n",
    "#model.to(device)"
   ]
  },
  {
   "cell_type": "code",
   "execution_count": 40,
   "id": "aa72ed45",
   "metadata": {},
   "outputs": [
    {
     "name": "stderr",
     "output_type": "stream",
     "text": [
      "100%|██████████| 9048/9048 [15:48<00:00,  9.54it/s]\n"
     ]
    }
   ],
   "source": [
    "codeMap ={}\n",
    "from tqdm import tqdm\n",
    "for index, row in tqdm(res.iterrows(), total = res.shape[0]):\n",
    "    if row['ids'] in codeMap:\n",
    "        continue\n",
    "    procCode  = removeComments(row['Surrounding Code Context'])\n",
    "    code_tokens=tokenizer.tokenize(procCode)\n",
    "    tokens=[tokenizer.cls_token]+code_tokens+[tokenizer.sep_token]\n",
    "    tokens_ids=tokenizer.convert_tokens_to_ids(tokens)[:300]\n",
    "    context_embeddings=model(torch.tensor(tokens_ids)[None,:])[0]\n",
    "    codeMap[row['ids']] = context_embeddings[0][0].detach().numpy()"
   ]
  },
  {
   "cell_type": "code",
   "execution_count": 42,
   "id": "02dafb7a",
   "metadata": {},
   "outputs": [],
   "source": [
    "import pickle\n",
    "with open(\"code_bert_embedding.p\", 'wb') as fp:\n",
    "    pickle.dump(codeMap,fp)"
   ]
  },
  {
   "cell_type": "code",
   "execution_count": 43,
   "id": "17435e5d",
   "metadata": {},
   "outputs": [
    {
     "name": "stderr",
     "output_type": "stream",
     "text": [
      "Some weights of the model checkpoint at ./BERTBASED/ were not used when initializing BertModel: ['classifier.weight', 'classifier.bias']\n",
      "- This IS expected if you are initializing BertModel from the checkpoint of a model trained on another task or with another architecture (e.g. initializing a BertForSequenceClassification model from a BertForPreTraining model).\n",
      "- This IS NOT expected if you are initializing BertModel from the checkpoint of a model that you expect to be exactly identical (initializing a BertForSequenceClassification model from a BertForSequenceClassification model).\n"
     ]
    }
   ],
   "source": [
    "from transformers import BertTokenizer, BertModel\n",
    "tokenizer = BertTokenizer.from_pretrained('./BERTBASED/')\n",
    "model = BertModel.from_pretrained(\"./BERTBASED/\")"
   ]
  },
  {
   "cell_type": "code",
   "execution_count": 62,
   "id": "36ce7d53",
   "metadata": {},
   "outputs": [
    {
     "name": "stderr",
     "output_type": "stream",
     "text": [
      "100%|██████████| 9048/9048 [03:10<00:00, 47.46it/s]   \n"
     ]
    }
   ],
   "source": [
    "mBERTEmbedding ={}\n",
    "\n",
    "from tqdm import tqdm\n",
    "for index, row in tqdm(res.iterrows(), total = res.shape[0]):\n",
    "    if row['ids'] in mBERTEmbedding:\n",
    "        continue\n",
    "    new_sentence = preprocess_sent(row['Comments'])\n",
    "    encoded_input = tokenizer(new_sentence, return_tensors='pt')\n",
    "    output = model(**encoded_input).last_hidden_state\n",
    "    mBERTEmbedding[row['ids']] = output[0][0].detach().numpy()\n",
    "    del(output)"
   ]
  },
  {
   "cell_type": "code",
   "execution_count": 64,
   "id": "4aa3b418",
   "metadata": {},
   "outputs": [],
   "source": [
    "import pickle\n",
    "with open(\"text_bert_embedding.p\", 'wb') as fp:\n",
    "    pickle.dump(mBERTEmbedding,fp)"
   ]
  }
 ],
 "metadata": {
  "kernelspec": {
   "display_name": "hate_meme",
   "language": "python",
   "name": "hate_meme"
  },
  "language_info": {
   "codemirror_mode": {
    "name": "ipython",
    "version": 3
   },
   "file_extension": ".py",
   "mimetype": "text/x-python",
   "name": "python",
   "nbconvert_exporter": "python",
   "pygments_lexer": "ipython3",
   "version": "3.6.13"
  }
 },
 "nbformat": 4,
 "nbformat_minor": 5
}
